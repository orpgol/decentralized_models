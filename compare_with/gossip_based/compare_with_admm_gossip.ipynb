{
 "cells": [
  {
   "cell_type": "code",
   "execution_count": 1,
   "metadata": {},
   "outputs": [],
   "source": [
    "from __future__ import print_function\n",
    "import numpy as np\n",
    "import argparse\n",
    "import torch\n",
    "import torch.nn.functional as F\n",
    "from optimizer import PruneAdam\n",
    "from model import LeNet, AlexNet\n",
    "from utils import regularized_nll_loss, admm_loss, \\\n",
    "    initialize_Z_and_U, update_X, update_Z, update_Z_l1, update_U, \\\n",
    "    print_convergence, print_prune, apply_prune, apply_l1_prune\n",
    "from torchvision import datasets, transforms, models\n",
    "from tqdm import tqdm\n",
    "from Fed import FedAvg\n",
    "import copy\n",
    "\n",
    "from torch.utils.tensorboard import SummaryWriter\n",
    "%load_ext tensorboard"
   ]
  },
  {
   "cell_type": "code",
   "execution_count": 2,
   "metadata": {},
   "outputs": [],
   "source": [
    "# Training settings\n",
    "parser = argparse.ArgumentParser(description='PyTorch MNIST Example')\n",
    "parser.add_argument('--dataset', type=str, default=\"cifar10\", choices=[\"mnist\", \"cifar10\"],\n",
    "                    metavar='D', help='training dataset (mnist or cifar10)')\n",
    "parser.add_argument('--batch-size', type=int, default=64, metavar='N',\n",
    "                    help='input batch size for training (default: 64)')\n",
    "parser.add_argument('--test-batch-size', type=int, default=1000, metavar='N',\n",
    "                    help='input batch size for testing (default: 1000)')\n",
    "parser.add_argument('--percent', type=list, default=[0.8, 0.92, 0.991, 0.93],\n",
    "                    metavar='P', help='pruning percentage (default: 0.8)')\n",
    "parser.add_argument('--alpha', type=float, default=5e-4, metavar='L',\n",
    "                    help='l2 norm weight (default: 5e-4)')\n",
    "parser.add_argument('--rho', type=float, default=1e-2, metavar='R',\n",
    "                    help='cardinality weight (default: 1e-2)')\n",
    "parser.add_argument('--l1', default=False, action='store_true',\n",
    "                    help='prune weights with l1 regularization instead of cardinality')\n",
    "parser.add_argument('--l2', default=False, action='store_true',\n",
    "                    help='apply l2 regularization')\n",
    "parser.add_argument('--num_pre_epochs', type=int, default=3, metavar='P',\n",
    "                    help='number of epochs to pretrain (default: 3)')\n",
    "parser.add_argument('--num_epochs', type=int, default=10, metavar='N',\n",
    "                    help='number of epochs to train (default: 10)')\n",
    "parser.add_argument('--num_re_epochs', type=int, default=3, metavar='R',\n",
    "                    help='number of epochs to retrain (default: 3)')\n",
    "parser.add_argument('--lr', type=float, default=1e-3, metavar='LR',\n",
    "                    help='learning rate (default: 1e-2)')\n",
    "parser.add_argument('--adam_epsilon', type=float, default=1e-8, metavar='E',\n",
    "                    help='adam epsilon (default: 1e-8)')\n",
    "parser.add_argument('--no-cuda', action='store_true', default=False,\n",
    "                    help='disables CUDA training')\n",
    "parser.add_argument('--seed', type=int, default=1, metavar='S',\n",
    "                    help='random seed (default: 1)')\n",
    "parser.add_argument('--save-model', action='store_true', default=False,\n",
    "                    help='For Saving the current Model')\n",
    "parser.add_argument('--num_users', action='store_true', default=1,\n",
    "                    help='Number of users in network')\n",
    "parser.add_argument('--model', action='store_true', default='resnet',\n",
    "                    help='Model to train')\n",
    "args = parser.parse_args(args=[])"
   ]
  },
  {
   "cell_type": "code",
   "execution_count": 3,
   "metadata": {},
   "outputs": [],
   "source": [
    "classDict = {'plane':0, 'car':1, 'bird':2, 'cat':3, 'deer':4, 'dog':5, 'frog':6, 'horse':7, 'ship':8, 'truck':9}\n",
    "\n",
    "# Define a function to separate CIFAR classes by class index\n",
    "\n",
    "def get_class_i(x, y, i):\n",
    "    \"\"\"\n",
    "    x: trainset.train_data or testset.test_data\n",
    "    y: trainset.train_labels or testset.test_labels\n",
    "    i: class label, a number between 0 to 9\n",
    "    return: x_i\n",
    "    \"\"\"\n",
    "    # Convert to a numpy array\n",
    "    y = np.array(y)\n",
    "    # Locate position of labels that equal to i\n",
    "    pos_i = np.argwhere(y == i)\n",
    "    # Convert the result into a 1-D list\n",
    "    pos_i = list(pos_i[:,0])\n",
    "    # Collect all data that match the desired label\n",
    "#     x_i = [x[j] for j in pos_i]\n",
    "    \n",
    "    return pos_i"
   ]
  },
  {
   "cell_type": "code",
   "execution_count": 4,
   "metadata": {},
   "outputs": [],
   "source": [
    "def create_dict(dataset_train):\n",
    "    \n",
    "    frac = int(len(dataset_train.data) * 0.05)\n",
    "    x_reserve = dataset_train.data[:frac]\n",
    "    y_reserve = dataset_train.targets[:frac]\n",
    "    x_train = dataset_train.data[frac:]\n",
    "    y_train = dataset_train.targets[frac:]\n",
    "    \n",
    "    reserved = get_class_i(x_reserve, y_reserve, classDict['plane']) \\\n",
    "               +get_class_i(x_reserve, y_reserve, classDict['car']) \\\n",
    "               +get_class_i(x_reserve, y_reserve, classDict['bird']) \\\n",
    "               +get_class_i(x_reserve, y_reserve, classDict['cat']) \\\n",
    "               +get_class_i(x_reserve, y_reserve, classDict['deer']) \\\n",
    "               +get_class_i(x_reserve, y_reserve, classDict['dog']) \\\n",
    "               +get_class_i(x_reserve, y_reserve, classDict['frog']) \\\n",
    "               +get_class_i(x_reserve, y_reserve, classDict['horse']) \\\n",
    "               +get_class_i(x_reserve, y_reserve, classDict['ship']) \\\n",
    "               +get_class_i(x_reserve, y_reserve, classDict['truck'])\n",
    "\n",
    "    train1 = get_class_i(x_train, y_train, classDict['plane']) \\\n",
    "             +get_class_i(x_train, y_train, classDict['car']) \\\n",
    "             +get_class_i(x_train, y_train, classDict['bird'])\n",
    "\n",
    "    train2 = get_class_i(x_train, y_train, classDict['cat']) \\\n",
    "             +get_class_i(x_train, y_train, classDict['deer']) \\\n",
    "             +get_class_i(x_train, y_train, classDict['dog'])\n",
    "    train3 = get_class_i(x_train, y_train, classDict['frog']) \\\n",
    "             +get_class_i(x_train, y_train, classDict['horse']) \\\n",
    "             +get_class_i(x_train, y_train, classDict['ship']) \\\n",
    "             +get_class_i(x_train, y_train, classDict['truck'])\n",
    "    \n",
    "    dict_users = {0: set(reserved+train3), 1:set(train1), 2:set(train2)}\n",
    "    return dict_users\n",
    "\n",
    "class DatasetSplit(torch.utils.data.Dataset):\n",
    "    def __init__(self, dataset, idxs):\n",
    "        self.dataset = dataset\n",
    "        self.idxs = list(idxs)\n",
    "\n",
    "    def __len__(self):\n",
    "        return len(self.idxs)\n",
    "\n",
    "    def __getitem__(self, item):\n",
    "        image, label = self.dataset[self.idxs[item]]\n",
    "        return image, label"
   ]
  },
  {
   "cell_type": "code",
   "execution_count": 5,
   "metadata": {},
   "outputs": [],
   "source": [
    "def pretrain(args, model, device, train_loader, test_loader, optimizer):\n",
    "    for epoch in range(args.num_pre_epochs):\n",
    "        print('Pre epoch: {}'.format(epoch + 1))\n",
    "        model.train()\n",
    "        for batch_idx, (data, target) in enumerate(tqdm(train_loader)):\n",
    "            data, target = data.to(device), target.to(device)\n",
    "            optimizer.zero_grad()\n",
    "            output = model(data)\n",
    "            loss = regularized_nll_loss(args, model, output, target)\n",
    "            loss.backward()\n",
    "            optimizer.step()\n",
    "        test(args, model, device, test_loader)\n",
    "\n",
    "\n",
    "def train(args, model, device, train_loader, test_loader, optimizer, Z, U, report=False):\n",
    "    model.train()\n",
    "    print('Epoch: {}'.format(epoch + 1))\n",
    "    for batch_idx, (data, target) in enumerate(tqdm(train_loader)):\n",
    "        data, target = data.to(device), target.to(device)\n",
    "        optimizer.zero_grad()\n",
    "        output = model(data)\n",
    "        loss = admm_loss(args, device, model, Z, U, output, target)\n",
    "        loss.backward()\n",
    "        optimizer.step()\n",
    "    X = update_X(model)\n",
    "    Z = update_Z_l1(X, U, args) if args.l1 else update_Z(X, U, args)\n",
    "    U = update_U(U, X, Z)\n",
    "    print_convergence(model, X, Z)\n",
    "    test(args, model, device, test_loader, report)\n",
    "\n",
    "\n",
    "iter = 0\n",
    "def test(args, model, device, test_loader, report=False):\n",
    "    model.eval()\n",
    "    test_loss = 0\n",
    "    correct = 0\n",
    "    global iter\n",
    "    with torch.no_grad():\n",
    "        for data, target in test_loader:\n",
    "            data, target = data.to(device), target.to(device)\n",
    "            output = model(data)\n",
    "            test_loss += F.nll_loss(output, target, reduction='sum').item() # sum up batch loss\n",
    "            pred = output.argmax(dim=1, keepdim=True) # get the index of the max log-probability\n",
    "            correct += pred.eq(target.view_as(pred)).sum().item()\n",
    "\n",
    "    test_loss /= len(test_loader.dataset)\n",
    "\n",
    "    print('\\nTest set: Average loss: {:.4f}, Accuracy: {}/{} ({:.0f}%)\\n'.format(\n",
    "        test_loss, correct, len(test_loader.dataset),\n",
    "        100. * correct / len(test_loader.dataset)))\n",
    "    \n",
    "    if report:\n",
    "        writer.add_scalar('train/loss_gossip_admm4', test_loss, iter)\n",
    "        writer.add_scalar('valid/accuracy_gossip_admm4', correct / len(test_loader.dataset), iter)\n",
    "        iter+=1\n",
    "\n",
    "\n",
    "def retrain(args, model, mask, device, train_loader, test_loader, optimizer):\n",
    "    for epoch in range(args.num_re_epochs):\n",
    "        print('Re epoch: {}'.format(epoch + 1))\n",
    "        model.train()\n",
    "        for batch_idx, (data, target) in enumerate(tqdm(train_loader)):\n",
    "            data, target = data.to(device), target.to(device)\n",
    "            optimizer.zero_grad()\n",
    "            output = model(data)\n",
    "            loss = F.nll_loss(output, target)\n",
    "            loss.backward()\n",
    "            optimizer.prune_step(mask)\n",
    "\n",
    "        test(args, model, device, test_loader)"
   ]
  },
  {
   "cell_type": "code",
   "execution_count": 6,
   "metadata": {},
   "outputs": [
    {
     "name": "stdout",
     "output_type": "stream",
     "text": [
      "Files already downloaded and verified\n",
      "Files already downloaded and verified\n"
     ]
    }
   ],
   "source": [
    "### MAIN\n",
    "\n",
    "writer = SummaryWriter('../../runs/') \n",
    "use_cuda = not args.no_cuda and torch.cuda.is_available()\n",
    "torch.manual_seed(args.seed)\n",
    "device = torch.device(\"cuda\" if use_cuda else \"cpu\")\n",
    "kwargs = {'num_workers': 1, 'pin_memory': True} if use_cuda else {}\n",
    "\n",
    "args.percent = [0.8, 0.92, 0.93, 0.94, 0.95, 0.99, 0.99, 0.93]\n",
    "args.num_pre_epochs = 3\n",
    "args.num_epochs = 125\n",
    "args.num_re_epochs = 5\n",
    "args.num_users = 3\n",
    "args.dataset = 'cifar10'\n",
    "args.model = 'alex'\n",
    "args.l1 = True\n",
    "args.l2 = False\n",
    "\n",
    "trainset = datasets.CIFAR10('data', train=True, download=True,\n",
    "                         transform=transforms.Compose([\n",
    "                             transforms.ToTensor(),\n",
    "                             transforms.Normalize((0.49139968, 0.48215827, 0.44653124),\n",
    "                                                  (0.24703233, 0.24348505, 0.26158768))\n",
    "                         ]))\n",
    "dict_users = create_dict(trainset)\n",
    "\n",
    "test_loader = torch.utils.data.DataLoader(\n",
    "    datasets.CIFAR10('data', train=False, download=True,\n",
    "                     transform=transforms.Compose([\n",
    "                         transforms.ToTensor(),\n",
    "                         transforms.Normalize((0.49139968, 0.48215827, 0.44653124),\n",
    "                                              (0.24703233, 0.24348505, 0.26158768))\n",
    "                     ])), shuffle=True, batch_size=args.test_batch_size, **kwargs)"
   ]
  },
  {
   "cell_type": "code",
   "execution_count": 7,
   "metadata": {},
   "outputs": [
    {
     "name": "stderr",
     "output_type": "stream",
     "text": [
      "  0%|          | 0/320 [00:00<?, ?it/s]"
     ]
    },
    {
     "name": "stdout",
     "output_type": "stream",
     "text": [
      "Pre epoch: 1\n"
     ]
    },
    {
     "name": "stderr",
     "output_type": "stream",
     "text": [
      "100%|██████████| 320/320 [00:09<00:00, 32.96it/s]\n",
      "  0%|          | 0/320 [00:00<?, ?it/s]"
     ]
    },
    {
     "name": "stdout",
     "output_type": "stream",
     "text": [
      "\n",
      "Test set: Average loss: 1.7212, Accuracy: 3303/10000 (33%)\n",
      "\n",
      "Pre epoch: 2\n"
     ]
    },
    {
     "name": "stderr",
     "output_type": "stream",
     "text": [
      "100%|██████████| 320/320 [00:09<00:00, 34.03it/s]\n",
      "  0%|          | 0/320 [00:00<?, ?it/s]"
     ]
    },
    {
     "name": "stdout",
     "output_type": "stream",
     "text": [
      "\n",
      "Test set: Average loss: 1.3760, Accuracy: 4976/10000 (50%)\n",
      "\n",
      "Pre epoch: 3\n"
     ]
    },
    {
     "name": "stderr",
     "output_type": "stream",
     "text": [
      "100%|██████████| 320/320 [00:09<00:00, 33.87it/s]\n"
     ]
    },
    {
     "name": "stdout",
     "output_type": "stream",
     "text": [
      "\n",
      "Test set: Average loss: 1.2656, Accuracy: 5450/10000 (54%)\n",
      "\n"
     ]
    },
    {
     "name": "stderr",
     "output_type": "stream",
     "text": [
      "  0%|          | 0/223 [00:00<?, ?it/s]"
     ]
    },
    {
     "name": "stdout",
     "output_type": "stream",
     "text": [
      "Pre epoch: 1\n"
     ]
    },
    {
     "name": "stderr",
     "output_type": "stream",
     "text": [
      "100%|██████████| 223/223 [00:06<00:00, 34.85it/s]\n",
      "  0%|          | 0/223 [00:00<?, ?it/s]"
     ]
    },
    {
     "name": "stdout",
     "output_type": "stream",
     "text": [
      "\n",
      "Test set: Average loss: 1.7352, Accuracy: 3288/10000 (33%)\n",
      "\n",
      "Pre epoch: 2\n"
     ]
    },
    {
     "name": "stderr",
     "output_type": "stream",
     "text": [
      "100%|██████████| 223/223 [00:06<00:00, 33.40it/s]\n",
      "  0%|          | 0/223 [00:00<?, ?it/s]"
     ]
    },
    {
     "name": "stdout",
     "output_type": "stream",
     "text": [
      "\n",
      "Test set: Average loss: 1.4950, Accuracy: 4249/10000 (42%)\n",
      "\n",
      "Pre epoch: 3\n"
     ]
    },
    {
     "name": "stderr",
     "output_type": "stream",
     "text": [
      "100%|██████████| 223/223 [00:06<00:00, 34.21it/s]\n"
     ]
    },
    {
     "name": "stdout",
     "output_type": "stream",
     "text": [
      "\n",
      "Test set: Average loss: 1.3776, Accuracy: 4931/10000 (49%)\n",
      "\n"
     ]
    },
    {
     "name": "stderr",
     "output_type": "stream",
     "text": [
      "  0%|          | 0/223 [00:00<?, ?it/s]"
     ]
    },
    {
     "name": "stdout",
     "output_type": "stream",
     "text": [
      "Pre epoch: 1\n"
     ]
    },
    {
     "name": "stderr",
     "output_type": "stream",
     "text": [
      "100%|██████████| 223/223 [00:06<00:00, 34.63it/s]\n",
      "  0%|          | 0/223 [00:00<?, ?it/s]"
     ]
    },
    {
     "name": "stdout",
     "output_type": "stream",
     "text": [
      "\n",
      "Test set: Average loss: 1.6896, Accuracy: 3171/10000 (32%)\n",
      "\n",
      "Pre epoch: 2\n"
     ]
    },
    {
     "name": "stderr",
     "output_type": "stream",
     "text": [
      "100%|██████████| 223/223 [00:06<00:00, 33.88it/s]\n",
      "  0%|          | 0/223 [00:00<?, ?it/s]"
     ]
    },
    {
     "name": "stdout",
     "output_type": "stream",
     "text": [
      "\n",
      "Test set: Average loss: 1.4810, Accuracy: 4374/10000 (44%)\n",
      "\n",
      "Pre epoch: 3\n"
     ]
    },
    {
     "name": "stderr",
     "output_type": "stream",
     "text": [
      "100%|██████████| 223/223 [00:06<00:00, 34.18it/s]\n",
      "  0%|          | 0/320 [00:00<?, ?it/s]"
     ]
    },
    {
     "name": "stdout",
     "output_type": "stream",
     "text": [
      "\n",
      "Test set: Average loss: 1.3359, Accuracy: 5047/10000 (50%)\n",
      "\n",
      "Epoch: 1\n"
     ]
    },
    {
     "name": "stderr",
     "output_type": "stream",
     "text": [
      "100%|██████████| 320/320 [00:28<00:00, 11.28it/s]\n"
     ]
    },
    {
     "name": "stdout",
     "output_type": "stream",
     "text": [
      "normalized norm of (weight - projection)\n",
      "(features.0.weight): 0.3968\n",
      "(features.3.weight): 0.8672\n",
      "(features.6.weight): 0.8712\n",
      "(features.8.weight): 0.8799\n",
      "(features.10.weight): 0.8947\n",
      "(classifier.1.weight): 0.9052\n",
      "(classifier.4.weight): 0.9611\n",
      "(classifier.6.weight): 0.9439\n"
     ]
    },
    {
     "name": "stderr",
     "output_type": "stream",
     "text": [
      "  0%|          | 0/223 [00:00<?, ?it/s]"
     ]
    },
    {
     "name": "stdout",
     "output_type": "stream",
     "text": [
      "\n",
      "Test set: Average loss: 1.2266, Accuracy: 5595/10000 (56%)\n",
      "\n",
      "Epoch: 1\n"
     ]
    },
    {
     "name": "stderr",
     "output_type": "stream",
     "text": [
      "100%|██████████| 223/223 [00:19<00:00, 11.13it/s]\n"
     ]
    },
    {
     "name": "stdout",
     "output_type": "stream",
     "text": [
      "normalized norm of (weight - projection)\n",
      "(features.0.weight): 0.3991\n",
      "(features.3.weight): 0.9142\n",
      "(features.6.weight): 0.9174\n",
      "(features.8.weight): 0.9124\n",
      "(features.10.weight): 0.9288\n",
      "(classifier.1.weight): 0.9339\n",
      "(classifier.4.weight): 0.9725\n",
      "(classifier.6.weight): 0.9580\n"
     ]
    },
    {
     "name": "stderr",
     "output_type": "stream",
     "text": [
      "  0%|          | 0/223 [00:00<?, ?it/s]"
     ]
    },
    {
     "name": "stdout",
     "output_type": "stream",
     "text": [
      "\n",
      "Test set: Average loss: 1.2977, Accuracy: 5281/10000 (53%)\n",
      "\n",
      "Epoch: 2\n"
     ]
    },
    {
     "name": "stderr",
     "output_type": "stream",
     "text": [
      "100%|██████████| 223/223 [00:18<00:00, 11.55it/s]\n"
     ]
    },
    {
     "name": "stdout",
     "output_type": "stream",
     "text": [
      "normalized norm of (weight - projection)\n",
      "(features.0.weight): 0.5125\n",
      "(features.3.weight): 0.9384\n",
      "(features.6.weight): 0.9578\n",
      "(features.8.weight): 0.9650\n",
      "(features.10.weight): 0.9702\n",
      "(classifier.1.weight): 0.9573\n",
      "(classifier.4.weight): 0.9811\n",
      "(classifier.6.weight): 0.9498\n"
     ]
    },
    {
     "name": "stderr",
     "output_type": "stream",
     "text": [
      "  0%|          | 0/223 [00:00<?, ?it/s]"
     ]
    },
    {
     "name": "stdout",
     "output_type": "stream",
     "text": [
      "\n",
      "Test set: Average loss: 1.5797, Accuracy: 3787/10000 (38%)\n",
      "\n",
      "Epoch: 2\n"
     ]
    },
    {
     "name": "stderr",
     "output_type": "stream",
     "text": [
      "100%|██████████| 223/223 [00:20<00:00, 11.74it/s]\n"
     ]
    },
    {
     "name": "stdout",
     "output_type": "stream",
     "text": [
      "normalized norm of (weight - projection)\n",
      "(features.0.weight): 0.4060\n",
      "(features.3.weight): 0.8989\n",
      "(features.6.weight): 0.9104\n",
      "(features.8.weight): 0.9142\n",
      "(features.10.weight): 0.9303\n",
      "(classifier.1.weight): 0.9350\n",
      "(classifier.4.weight): 0.9762\n",
      "(classifier.6.weight): 0.9683\n"
     ]
    },
    {
     "name": "stderr",
     "output_type": "stream",
     "text": [
      "  0%|          | 0/223 [00:00<?, ?it/s]"
     ]
    },
    {
     "name": "stdout",
     "output_type": "stream",
     "text": [
      "\n",
      "Test set: Average loss: 1.3353, Accuracy: 5195/10000 (52%)\n",
      "\n",
      "Epoch: 3\n"
     ]
    },
    {
     "name": "stderr",
     "output_type": "stream",
     "text": [
      "100%|██████████| 223/223 [00:19<00:00, 11.26it/s]\n"
     ]
    },
    {
     "name": "stdout",
     "output_type": "stream",
     "text": [
      "normalized norm of (weight - projection)\n",
      "(features.0.weight): 0.5762\n",
      "(features.3.weight): 0.9518\n",
      "(features.6.weight): 0.9531\n",
      "(features.8.weight): 0.9619\n",
      "(features.10.weight): 0.9697\n",
      "(classifier.1.weight): 0.9642\n",
      "(classifier.4.weight): 0.9841\n",
      "(classifier.6.weight): 0.9599\n"
     ]
    },
    {
     "name": "stderr",
     "output_type": "stream",
     "text": [
      "  0%|          | 0/223 [00:00<?, ?it/s]"
     ]
    },
    {
     "name": "stdout",
     "output_type": "stream",
     "text": [
      "\n",
      "Test set: Average loss: 1.6416, Accuracy: 3931/10000 (39%)\n",
      "\n",
      "Epoch: 3\n"
     ]
    },
    {
     "name": "stderr",
     "output_type": "stream",
     "text": [
      "100%|██████████| 223/223 [00:19<00:00, 11.16it/s]\n"
     ]
    },
    {
     "name": "stdout",
     "output_type": "stream",
     "text": [
      "normalized norm of (weight - projection)\n",
      "(features.0.weight): 0.5810\n",
      "(features.3.weight): 0.9466\n",
      "(features.6.weight): 0.9706\n",
      "(features.8.weight): 0.9744\n",
      "(features.10.weight): 0.9776\n",
      "(classifier.1.weight): 0.9667\n",
      "(classifier.4.weight): 0.9830\n",
      "(classifier.6.weight): 0.9517\n"
     ]
    },
    {
     "name": "stderr",
     "output_type": "stream",
     "text": [
      "  0%|          | 0/320 [00:00<?, ?it/s]"
     ]
    },
    {
     "name": "stdout",
     "output_type": "stream",
     "text": [
      "\n",
      "Test set: Average loss: 1.7193, Accuracy: 3354/10000 (34%)\n",
      "\n",
      "Epoch: 4\n"
     ]
    },
    {
     "name": "stderr",
     "output_type": "stream",
     "text": [
      "100%|██████████| 320/320 [00:27<00:00, 11.45it/s]\n"
     ]
    },
    {
     "name": "stdout",
     "output_type": "stream",
     "text": [
      "normalized norm of (weight - projection)\n",
      "(features.0.weight): 0.5127\n",
      "(features.3.weight): 0.9185\n",
      "(features.6.weight): 0.9206\n",
      "(features.8.weight): 0.9384\n",
      "(features.10.weight): 0.9483\n",
      "(classifier.1.weight): 0.9374\n",
      "(classifier.4.weight): 0.9693\n",
      "(classifier.6.weight): 0.9501\n"
     ]
    },
    {
     "name": "stderr",
     "output_type": "stream",
     "text": [
      "  0%|          | 0/223 [00:00<?, ?it/s]"
     ]
    },
    {
     "name": "stdout",
     "output_type": "stream",
     "text": [
      "\n",
      "Test set: Average loss: 1.3942, Accuracy: 4878/10000 (49%)\n",
      "\n",
      "Epoch: 4\n"
     ]
    },
    {
     "name": "stderr",
     "output_type": "stream",
     "text": [
      "100%|██████████| 223/223 [00:20<00:00, 11.07it/s]\n"
     ]
    },
    {
     "name": "stdout",
     "output_type": "stream",
     "text": [
      "normalized norm of (weight - projection)\n",
      "(features.0.weight): 0.5726\n",
      "(features.3.weight): 0.9395\n",
      "(features.6.weight): 0.9631\n",
      "(features.8.weight): 0.9645\n",
      "(features.10.weight): 0.9689\n",
      "(classifier.1.weight): 0.9611\n",
      "(classifier.4.weight): 0.9812\n",
      "(classifier.6.weight): 0.9219\n"
     ]
    },
    {
     "name": "stderr",
     "output_type": "stream",
     "text": [
      "  0%|          | 0/223 [00:00<?, ?it/s]"
     ]
    },
    {
     "name": "stdout",
     "output_type": "stream",
     "text": [
      "\n",
      "Test set: Average loss: 1.4828, Accuracy: 4357/10000 (44%)\n",
      "\n",
      "Epoch: 5\n"
     ]
    },
    {
     "name": "stderr",
     "output_type": "stream",
     "text": [
      "100%|██████████| 223/223 [00:20<00:00, 10.21it/s]\n"
     ]
    },
    {
     "name": "stdout",
     "output_type": "stream",
     "text": [
      "normalized norm of (weight - projection)\n",
      "(features.0.weight): 0.5691\n",
      "(features.3.weight): 0.9498\n",
      "(features.6.weight): 0.9641\n",
      "(features.8.weight): 0.9694\n",
      "(features.10.weight): 0.9714\n",
      "(classifier.1.weight): 0.9616\n",
      "(classifier.4.weight): 0.9842\n",
      "(classifier.6.weight): 0.9341\n"
     ]
    },
    {
     "name": "stderr",
     "output_type": "stream",
     "text": [
      "  0%|          | 0/320 [00:00<?, ?it/s]"
     ]
    },
    {
     "name": "stdout",
     "output_type": "stream",
     "text": [
      "\n",
      "Test set: Average loss: 1.4319, Accuracy: 4642/10000 (46%)\n",
      "\n",
      "Epoch: 5\n"
     ]
    },
    {
     "name": "stderr",
     "output_type": "stream",
     "text": [
      "100%|██████████| 320/320 [00:28<00:00, 11.25it/s]\n"
     ]
    },
    {
     "name": "stdout",
     "output_type": "stream",
     "text": [
      "normalized norm of (weight - projection)\n",
      "(features.0.weight): 0.5815\n",
      "(features.3.weight): 0.9247\n",
      "(features.6.weight): 0.9440\n",
      "(features.8.weight): 0.9493\n",
      "(features.10.weight): 0.9541\n",
      "(classifier.1.weight): 0.9434\n",
      "(classifier.4.weight): 0.9705\n",
      "(classifier.6.weight): 0.9270\n"
     ]
    },
    {
     "name": "stderr",
     "output_type": "stream",
     "text": [
      "  0%|          | 0/223 [00:00<?, ?it/s]"
     ]
    },
    {
     "name": "stdout",
     "output_type": "stream",
     "text": [
      "\n",
      "Test set: Average loss: 1.3378, Accuracy: 5148/10000 (51%)\n",
      "\n",
      "Epoch: 6\n"
     ]
    },
    {
     "name": "stderr",
     "output_type": "stream",
     "text": [
      "100%|██████████| 223/223 [00:20<00:00, 10.75it/s]\n"
     ]
    },
    {
     "name": "stdout",
     "output_type": "stream",
     "text": [
      "normalized norm of (weight - projection)\n",
      "(features.0.weight): 0.5813\n",
      "(features.3.weight): 0.9299\n",
      "(features.6.weight): 0.9551\n",
      "(features.8.weight): 0.9666\n",
      "(features.10.weight): 0.9690\n",
      "(classifier.1.weight): 0.9610\n",
      "(classifier.4.weight): 0.9848\n",
      "(classifier.6.weight): 0.9228\n"
     ]
    },
    {
     "name": "stderr",
     "output_type": "stream",
     "text": [
      "  0%|          | 0/223 [00:00<?, ?it/s]"
     ]
    },
    {
     "name": "stdout",
     "output_type": "stream",
     "text": [
      "\n",
      "Test set: Average loss: 1.4060, Accuracy: 4809/10000 (48%)\n",
      "\n",
      "Epoch: 6\n"
     ]
    },
    {
     "name": "stderr",
     "output_type": "stream",
     "text": [
      "100%|██████████| 223/223 [00:19<00:00, 11.76it/s]\n"
     ]
    },
    {
     "name": "stdout",
     "output_type": "stream",
     "text": [
      "normalized norm of (weight - projection)\n",
      "(features.0.weight): 0.5881\n",
      "(features.3.weight): 0.9439\n",
      "(features.6.weight): 0.9513\n",
      "(features.8.weight): 0.9625\n",
      "(features.10.weight): 0.9676\n",
      "(classifier.1.weight): 0.9604\n",
      "(classifier.4.weight): 0.9808\n",
      "(classifier.6.weight): 0.9314\n"
     ]
    },
    {
     "name": "stderr",
     "output_type": "stream",
     "text": [
      "  0%|          | 0/223 [00:00<?, ?it/s]"
     ]
    },
    {
     "name": "stdout",
     "output_type": "stream",
     "text": [
      "\n",
      "Test set: Average loss: 1.4555, Accuracy: 4612/10000 (46%)\n",
      "\n",
      "Epoch: 7\n"
     ]
    },
    {
     "name": "stderr",
     "output_type": "stream",
     "text": [
      "100%|██████████| 223/223 [00:20<00:00, 11.03it/s]\n"
     ]
    },
    {
     "name": "stdout",
     "output_type": "stream",
     "text": [
      "normalized norm of (weight - projection)\n",
      "(features.0.weight): 0.5816\n",
      "(features.3.weight): 0.9335\n",
      "(features.6.weight): 0.9586\n",
      "(features.8.weight): 0.9665\n",
      "(features.10.weight): 0.9706\n",
      "(classifier.1.weight): 0.9657\n",
      "(classifier.4.weight): 0.9852\n",
      "(classifier.6.weight): 0.9144\n"
     ]
    },
    {
     "name": "stderr",
     "output_type": "stream",
     "text": [
      "  0%|          | 0/223 [00:00<?, ?it/s]"
     ]
    },
    {
     "name": "stdout",
     "output_type": "stream",
     "text": [
      "\n",
      "Test set: Average loss: 1.2801, Accuracy: 5297/10000 (53%)\n",
      "\n",
      "Epoch: 7\n"
     ]
    },
    {
     "name": "stderr",
     "output_type": "stream",
     "text": [
      "100%|██████████| 223/223 [00:19<00:00, 11.30it/s]\n"
     ]
    },
    {
     "name": "stdout",
     "output_type": "stream",
     "text": [
      "normalized norm of (weight - projection)\n",
      "(features.0.weight): 0.5806\n",
      "(features.3.weight): 0.9320\n",
      "(features.6.weight): 0.9506\n",
      "(features.8.weight): 0.9626\n",
      "(features.10.weight): 0.9691\n",
      "(classifier.1.weight): 0.9633\n",
      "(classifier.4.weight): 0.9819\n",
      "(classifier.6.weight): 0.9091\n"
     ]
    },
    {
     "name": "stderr",
     "output_type": "stream",
     "text": [
      "  0%|          | 0/320 [00:00<?, ?it/s]"
     ]
    },
    {
     "name": "stdout",
     "output_type": "stream",
     "text": [
      "\n",
      "Test set: Average loss: 1.3920, Accuracy: 4800/10000 (48%)\n",
      "\n",
      "Epoch: 8\n"
     ]
    },
    {
     "name": "stderr",
     "output_type": "stream",
     "text": [
      "100%|██████████| 320/320 [00:28<00:00, 11.38it/s]\n"
     ]
    },
    {
     "name": "stdout",
     "output_type": "stream",
     "text": [
      "normalized norm of (weight - projection)\n",
      "(features.0.weight): 0.5781\n",
      "(features.3.weight): 0.9196\n",
      "(features.6.weight): 0.9437\n",
      "(features.8.weight): 0.9520\n",
      "(features.10.weight): 0.9579\n",
      "(classifier.1.weight): 0.9452\n",
      "(classifier.4.weight): 0.9708\n",
      "(classifier.6.weight): 0.9165\n"
     ]
    },
    {
     "name": "stderr",
     "output_type": "stream",
     "text": [
      "  0%|          | 0/223 [00:00<?, ?it/s]"
     ]
    },
    {
     "name": "stdout",
     "output_type": "stream",
     "text": [
      "\n",
      "Test set: Average loss: 1.2926, Accuracy: 5319/10000 (53%)\n",
      "\n",
      "Epoch: 8\n"
     ]
    },
    {
     "name": "stderr",
     "output_type": "stream",
     "text": [
      "100%|██████████| 223/223 [00:19<00:00, 11.49it/s]\n"
     ]
    },
    {
     "name": "stdout",
     "output_type": "stream",
     "text": [
      "normalized norm of (weight - projection)\n",
      "(features.0.weight): 0.5704\n",
      "(features.3.weight): 0.9229\n",
      "(features.6.weight): 0.9457\n",
      "(features.8.weight): 0.9579\n",
      "(features.10.weight): 0.9681\n",
      "(classifier.1.weight): 0.9639\n",
      "(classifier.4.weight): 0.9809\n",
      "(classifier.6.weight): 0.8986\n"
     ]
    },
    {
     "name": "stderr",
     "output_type": "stream",
     "text": [
      "  0%|          | 0/320 [00:00<?, ?it/s]"
     ]
    },
    {
     "name": "stdout",
     "output_type": "stream",
     "text": [
      "\n",
      "Test set: Average loss: 1.2110, Accuracy: 5637/10000 (56%)\n",
      "\n",
      "Epoch: 9\n"
     ]
    },
    {
     "name": "stderr",
     "output_type": "stream",
     "text": [
      "100%|██████████| 320/320 [00:28<00:00, 11.41it/s]\n"
     ]
    },
    {
     "name": "stdout",
     "output_type": "stream",
     "text": [
      "normalized norm of (weight - projection)\n",
      "(features.0.weight): 0.5614\n",
      "(features.3.weight): 0.9069\n",
      "(features.6.weight): 0.9355\n",
      "(features.8.weight): 0.9462\n",
      "(features.10.weight): 0.9532\n",
      "(classifier.1.weight): 0.9451\n",
      "(classifier.4.weight): 0.9696\n",
      "(classifier.6.weight): 0.8964\n"
     ]
    },
    {
     "name": "stderr",
     "output_type": "stream",
     "text": [
      "  0%|          | 0/223 [00:00<?, ?it/s]"
     ]
    },
    {
     "name": "stdout",
     "output_type": "stream",
     "text": [
      "\n",
      "Test set: Average loss: 1.1861, Accuracy: 5753/10000 (58%)\n",
      "\n",
      "Epoch: 9\n"
     ]
    },
    {
     "name": "stderr",
     "output_type": "stream",
     "text": [
      "100%|██████████| 223/223 [00:20<00:00, 11.01it/s]\n"
     ]
    },
    {
     "name": "stdout",
     "output_type": "stream",
     "text": [
      "normalized norm of (weight - projection)\n",
      "(features.0.weight): 0.5654\n",
      "(features.3.weight): 0.9228\n",
      "(features.6.weight): 0.9467\n",
      "(features.8.weight): 0.9582\n",
      "(features.10.weight): 0.9674\n",
      "(classifier.1.weight): 0.9614\n",
      "(classifier.4.weight): 0.9802\n",
      "(classifier.6.weight): 0.8946\n"
     ]
    },
    {
     "name": "stderr",
     "output_type": "stream",
     "text": [
      "  0%|          | 0/223 [00:00<?, ?it/s]"
     ]
    },
    {
     "name": "stdout",
     "output_type": "stream",
     "text": [
      "\n",
      "Test set: Average loss: 1.1810, Accuracy: 5741/10000 (57%)\n",
      "\n",
      "Epoch: 10\n"
     ]
    },
    {
     "name": "stderr",
     "output_type": "stream",
     "text": [
      "100%|██████████| 223/223 [00:19<00:00, 11.34it/s]\n"
     ]
    },
    {
     "name": "stdout",
     "output_type": "stream",
     "text": [
      "normalized norm of (weight - projection)\n",
      "(features.0.weight): 0.5702\n",
      "(features.3.weight): 0.9160\n",
      "(features.6.weight): 0.9475\n",
      "(features.8.weight): 0.9602\n",
      "(features.10.weight): 0.9685\n",
      "(classifier.1.weight): 0.9654\n",
      "(classifier.4.weight): 0.9841\n",
      "(classifier.6.weight): 0.9030\n"
     ]
    },
    {
     "name": "stderr",
     "output_type": "stream",
     "text": [
      "  0%|          | 0/223 [00:00<?, ?it/s]"
     ]
    },
    {
     "name": "stdout",
     "output_type": "stream",
     "text": [
      "\n",
      "Test set: Average loss: 1.2712, Accuracy: 5269/10000 (53%)\n",
      "\n",
      "Epoch: 10\n"
     ]
    },
    {
     "name": "stderr",
     "output_type": "stream",
     "text": [
      "100%|██████████| 223/223 [00:20<00:00, 10.88it/s]\n"
     ]
    },
    {
     "name": "stdout",
     "output_type": "stream",
     "text": [
      "normalized norm of (weight - projection)\n",
      "(features.0.weight): 0.5546\n",
      "(features.3.weight): 0.9082\n",
      "(features.6.weight): 0.9331\n",
      "(features.8.weight): 0.9491\n",
      "(features.10.weight): 0.9609\n",
      "(classifier.1.weight): 0.9611\n",
      "(classifier.4.weight): 0.9792\n",
      "(classifier.6.weight): 0.8738\n"
     ]
    },
    {
     "name": "stderr",
     "output_type": "stream",
     "text": [
      "  0%|          | 0/223 [00:00<?, ?it/s]"
     ]
    },
    {
     "name": "stdout",
     "output_type": "stream",
     "text": [
      "\n",
      "Test set: Average loss: 1.1976, Accuracy: 5757/10000 (58%)\n",
      "\n",
      "Epoch: 11\n"
     ]
    },
    {
     "name": "stderr",
     "output_type": "stream",
     "text": [
      "100%|██████████| 223/223 [00:19<00:00, 11.34it/s]\n"
     ]
    },
    {
     "name": "stdout",
     "output_type": "stream",
     "text": [
      "normalized norm of (weight - projection)\n",
      "(features.0.weight): 0.5534\n",
      "(features.3.weight): 0.9062\n",
      "(features.6.weight): 0.9370\n",
      "(features.8.weight): 0.9511\n",
      "(features.10.weight): 0.9636\n",
      "(classifier.1.weight): 0.9621\n",
      "(classifier.4.weight): 0.9783\n",
      "(classifier.6.weight): 0.8743\n"
     ]
    },
    {
     "name": "stderr",
     "output_type": "stream",
     "text": [
      "  0%|          | 0/320 [00:00<?, ?it/s]"
     ]
    },
    {
     "name": "stdout",
     "output_type": "stream",
     "text": [
      "\n",
      "Test set: Average loss: 1.1351, Accuracy: 5975/10000 (60%)\n",
      "\n",
      "Epoch: 11\n"
     ]
    },
    {
     "name": "stderr",
     "output_type": "stream",
     "text": [
      "100%|██████████| 320/320 [00:28<00:00, 11.40it/s]\n"
     ]
    },
    {
     "name": "stdout",
     "output_type": "stream",
     "text": [
      "normalized norm of (weight - projection)\n",
      "(features.0.weight): 0.5514\n",
      "(features.3.weight): 0.8933\n",
      "(features.6.weight): 0.9252\n",
      "(features.8.weight): 0.9389\n",
      "(features.10.weight): 0.9499\n",
      "(classifier.1.weight): 0.9415\n",
      "(classifier.4.weight): 0.9675\n",
      "(classifier.6.weight): 0.8858\n"
     ]
    },
    {
     "name": "stderr",
     "output_type": "stream",
     "text": [
      "  0%|          | 0/320 [00:00<?, ?it/s]"
     ]
    },
    {
     "name": "stdout",
     "output_type": "stream",
     "text": [
      "\n",
      "Test set: Average loss: 1.1630, Accuracy: 5875/10000 (59%)\n",
      "\n",
      "Epoch: 12\n"
     ]
    },
    {
     "name": "stderr",
     "output_type": "stream",
     "text": [
      "100%|██████████| 320/320 [00:29<00:00, 10.98it/s]\n"
     ]
    },
    {
     "name": "stdout",
     "output_type": "stream",
     "text": [
      "normalized norm of (weight - projection)\n",
      "(features.0.weight): 0.5415\n",
      "(features.3.weight): 0.8815\n",
      "(features.6.weight): 0.9140\n",
      "(features.8.weight): 0.9316\n",
      "(features.10.weight): 0.9447\n",
      "(classifier.1.weight): 0.9401\n",
      "(classifier.4.weight): 0.9671\n",
      "(classifier.6.weight): 0.8733\n"
     ]
    },
    {
     "name": "stderr",
     "output_type": "stream",
     "text": [
      "  0%|          | 0/223 [00:00<?, ?it/s]"
     ]
    },
    {
     "name": "stdout",
     "output_type": "stream",
     "text": [
      "\n",
      "Test set: Average loss: 1.1097, Accuracy: 6157/10000 (62%)\n",
      "\n",
      "Epoch: 12\n"
     ]
    },
    {
     "name": "stderr",
     "output_type": "stream",
     "text": [
      "100%|██████████| 223/223 [00:18<00:00, 11.57it/s]\n"
     ]
    },
    {
     "name": "stdout",
     "output_type": "stream",
     "text": [
      "normalized norm of (weight - projection)\n",
      "(features.0.weight): 0.5542\n",
      "(features.3.weight): 0.9032\n",
      "(features.6.weight): 0.9348\n",
      "(features.8.weight): 0.9521\n",
      "(features.10.weight): 0.9646\n",
      "(classifier.1.weight): 0.9648\n",
      "(classifier.4.weight): 0.9835\n",
      "(classifier.6.weight): 0.8830\n"
     ]
    },
    {
     "name": "stderr",
     "output_type": "stream",
     "text": [
      "  0%|          | 0/223 [00:00<?, ?it/s]"
     ]
    },
    {
     "name": "stdout",
     "output_type": "stream",
     "text": [
      "\n",
      "Test set: Average loss: 1.1286, Accuracy: 5976/10000 (60%)\n",
      "\n",
      "Epoch: 13\n"
     ]
    },
    {
     "name": "stderr",
     "output_type": "stream",
     "text": [
      "100%|██████████| 223/223 [00:18<00:00, 10.92it/s]\n"
     ]
    },
    {
     "name": "stdout",
     "output_type": "stream",
     "text": [
      "normalized norm of (weight - projection)\n",
      "(features.0.weight): 0.5446\n",
      "(features.3.weight): 0.8951\n",
      "(features.6.weight): 0.9257\n",
      "(features.8.weight): 0.9430\n",
      "(features.10.weight): 0.9592\n",
      "(classifier.1.weight): 0.9605\n",
      "(classifier.4.weight): 0.9775\n",
      "(classifier.6.weight): 0.8615\n"
     ]
    },
    {
     "name": "stderr",
     "output_type": "stream",
     "text": [
      "  0%|          | 0/320 [00:00<?, ?it/s]"
     ]
    },
    {
     "name": "stdout",
     "output_type": "stream",
     "text": [
      "\n",
      "Test set: Average loss: 1.1567, Accuracy: 5858/10000 (59%)\n",
      "\n",
      "Epoch: 13\n"
     ]
    },
    {
     "name": "stderr",
     "output_type": "stream",
     "text": [
      "100%|██████████| 320/320 [00:27<00:00, 11.40it/s]\n"
     ]
    },
    {
     "name": "stdout",
     "output_type": "stream",
     "text": [
      "normalized norm of (weight - projection)\n",
      "(features.0.weight): 0.5373\n",
      "(features.3.weight): 0.8789\n",
      "(features.6.weight): 0.9126\n",
      "(features.8.weight): 0.9291\n",
      "(features.10.weight): 0.9426\n",
      "(classifier.1.weight): 0.9385\n",
      "(classifier.4.weight): 0.9665\n",
      "(classifier.6.weight): 0.8659\n"
     ]
    },
    {
     "name": "stderr",
     "output_type": "stream",
     "text": [
      "  0%|          | 0/223 [00:00<?, ?it/s]"
     ]
    },
    {
     "name": "stdout",
     "output_type": "stream",
     "text": [
      "\n",
      "Test set: Average loss: 1.0740, Accuracy: 6251/10000 (63%)\n",
      "\n",
      "Epoch: 14\n"
     ]
    },
    {
     "name": "stderr",
     "output_type": "stream",
     "text": [
      "100%|██████████| 223/223 [00:18<00:00, 12.26it/s]\n"
     ]
    },
    {
     "name": "stdout",
     "output_type": "stream",
     "text": [
      "normalized norm of (weight - projection)\n",
      "(features.0.weight): 0.5407\n",
      "(features.3.weight): 0.8802\n",
      "(features.6.weight): 0.9153\n",
      "(features.8.weight): 0.9441\n",
      "(features.10.weight): 0.9598\n",
      "(classifier.1.weight): 0.9625\n",
      "(classifier.4.weight): 0.9824\n",
      "(classifier.6.weight): 0.8605\n"
     ]
    },
    {
     "name": "stderr",
     "output_type": "stream",
     "text": [
      "  0%|          | 0/320 [00:00<?, ?it/s]"
     ]
    },
    {
     "name": "stdout",
     "output_type": "stream",
     "text": [
      "\n",
      "Test set: Average loss: 1.0669, Accuracy: 6247/10000 (62%)\n",
      "\n",
      "Epoch: 14\n"
     ]
    },
    {
     "name": "stderr",
     "output_type": "stream",
     "text": [
      "100%|██████████| 320/320 [00:26<00:00, 11.32it/s]\n"
     ]
    },
    {
     "name": "stdout",
     "output_type": "stream",
     "text": [
      "normalized norm of (weight - projection)\n",
      "(features.0.weight): 0.5313\n",
      "(features.3.weight): 0.8685\n",
      "(features.6.weight): 0.9054\n",
      "(features.8.weight): 0.9222\n",
      "(features.10.weight): 0.9374\n",
      "(classifier.1.weight): 0.9353\n",
      "(classifier.4.weight): 0.9650\n",
      "(classifier.6.weight): 0.8588\n"
     ]
    },
    {
     "name": "stderr",
     "output_type": "stream",
     "text": [
      "  0%|          | 0/223 [00:00<?, ?it/s]"
     ]
    },
    {
     "name": "stdout",
     "output_type": "stream",
     "text": [
      "\n",
      "Test set: Average loss: 1.1003, Accuracy: 6277/10000 (63%)\n",
      "\n",
      "Epoch: 15\n"
     ]
    },
    {
     "name": "stderr",
     "output_type": "stream",
     "text": [
      "100%|██████████| 223/223 [00:18<00:00, 11.27it/s]\n"
     ]
    },
    {
     "name": "stdout",
     "output_type": "stream",
     "text": [
      "normalized norm of (weight - projection)\n",
      "(features.0.weight): 0.5341\n",
      "(features.3.weight): 0.8827\n",
      "(features.6.weight): 0.9131\n",
      "(features.8.weight): 0.9354\n",
      "(features.10.weight): 0.9533\n",
      "(classifier.1.weight): 0.9592\n",
      "(classifier.4.weight): 0.9769\n",
      "(classifier.6.weight): 0.8493\n"
     ]
    },
    {
     "name": "stderr",
     "output_type": "stream",
     "text": [
      "  0%|          | 0/223 [00:00<?, ?it/s]"
     ]
    },
    {
     "name": "stdout",
     "output_type": "stream",
     "text": [
      "\n",
      "Test set: Average loss: 1.0514, Accuracy: 6388/10000 (64%)\n",
      "\n",
      "Epoch: 15\n"
     ]
    },
    {
     "name": "stderr",
     "output_type": "stream",
     "text": [
      "100%|██████████| 223/223 [00:18<00:00, 11.96it/s]\n"
     ]
    },
    {
     "name": "stdout",
     "output_type": "stream",
     "text": [
      "normalized norm of (weight - projection)\n",
      "(features.0.weight): 0.5303\n",
      "(features.3.weight): 0.8663\n",
      "(features.6.weight): 0.9026\n",
      "(features.8.weight): 0.9356\n",
      "(features.10.weight): 0.9553\n",
      "(classifier.1.weight): 0.9617\n",
      "(classifier.4.weight): 0.9818\n",
      "(classifier.6.weight): 0.8460\n"
     ]
    },
    {
     "name": "stderr",
     "output_type": "stream",
     "text": [
      "  0%|          | 0/223 [00:00<?, ?it/s]"
     ]
    },
    {
     "name": "stdout",
     "output_type": "stream",
     "text": [
      "\n",
      "Test set: Average loss: 1.0369, Accuracy: 6301/10000 (63%)\n",
      "\n",
      "Epoch: 16\n"
     ]
    },
    {
     "name": "stderr",
     "output_type": "stream",
     "text": [
      "100%|██████████| 223/223 [00:20<00:00, 10.93it/s]\n"
     ]
    },
    {
     "name": "stdout",
     "output_type": "stream",
     "text": [
      "normalized norm of (weight - projection)\n",
      "(features.0.weight): 0.5259\n",
      "(features.3.weight): 0.8605\n",
      "(features.6.weight): 0.8995\n",
      "(features.8.weight): 0.9316\n",
      "(features.10.weight): 0.9528\n",
      "(classifier.1.weight): 0.9618\n",
      "(classifier.4.weight): 0.9808\n",
      "(classifier.6.weight): 0.8401\n"
     ]
    },
    {
     "name": "stderr",
     "output_type": "stream",
     "text": [
      "  0%|          | 0/223 [00:00<?, ?it/s]"
     ]
    },
    {
     "name": "stdout",
     "output_type": "stream",
     "text": [
      "\n",
      "Test set: Average loss: 1.0665, Accuracy: 6225/10000 (62%)\n",
      "\n",
      "Epoch: 16\n"
     ]
    },
    {
     "name": "stderr",
     "output_type": "stream",
     "text": [
      "100%|██████████| 223/223 [00:19<00:00, 11.85it/s]\n"
     ]
    },
    {
     "name": "stdout",
     "output_type": "stream",
     "text": [
      "normalized norm of (weight - projection)\n",
      "(features.0.weight): 0.5252\n",
      "(features.3.weight): 0.8678\n",
      "(features.6.weight): 0.9002\n",
      "(features.8.weight): 0.9288\n",
      "(features.10.weight): 0.9500\n",
      "(classifier.1.weight): 0.9584\n",
      "(classifier.4.weight): 0.9758\n",
      "(classifier.6.weight): 0.8405\n"
     ]
    },
    {
     "name": "stderr",
     "output_type": "stream",
     "text": [
      "  0%|          | 0/223 [00:00<?, ?it/s]"
     ]
    },
    {
     "name": "stdout",
     "output_type": "stream",
     "text": [
      "\n",
      "Test set: Average loss: 1.0132, Accuracy: 6492/10000 (65%)\n",
      "\n",
      "Epoch: 17\n"
     ]
    },
    {
     "name": "stderr",
     "output_type": "stream",
     "text": [
      "100%|██████████| 223/223 [00:19<00:00, 11.15it/s]\n"
     ]
    },
    {
     "name": "stdout",
     "output_type": "stream",
     "text": [
      "normalized norm of (weight - projection)\n",
      "(features.0.weight): 0.5187\n",
      "(features.3.weight): 0.8493\n",
      "(features.6.weight): 0.8882\n",
      "(features.8.weight): 0.9253\n",
      "(features.10.weight): 0.9503\n",
      "(classifier.1.weight): 0.9611\n",
      "(classifier.4.weight): 0.9802\n",
      "(classifier.6.weight): 0.8318\n"
     ]
    },
    {
     "name": "stderr",
     "output_type": "stream",
     "text": [
      "  0%|          | 0/320 [00:00<?, ?it/s]"
     ]
    },
    {
     "name": "stdout",
     "output_type": "stream",
     "text": [
      "\n",
      "Test set: Average loss: 1.0010, Accuracy: 6537/10000 (65%)\n",
      "\n",
      "Epoch: 17\n"
     ]
    },
    {
     "name": "stderr",
     "output_type": "stream",
     "text": [
      "100%|██████████| 320/320 [00:27<00:00, 11.16it/s]\n"
     ]
    },
    {
     "name": "stdout",
     "output_type": "stream",
     "text": [
      "normalized norm of (weight - projection)\n",
      "(features.0.weight): 0.5277\n",
      "(features.3.weight): 0.8634\n",
      "(features.6.weight): 0.9002\n",
      "(features.8.weight): 0.9183\n",
      "(features.10.weight): 0.9342\n",
      "(classifier.1.weight): 0.9327\n",
      "(classifier.4.weight): 0.9643\n",
      "(classifier.6.weight): 0.8576\n"
     ]
    },
    {
     "name": "stderr",
     "output_type": "stream",
     "text": [
      "  0%|          | 0/223 [00:00<?, ?it/s]"
     ]
    },
    {
     "name": "stdout",
     "output_type": "stream",
     "text": [
      "\n",
      "Test set: Average loss: 1.0341, Accuracy: 6458/10000 (65%)\n",
      "\n",
      "Epoch: 18\n"
     ]
    },
    {
     "name": "stderr",
     "output_type": "stream",
     "text": [
      "100%|██████████| 223/223 [00:19<00:00, 11.43it/s]\n"
     ]
    },
    {
     "name": "stdout",
     "output_type": "stream",
     "text": [
      "normalized norm of (weight - projection)\n",
      "(features.0.weight): 0.5197\n",
      "(features.3.weight): 0.8560\n",
      "(features.6.weight): 0.8907\n",
      "(features.8.weight): 0.9235\n",
      "(features.10.weight): 0.9474\n",
      "(classifier.1.weight): 0.9552\n",
      "(classifier.4.weight): 0.9748\n",
      "(classifier.6.weight): 0.8366\n"
     ]
    },
    {
     "name": "stderr",
     "output_type": "stream",
     "text": [
      "  0%|          | 0/223 [00:00<?, ?it/s]"
     ]
    },
    {
     "name": "stdout",
     "output_type": "stream",
     "text": [
      "\n",
      "Test set: Average loss: 1.0259, Accuracy: 6414/10000 (64%)\n",
      "\n",
      "Epoch: 18\n"
     ]
    },
    {
     "name": "stderr",
     "output_type": "stream",
     "text": [
      "100%|██████████| 223/223 [00:19<00:00, 11.23it/s]\n"
     ]
    },
    {
     "name": "stdout",
     "output_type": "stream",
     "text": [
      "normalized norm of (weight - projection)\n",
      "(features.0.weight): 0.5166\n",
      "(features.3.weight): 0.8479\n",
      "(features.6.weight): 0.8885\n",
      "(features.8.weight): 0.9247\n",
      "(features.10.weight): 0.9483\n",
      "(classifier.1.weight): 0.9601\n",
      "(classifier.4.weight): 0.9800\n",
      "(classifier.6.weight): 0.8292\n"
     ]
    },
    {
     "name": "stderr",
     "output_type": "stream",
     "text": [
      "  0%|          | 0/223 [00:00<?, ?it/s]"
     ]
    },
    {
     "name": "stdout",
     "output_type": "stream",
     "text": [
      "\n",
      "Test set: Average loss: 1.0263, Accuracy: 6465/10000 (65%)\n",
      "\n",
      "Epoch: 19\n"
     ]
    },
    {
     "name": "stderr",
     "output_type": "stream",
     "text": [
      "100%|██████████| 223/223 [00:19<00:00, 11.19it/s]\n"
     ]
    },
    {
     "name": "stdout",
     "output_type": "stream",
     "text": [
      "normalized norm of (weight - projection)\n",
      "(features.0.weight): 0.5140\n",
      "(features.3.weight): 0.8453\n",
      "(features.6.weight): 0.8821\n",
      "(features.8.weight): 0.9157\n",
      "(features.10.weight): 0.9411\n",
      "(classifier.1.weight): 0.9543\n",
      "(classifier.4.weight): 0.9747\n",
      "(classifier.6.weight): 0.8248\n"
     ]
    },
    {
     "name": "stderr",
     "output_type": "stream",
     "text": [
      "  0%|          | 0/320 [00:00<?, ?it/s]"
     ]
    },
    {
     "name": "stdout",
     "output_type": "stream",
     "text": [
      "\n",
      "Test set: Average loss: 1.0230, Accuracy: 6477/10000 (65%)\n",
      "\n",
      "Epoch: 19\n"
     ]
    },
    {
     "name": "stderr",
     "output_type": "stream",
     "text": [
      "100%|██████████| 320/320 [00:28<00:00, 11.11it/s]\n"
     ]
    },
    {
     "name": "stdout",
     "output_type": "stream",
     "text": [
      "normalized norm of (weight - projection)\n",
      "(features.0.weight): 0.5149\n",
      "(features.3.weight): 0.8407\n",
      "(features.6.weight): 0.8836\n",
      "(features.8.weight): 0.9078\n",
      "(features.10.weight): 0.9283\n",
      "(classifier.1.weight): 0.9317\n",
      "(classifier.4.weight): 0.9644\n",
      "(classifier.6.weight): 0.8465\n"
     ]
    },
    {
     "name": "stderr",
     "output_type": "stream",
     "text": [
      "  0%|          | 0/223 [00:00<?, ?it/s]"
     ]
    },
    {
     "name": "stdout",
     "output_type": "stream",
     "text": [
      "\n",
      "Test set: Average loss: 0.9630, Accuracy: 6685/10000 (67%)\n",
      "\n",
      "Epoch: 20\n"
     ]
    },
    {
     "name": "stderr",
     "output_type": "stream",
     "text": [
      "100%|██████████| 223/223 [00:20<00:00, 10.97it/s]\n"
     ]
    },
    {
     "name": "stdout",
     "output_type": "stream",
     "text": [
      "normalized norm of (weight - projection)\n",
      "(features.0.weight): 0.5125\n",
      "(features.3.weight): 0.8378\n",
      "(features.6.weight): 0.8817\n",
      "(features.8.weight): 0.9204\n",
      "(features.10.weight): 0.9465\n",
      "(classifier.1.weight): 0.9591\n",
      "(classifier.4.weight): 0.9792\n",
      "(classifier.6.weight): 0.8219\n"
     ]
    },
    {
     "name": "stderr",
     "output_type": "stream",
     "text": [
      "  0%|          | 0/223 [00:00<?, ?it/s]"
     ]
    },
    {
     "name": "stdout",
     "output_type": "stream",
     "text": [
      "\n",
      "Test set: Average loss: 0.9983, Accuracy: 6585/10000 (66%)\n",
      "\n",
      "Epoch: 20\n"
     ]
    },
    {
     "name": "stderr",
     "output_type": "stream",
     "text": [
      "100%|██████████| 223/223 [00:20<00:00, 11.08it/s]\n"
     ]
    },
    {
     "name": "stdout",
     "output_type": "stream",
     "text": [
      "normalized norm of (weight - projection)\n",
      "(features.0.weight): 0.5088\n",
      "(features.3.weight): 0.8345\n",
      "(features.6.weight): 0.8763\n",
      "(features.8.weight): 0.9140\n",
      "(features.10.weight): 0.9426\n",
      "(classifier.1.weight): 0.9537\n",
      "(classifier.4.weight): 0.9742\n",
      "(classifier.6.weight): 0.8222\n"
     ]
    },
    {
     "name": "stderr",
     "output_type": "stream",
     "text": [
      "  0%|          | 0/223 [00:00<?, ?it/s]"
     ]
    },
    {
     "name": "stdout",
     "output_type": "stream",
     "text": [
      "\n",
      "Test set: Average loss: 1.0459, Accuracy: 6415/10000 (64%)\n",
      "\n",
      "Epoch: 21\n"
     ]
    },
    {
     "name": "stderr",
     "output_type": "stream",
     "text": [
      "100%|██████████| 223/223 [00:18<00:00, 11.75it/s]\n"
     ]
    },
    {
     "name": "stdout",
     "output_type": "stream",
     "text": [
      "normalized norm of (weight - projection)\n",
      "(features.0.weight): 0.5055\n",
      "(features.3.weight): 0.8274\n",
      "(features.6.weight): 0.8725\n",
      "(features.8.weight): 0.9143\n",
      "(features.10.weight): 0.9436\n",
      "(classifier.1.weight): 0.9586\n",
      "(classifier.4.weight): 0.9789\n",
      "(classifier.6.weight): 0.8123\n"
     ]
    },
    {
     "name": "stderr",
     "output_type": "stream",
     "text": [
      "  0%|          | 0/320 [00:00<?, ?it/s]"
     ]
    },
    {
     "name": "stdout",
     "output_type": "stream",
     "text": [
      "\n",
      "Test set: Average loss: 1.0253, Accuracy: 6522/10000 (65%)\n",
      "\n",
      "Epoch: 21\n"
     ]
    },
    {
     "name": "stderr",
     "output_type": "stream",
     "text": [
      "100%|██████████| 320/320 [00:26<00:00, 11.34it/s]\n"
     ]
    },
    {
     "name": "stdout",
     "output_type": "stream",
     "text": [
      "normalized norm of (weight - projection)\n",
      "(features.0.weight): 0.5070\n",
      "(features.3.weight): 0.8290\n",
      "(features.6.weight): 0.8722\n",
      "(features.8.weight): 0.9011\n",
      "(features.10.weight): 0.9249\n",
      "(classifier.1.weight): 0.9307\n",
      "(classifier.4.weight): 0.9643\n",
      "(classifier.6.weight): 0.8391\n"
     ]
    },
    {
     "name": "stderr",
     "output_type": "stream",
     "text": [
      "  0%|          | 0/223 [00:00<?, ?it/s]"
     ]
    },
    {
     "name": "stdout",
     "output_type": "stream",
     "text": [
      "\n",
      "Test set: Average loss: 0.9588, Accuracy: 6672/10000 (67%)\n",
      "\n",
      "Epoch: 22\n"
     ]
    },
    {
     "name": "stderr",
     "output_type": "stream",
     "text": [
      "100%|██████████| 223/223 [00:18<00:00, 11.17it/s]\n"
     ]
    },
    {
     "name": "stdout",
     "output_type": "stream",
     "text": [
      "normalized norm of (weight - projection)\n",
      "(features.0.weight): 0.5055\n",
      "(features.3.weight): 0.8304\n",
      "(features.6.weight): 0.8711\n",
      "(features.8.weight): 0.9101\n",
      "(features.10.weight): 0.9392\n",
      "(classifier.1.weight): 0.9520\n",
      "(classifier.4.weight): 0.9739\n",
      "(classifier.6.weight): 0.8165\n"
     ]
    },
    {
     "name": "stderr",
     "output_type": "stream",
     "text": [
      "  0%|          | 0/223 [00:00<?, ?it/s]"
     ]
    },
    {
     "name": "stdout",
     "output_type": "stream",
     "text": [
      "\n",
      "Test set: Average loss: 0.9820, Accuracy: 6670/10000 (67%)\n",
      "\n",
      "Epoch: 22\n"
     ]
    },
    {
     "name": "stderr",
     "output_type": "stream",
     "text": [
      "100%|██████████| 223/223 [00:19<00:00, 11.89it/s]\n"
     ]
    },
    {
     "name": "stdout",
     "output_type": "stream",
     "text": [
      "normalized norm of (weight - projection)\n",
      "(features.0.weight): 0.5013\n",
      "(features.3.weight): 0.8190\n",
      "(features.6.weight): 0.8648\n",
      "(features.8.weight): 0.9100\n",
      "(features.10.weight): 0.9408\n",
      "(classifier.1.weight): 0.9563\n",
      "(classifier.4.weight): 0.9784\n",
      "(classifier.6.weight): 0.8100\n"
     ]
    },
    {
     "name": "stderr",
     "output_type": "stream",
     "text": [
      "  0%|          | 0/320 [00:00<?, ?it/s]"
     ]
    },
    {
     "name": "stdout",
     "output_type": "stream",
     "text": [
      "\n",
      "Test set: Average loss: 1.0005, Accuracy: 6574/10000 (66%)\n",
      "\n",
      "Epoch: 23\n"
     ]
    },
    {
     "name": "stderr",
     "output_type": "stream",
     "text": [
      "100%|██████████| 320/320 [00:27<00:00, 11.45it/s]\n"
     ]
    },
    {
     "name": "stdout",
     "output_type": "stream",
     "text": [
      "normalized norm of (weight - projection)\n",
      "(features.0.weight): 0.4997\n",
      "(features.3.weight): 0.8155\n",
      "(features.6.weight): 0.8609\n",
      "(features.8.weight): 0.8950\n",
      "(features.10.weight): 0.9200\n",
      "(classifier.1.weight): 0.9292\n",
      "(classifier.4.weight): 0.9641\n",
      "(classifier.6.weight): 0.8309\n"
     ]
    },
    {
     "name": "stderr",
     "output_type": "stream",
     "text": [
      "  0%|          | 0/223 [00:00<?, ?it/s]"
     ]
    },
    {
     "name": "stdout",
     "output_type": "stream",
     "text": [
      "\n",
      "Test set: Average loss: 0.9520, Accuracy: 6767/10000 (68%)\n",
      "\n",
      "Epoch: 23\n"
     ]
    },
    {
     "name": "stderr",
     "output_type": "stream",
     "text": [
      "100%|██████████| 223/223 [00:18<00:00, 11.90it/s]\n"
     ]
    },
    {
     "name": "stdout",
     "output_type": "stream",
     "text": [
      "normalized norm of (weight - projection)\n",
      "(features.0.weight): 0.4979\n",
      "(features.3.weight): 0.8128\n",
      "(features.6.weight): 0.8603\n",
      "(features.8.weight): 0.9071\n",
      "(features.10.weight): 0.9385\n",
      "(classifier.1.weight): 0.9551\n",
      "(classifier.4.weight): 0.9777\n",
      "(classifier.6.weight): 0.8017\n"
     ]
    },
    {
     "name": "stderr",
     "output_type": "stream",
     "text": [
      "  0%|          | 0/223 [00:00<?, ?it/s]"
     ]
    },
    {
     "name": "stdout",
     "output_type": "stream",
     "text": [
      "\n",
      "Test set: Average loss: 1.0099, Accuracy: 6688/10000 (67%)\n",
      "\n",
      "Epoch: 24\n"
     ]
    },
    {
     "name": "stderr",
     "output_type": "stream",
     "text": [
      "100%|██████████| 223/223 [00:20<00:00, 12.12it/s]\n"
     ]
    },
    {
     "name": "stdout",
     "output_type": "stream",
     "text": [
      "normalized norm of (weight - projection)\n",
      "(features.0.weight): 0.4989\n",
      "(features.3.weight): 0.8154\n",
      "(features.6.weight): 0.8607\n",
      "(features.8.weight): 0.9033\n",
      "(features.10.weight): 0.9350\n",
      "(classifier.1.weight): 0.9517\n",
      "(classifier.4.weight): 0.9736\n",
      "(classifier.6.weight): 0.8093\n"
     ]
    },
    {
     "name": "stderr",
     "output_type": "stream",
     "text": [
      "  0%|          | 0/320 [00:00<?, ?it/s]"
     ]
    },
    {
     "name": "stdout",
     "output_type": "stream",
     "text": [
      "\n",
      "Test set: Average loss: 0.9683, Accuracy: 6736/10000 (67%)\n",
      "\n",
      "Epoch: 24\n"
     ]
    },
    {
     "name": "stderr",
     "output_type": "stream",
     "text": [
      "100%|██████████| 320/320 [00:28<00:00, 11.21it/s]\n"
     ]
    },
    {
     "name": "stdout",
     "output_type": "stream",
     "text": [
      "normalized norm of (weight - projection)\n",
      "(features.0.weight): 0.4926\n",
      "(features.3.weight): 0.8054\n",
      "(features.6.weight): 0.8509\n",
      "(features.8.weight): 0.8874\n",
      "(features.10.weight): 0.9164\n",
      "(classifier.1.weight): 0.9271\n",
      "(classifier.4.weight): 0.9637\n",
      "(classifier.6.weight): 0.8212\n"
     ]
    },
    {
     "name": "stderr",
     "output_type": "stream",
     "text": [
      "  0%|          | 0/320 [00:00<?, ?it/s]"
     ]
    },
    {
     "name": "stdout",
     "output_type": "stream",
     "text": [
      "\n",
      "Test set: Average loss: 0.9843, Accuracy: 6653/10000 (67%)\n",
      "\n",
      "Epoch: 25\n"
     ]
    },
    {
     "name": "stderr",
     "output_type": "stream",
     "text": [
      "100%|██████████| 320/320 [00:29<00:00, 11.30it/s]\n"
     ]
    },
    {
     "name": "stdout",
     "output_type": "stream",
     "text": [
      "normalized norm of (weight - projection)\n",
      "(features.0.weight): 0.4902\n",
      "(features.3.weight): 0.8002\n",
      "(features.6.weight): 0.8471\n",
      "(features.8.weight): 0.8856\n",
      "(features.10.weight): 0.9149\n",
      "(classifier.1.weight): 0.9271\n",
      "(classifier.4.weight): 0.9638\n",
      "(classifier.6.weight): 0.8208\n"
     ]
    },
    {
     "name": "stderr",
     "output_type": "stream",
     "text": [
      "  0%|          | 0/223 [00:00<?, ?it/s]"
     ]
    },
    {
     "name": "stdout",
     "output_type": "stream",
     "text": [
      "\n",
      "Test set: Average loss: 0.9739, Accuracy: 6750/10000 (68%)\n",
      "\n",
      "Epoch: 25\n"
     ]
    },
    {
     "name": "stderr",
     "output_type": "stream",
     "text": [
      "100%|██████████| 223/223 [00:19<00:00, 11.53it/s]\n"
     ]
    },
    {
     "name": "stdout",
     "output_type": "stream",
     "text": [
      "normalized norm of (weight - projection)\n",
      "(features.0.weight): 0.4919\n",
      "(features.3.weight): 0.8046\n",
      "(features.6.weight): 0.8498\n",
      "(features.8.weight): 0.8975\n",
      "(features.10.weight): 0.9329\n",
      "(classifier.1.weight): 0.9503\n",
      "(classifier.4.weight): 0.9734\n",
      "(classifier.6.weight): 0.8028\n"
     ]
    },
    {
     "name": "stderr",
     "output_type": "stream",
     "text": [
      "  0%|          | 0/320 [00:00<?, ?it/s]"
     ]
    },
    {
     "name": "stdout",
     "output_type": "stream",
     "text": [
      "\n",
      "Test set: Average loss: 0.9529, Accuracy: 6807/10000 (68%)\n",
      "\n",
      "Epoch: 26\n"
     ]
    },
    {
     "name": "stderr",
     "output_type": "stream",
     "text": [
      "100%|██████████| 320/320 [00:26<00:00, 11.87it/s]\n"
     ]
    },
    {
     "name": "stdout",
     "output_type": "stream",
     "text": [
      "normalized norm of (weight - projection)\n",
      "(features.0.weight): 0.4842\n",
      "(features.3.weight): 0.7900\n",
      "(features.6.weight): 0.8378\n",
      "(features.8.weight): 0.8777\n",
      "(features.10.weight): 0.9090\n",
      "(classifier.1.weight): 0.9251\n",
      "(classifier.4.weight): 0.9633\n",
      "(classifier.6.weight): 0.8130\n"
     ]
    },
    {
     "name": "stderr",
     "output_type": "stream",
     "text": [
      "  0%|          | 0/223 [00:00<?, ?it/s]"
     ]
    },
    {
     "name": "stdout",
     "output_type": "stream",
     "text": [
      "\n",
      "Test set: Average loss: 0.9740, Accuracy: 6752/10000 (68%)\n",
      "\n",
      "Epoch: 26\n"
     ]
    },
    {
     "name": "stderr",
     "output_type": "stream",
     "text": [
      "100%|██████████| 223/223 [00:20<00:00, 11.77it/s]\n"
     ]
    },
    {
     "name": "stdout",
     "output_type": "stream",
     "text": [
      "normalized norm of (weight - projection)\n",
      "(features.0.weight): 0.4855\n",
      "(features.3.weight): 0.7945\n",
      "(features.6.weight): 0.8411\n",
      "(features.8.weight): 0.8908\n",
      "(features.10.weight): 0.9267\n",
      "(classifier.1.weight): 0.9479\n",
      "(classifier.4.weight): 0.9730\n",
      "(classifier.6.weight): 0.8005\n"
     ]
    },
    {
     "name": "stderr",
     "output_type": "stream",
     "text": [
      "  0%|          | 0/320 [00:00<?, ?it/s]"
     ]
    },
    {
     "name": "stdout",
     "output_type": "stream",
     "text": [
      "\n",
      "Test set: Average loss: 0.9530, Accuracy: 6837/10000 (68%)\n",
      "\n",
      "Epoch: 27\n"
     ]
    },
    {
     "name": "stderr",
     "output_type": "stream",
     "text": [
      "100%|██████████| 320/320 [00:28<00:00, 11.17it/s]\n"
     ]
    },
    {
     "name": "stdout",
     "output_type": "stream",
     "text": [
      "normalized norm of (weight - projection)\n",
      "(features.0.weight): 0.4784\n",
      "(features.3.weight): 0.7812\n",
      "(features.6.weight): 0.8288\n",
      "(features.8.weight): 0.8700\n",
      "(features.10.weight): 0.9040\n",
      "(classifier.1.weight): 0.9228\n",
      "(classifier.4.weight): 0.9626\n",
      "(classifier.6.weight): 0.8066\n"
     ]
    },
    {
     "name": "stderr",
     "output_type": "stream",
     "text": [
      "  0%|          | 0/223 [00:00<?, ?it/s]"
     ]
    },
    {
     "name": "stdout",
     "output_type": "stream",
     "text": [
      "\n",
      "Test set: Average loss: 0.9645, Accuracy: 6846/10000 (68%)\n",
      "\n",
      "Epoch: 27\n"
     ]
    },
    {
     "name": "stderr",
     "output_type": "stream",
     "text": [
      "100%|██████████| 223/223 [00:19<00:00, 11.64it/s]\n"
     ]
    },
    {
     "name": "stdout",
     "output_type": "stream",
     "text": [
      "normalized norm of (weight - projection)\n",
      "(features.0.weight): 0.4934\n",
      "(features.3.weight): 0.8068\n",
      "(features.6.weight): 0.8546\n",
      "(features.8.weight): 0.9041\n",
      "(features.10.weight): 0.9368\n",
      "(classifier.1.weight): 0.9529\n",
      "(classifier.4.weight): 0.9773\n",
      "(classifier.6.weight): 0.8087\n"
     ]
    },
    {
     "name": "stderr",
     "output_type": "stream",
     "text": [
      "  0%|          | 0/320 [00:00<?, ?it/s]"
     ]
    },
    {
     "name": "stdout",
     "output_type": "stream",
     "text": [
      "\n",
      "Test set: Average loss: 1.0545, Accuracy: 6575/10000 (66%)\n",
      "\n",
      "Epoch: 28\n"
     ]
    },
    {
     "name": "stderr",
     "output_type": "stream",
     "text": [
      "100%|██████████| 320/320 [00:29<00:00, 11.01it/s]\n"
     ]
    },
    {
     "name": "stdout",
     "output_type": "stream",
     "text": [
      "normalized norm of (weight - projection)\n",
      "(features.0.weight): 0.4794\n",
      "(features.3.weight): 0.7834\n",
      "(features.6.weight): 0.8341\n",
      "(features.8.weight): 0.8759\n",
      "(features.10.weight): 0.9078\n",
      "(classifier.1.weight): 0.9234\n",
      "(classifier.4.weight): 0.9626\n",
      "(classifier.6.weight): 0.8082\n"
     ]
    },
    {
     "name": "stderr",
     "output_type": "stream",
     "text": [
      "  0%|          | 0/223 [00:00<?, ?it/s]"
     ]
    },
    {
     "name": "stdout",
     "output_type": "stream",
     "text": [
      "\n",
      "Test set: Average loss: 1.0068, Accuracy: 6671/10000 (67%)\n",
      "\n",
      "Epoch: 28\n"
     ]
    },
    {
     "name": "stderr",
     "output_type": "stream",
     "text": [
      "100%|██████████| 223/223 [00:19<00:00, 10.69it/s]\n"
     ]
    },
    {
     "name": "stdout",
     "output_type": "stream",
     "text": [
      "normalized norm of (weight - projection)\n",
      "(features.0.weight): 0.4803\n",
      "(features.3.weight): 0.7867\n",
      "(features.6.weight): 0.8315\n",
      "(features.8.weight): 0.8845\n",
      "(features.10.weight): 0.9249\n",
      "(classifier.1.weight): 0.9468\n",
      "(classifier.4.weight): 0.9727\n",
      "(classifier.6.weight): 0.7986\n"
     ]
    },
    {
     "name": "stderr",
     "output_type": "stream",
     "text": [
      "  0%|          | 0/223 [00:00<?, ?it/s]"
     ]
    },
    {
     "name": "stdout",
     "output_type": "stream",
     "text": [
      "\n",
      "Test set: Average loss: 0.9865, Accuracy: 6731/10000 (67%)\n",
      "\n",
      "Epoch: 29\n"
     ]
    },
    {
     "name": "stderr",
     "output_type": "stream",
     "text": [
      "100%|██████████| 223/223 [00:20<00:00, 13.22it/s]\n"
     ]
    },
    {
     "name": "stdout",
     "output_type": "stream",
     "text": [
      "normalized norm of (weight - projection)\n",
      "(features.0.weight): 0.4759\n",
      "(features.3.weight): 0.7785\n",
      "(features.6.weight): 0.8278\n",
      "(features.8.weight): 0.8826\n",
      "(features.10.weight): 0.9241\n",
      "(classifier.1.weight): 0.9465\n",
      "(classifier.4.weight): 0.9726\n",
      "(classifier.6.weight): 0.7930\n"
     ]
    },
    {
     "name": "stderr",
     "output_type": "stream",
     "text": [
      "  0%|          | 0/223 [00:00<?, ?it/s]"
     ]
    },
    {
     "name": "stdout",
     "output_type": "stream",
     "text": [
      "\n",
      "Test set: Average loss: 0.9238, Accuracy: 6905/10000 (69%)\n",
      "\n",
      "Epoch: 29\n"
     ]
    },
    {
     "name": "stderr",
     "output_type": "stream",
     "text": [
      "100%|██████████| 223/223 [00:19<00:00, 11.38it/s]\n"
     ]
    },
    {
     "name": "stdout",
     "output_type": "stream",
     "text": [
      "normalized norm of (weight - projection)\n",
      "(features.0.weight): 0.4814\n",
      "(features.3.weight): 0.7887\n",
      "(features.6.weight): 0.8401\n",
      "(features.8.weight): 0.8963\n",
      "(features.10.weight): 0.9338\n",
      "(classifier.1.weight): 0.9537\n",
      "(classifier.4.weight): 0.9775\n",
      "(classifier.6.weight): 0.7948\n"
     ]
    },
    {
     "name": "stderr",
     "output_type": "stream",
     "text": [
      "  0%|          | 0/320 [00:00<?, ?it/s]"
     ]
    },
    {
     "name": "stdout",
     "output_type": "stream",
     "text": [
      "\n",
      "Test set: Average loss: 0.9795, Accuracy: 6724/10000 (67%)\n",
      "\n",
      "Epoch: 30\n"
     ]
    },
    {
     "name": "stderr",
     "output_type": "stream",
     "text": [
      "100%|██████████| 320/320 [00:27<00:00, 11.49it/s]\n"
     ]
    },
    {
     "name": "stdout",
     "output_type": "stream",
     "text": [
      "normalized norm of (weight - projection)\n",
      "(features.0.weight): 0.4742\n",
      "(features.3.weight): 0.7754\n",
      "(features.6.weight): 0.8235\n",
      "(features.8.weight): 0.8669\n",
      "(features.10.weight): 0.9015\n",
      "(classifier.1.weight): 0.9220\n",
      "(classifier.4.weight): 0.9626\n",
      "(classifier.6.weight): 0.8015\n"
     ]
    },
    {
     "name": "stderr",
     "output_type": "stream",
     "text": [
      "  0%|          | 0/223 [00:00<?, ?it/s]"
     ]
    },
    {
     "name": "stdout",
     "output_type": "stream",
     "text": [
      "\n",
      "Test set: Average loss: 0.9586, Accuracy: 6947/10000 (69%)\n",
      "\n",
      "Epoch: 30\n"
     ]
    },
    {
     "name": "stderr",
     "output_type": "stream",
     "text": [
      "100%|██████████| 223/223 [00:20<00:00, 11.52it/s]\n"
     ]
    },
    {
     "name": "stdout",
     "output_type": "stream",
     "text": [
      "normalized norm of (weight - projection)\n",
      "(features.0.weight): 0.4749\n",
      "(features.3.weight): 0.7751\n",
      "(features.6.weight): 0.8291\n",
      "(features.8.weight): 0.8890\n",
      "(features.10.weight): 0.9305\n",
      "(classifier.1.weight): 0.9528\n",
      "(classifier.4.weight): 0.9769\n",
      "(classifier.6.weight): 0.7839\n"
     ]
    },
    {
     "name": "stderr",
     "output_type": "stream",
     "text": [
      "  0%|          | 0/223 [00:00<?, ?it/s]"
     ]
    },
    {
     "name": "stdout",
     "output_type": "stream",
     "text": [
      "\n",
      "Test set: Average loss: 0.9411, Accuracy: 6912/10000 (69%)\n",
      "\n",
      "Epoch: 31\n"
     ]
    },
    {
     "name": "stderr",
     "output_type": "stream",
     "text": [
      "100%|██████████| 223/223 [00:19<00:00, 11.30it/s]\n"
     ]
    },
    {
     "name": "stdout",
     "output_type": "stream",
     "text": [
      "normalized norm of (weight - projection)\n",
      "(features.0.weight): 0.4706\n",
      "(features.3.weight): 0.7687\n",
      "(features.6.weight): 0.8236\n",
      "(features.8.weight): 0.8844\n",
      "(features.10.weight): 0.9265\n",
      "(classifier.1.weight): 0.9520\n",
      "(classifier.4.weight): 0.9770\n",
      "(classifier.6.weight): 0.7845\n"
     ]
    },
    {
     "name": "stderr",
     "output_type": "stream",
     "text": [
      "  0%|          | 0/223 [00:00<?, ?it/s]"
     ]
    },
    {
     "name": "stdout",
     "output_type": "stream",
     "text": [
      "\n",
      "Test set: Average loss: 0.9575, Accuracy: 6833/10000 (68%)\n",
      "\n",
      "Epoch: 31\n"
     ]
    },
    {
     "name": "stderr",
     "output_type": "stream",
     "text": [
      "100%|██████████| 223/223 [00:19<00:00, 10.94it/s]\n"
     ]
    },
    {
     "name": "stdout",
     "output_type": "stream",
     "text": [
      "normalized norm of (weight - projection)\n",
      "(features.0.weight): 0.4748\n",
      "(features.3.weight): 0.7737\n",
      "(features.6.weight): 0.8269\n",
      "(features.8.weight): 0.8817\n",
      "(features.10.weight): 0.9229\n",
      "(classifier.1.weight): 0.9463\n",
      "(classifier.4.weight): 0.9726\n",
      "(classifier.6.weight): 0.7900\n"
     ]
    },
    {
     "name": "stderr",
     "output_type": "stream",
     "text": [
      "  0%|          | 0/223 [00:00<?, ?it/s]"
     ]
    },
    {
     "name": "stdout",
     "output_type": "stream",
     "text": [
      "\n",
      "Test set: Average loss: 0.9554, Accuracy: 6864/10000 (69%)\n",
      "\n",
      "Epoch: 32\n"
     ]
    },
    {
     "name": "stderr",
     "output_type": "stream",
     "text": [
      "100%|██████████| 223/223 [00:20<00:00, 11.05it/s]\n"
     ]
    },
    {
     "name": "stdout",
     "output_type": "stream",
     "text": [
      "normalized norm of (weight - projection)\n",
      "(features.0.weight): 0.4677\n",
      "(features.3.weight): 0.7633\n",
      "(features.6.weight): 0.8172\n",
      "(features.8.weight): 0.8774\n",
      "(features.10.weight): 0.9230\n",
      "(classifier.1.weight): 0.9460\n",
      "(classifier.4.weight): 0.9726\n",
      "(classifier.6.weight): 0.7851\n"
     ]
    },
    {
     "name": "stderr",
     "output_type": "stream",
     "text": [
      "  0%|          | 0/320 [00:00<?, ?it/s]"
     ]
    },
    {
     "name": "stdout",
     "output_type": "stream",
     "text": [
      "\n",
      "Test set: Average loss: 1.0017, Accuracy: 6855/10000 (69%)\n",
      "\n",
      "Epoch: 32\n"
     ]
    },
    {
     "name": "stderr",
     "output_type": "stream",
     "text": [
      "100%|██████████| 320/320 [00:28<00:00, 11.18it/s]\n"
     ]
    },
    {
     "name": "stdout",
     "output_type": "stream",
     "text": [
      "normalized norm of (weight - projection)\n",
      "(features.0.weight): 0.4680\n",
      "(features.3.weight): 0.7656\n",
      "(features.6.weight): 0.8170\n",
      "(features.8.weight): 0.8641\n",
      "(features.10.weight): 0.9004\n",
      "(classifier.1.weight): 0.9221\n",
      "(classifier.4.weight): 0.9625\n",
      "(classifier.6.weight): 0.7963\n"
     ]
    },
    {
     "name": "stderr",
     "output_type": "stream",
     "text": [
      "  0%|          | 0/320 [00:00<?, ?it/s]"
     ]
    },
    {
     "name": "stdout",
     "output_type": "stream",
     "text": [
      "\n",
      "Test set: Average loss: 0.9571, Accuracy: 6990/10000 (70%)\n",
      "\n",
      "Epoch: 33\n"
     ]
    },
    {
     "name": "stderr",
     "output_type": "stream",
     "text": [
      "100%|██████████| 320/320 [00:28<00:00, 11.15it/s]\n"
     ]
    },
    {
     "name": "stdout",
     "output_type": "stream",
     "text": [
      "normalized norm of (weight - projection)\n",
      "(features.0.weight): 0.4624\n",
      "(features.3.weight): 0.7552\n",
      "(features.6.weight): 0.8102\n",
      "(features.8.weight): 0.8587\n",
      "(features.10.weight): 0.8991\n",
      "(classifier.1.weight): 0.9225\n",
      "(classifier.4.weight): 0.9629\n",
      "(classifier.6.weight): 0.7900\n"
     ]
    },
    {
     "name": "stderr",
     "output_type": "stream",
     "text": [
      "  0%|          | 0/223 [00:00<?, ?it/s]"
     ]
    },
    {
     "name": "stdout",
     "output_type": "stream",
     "text": [
      "\n",
      "Test set: Average loss: 0.9775, Accuracy: 6923/10000 (69%)\n",
      "\n",
      "Epoch: 33\n"
     ]
    },
    {
     "name": "stderr",
     "output_type": "stream",
     "text": [
      "100%|██████████| 223/223 [00:19<00:00, 11.58it/s]\n"
     ]
    },
    {
     "name": "stdout",
     "output_type": "stream",
     "text": [
      "normalized norm of (weight - projection)\n",
      "(features.0.weight): 0.4692\n",
      "(features.3.weight): 0.7636\n",
      "(features.6.weight): 0.8203\n",
      "(features.8.weight): 0.8806\n",
      "(features.10.weight): 0.9227\n",
      "(classifier.1.weight): 0.9506\n",
      "(classifier.4.weight): 0.9766\n",
      "(classifier.6.weight): 0.7808\n"
     ]
    },
    {
     "name": "stderr",
     "output_type": "stream",
     "text": [
      "  0%|          | 0/223 [00:00<?, ?it/s]"
     ]
    },
    {
     "name": "stdout",
     "output_type": "stream",
     "text": [
      "\n",
      "Test set: Average loss: 0.9875, Accuracy: 6830/10000 (68%)\n",
      "\n",
      "Epoch: 34\n"
     ]
    },
    {
     "name": "stderr",
     "output_type": "stream",
     "text": [
      "100%|██████████| 223/223 [00:18<00:00, 12.12it/s]\n"
     ]
    },
    {
     "name": "stdout",
     "output_type": "stream",
     "text": [
      "normalized norm of (weight - projection)\n",
      "(features.0.weight): 0.4641\n",
      "(features.3.weight): 0.7571\n",
      "(features.6.weight): 0.8111\n",
      "(features.8.weight): 0.8718\n",
      "(features.10.weight): 0.9179\n",
      "(classifier.1.weight): 0.9444\n",
      "(classifier.4.weight): 0.9723\n",
      "(classifier.6.weight): 0.7823\n"
     ]
    },
    {
     "name": "stderr",
     "output_type": "stream",
     "text": [
      "  0%|          | 0/223 [00:00<?, ?it/s]"
     ]
    },
    {
     "name": "stdout",
     "output_type": "stream",
     "text": [
      "\n",
      "Test set: Average loss: 0.9683, Accuracy: 6944/10000 (69%)\n",
      "\n",
      "Epoch: 34\n"
     ]
    },
    {
     "name": "stderr",
     "output_type": "stream",
     "text": [
      "100%|██████████| 223/223 [00:19<00:00, 11.56it/s]\n"
     ]
    },
    {
     "name": "stdout",
     "output_type": "stream",
     "text": [
      "normalized norm of (weight - projection)\n",
      "(features.0.weight): 0.4620\n",
      "(features.3.weight): 0.7547\n",
      "(features.6.weight): 0.8118\n",
      "(features.8.weight): 0.8764\n",
      "(features.10.weight): 0.9226\n",
      "(classifier.1.weight): 0.9495\n",
      "(classifier.4.weight): 0.9766\n",
      "(classifier.6.weight): 0.7735\n"
     ]
    },
    {
     "name": "stderr",
     "output_type": "stream",
     "text": [
      "  0%|          | 0/223 [00:00<?, ?it/s]"
     ]
    },
    {
     "name": "stdout",
     "output_type": "stream",
     "text": [
      "\n",
      "Test set: Average loss: 1.0268, Accuracy: 6808/10000 (68%)\n",
      "\n",
      "Epoch: 35\n"
     ]
    },
    {
     "name": "stderr",
     "output_type": "stream",
     "text": [
      "100%|██████████| 223/223 [00:19<00:00, 10.29it/s]\n"
     ]
    },
    {
     "name": "stdout",
     "output_type": "stream",
     "text": [
      "normalized norm of (weight - projection)\n",
      "(features.0.weight): 0.4603\n",
      "(features.3.weight): 0.7508\n",
      "(features.6.weight): 0.8087\n",
      "(features.8.weight): 0.8748\n",
      "(features.10.weight): 0.9221\n",
      "(classifier.1.weight): 0.9496\n",
      "(classifier.4.weight): 0.9764\n",
      "(classifier.6.weight): 0.7695\n"
     ]
    },
    {
     "name": "stderr",
     "output_type": "stream",
     "text": [
      "  0%|          | 0/223 [00:00<?, ?it/s]"
     ]
    },
    {
     "name": "stdout",
     "output_type": "stream",
     "text": [
      "\n",
      "Test set: Average loss: 0.9646, Accuracy: 6912/10000 (69%)\n",
      "\n",
      "Epoch: 35\n"
     ]
    },
    {
     "name": "stderr",
     "output_type": "stream",
     "text": [
      "100%|██████████| 223/223 [00:19<00:00, 11.00it/s]\n"
     ]
    },
    {
     "name": "stdout",
     "output_type": "stream",
     "text": [
      "normalized norm of (weight - projection)\n",
      "(features.0.weight): 0.4594\n",
      "(features.3.weight): 0.7488\n",
      "(features.6.weight): 0.8039\n",
      "(features.8.weight): 0.8681\n",
      "(features.10.weight): 0.9163\n",
      "(classifier.1.weight): 0.9453\n",
      "(classifier.4.weight): 0.9726\n",
      "(classifier.6.weight): 0.7756\n"
     ]
    },
    {
     "name": "stderr",
     "output_type": "stream",
     "text": [
      "  0%|          | 0/223 [00:00<?, ?it/s]"
     ]
    },
    {
     "name": "stdout",
     "output_type": "stream",
     "text": [
      "\n",
      "Test set: Average loss: 0.9761, Accuracy: 6902/10000 (69%)\n",
      "\n",
      "Epoch: 36\n"
     ]
    },
    {
     "name": "stderr",
     "output_type": "stream",
     "text": [
      "100%|██████████| 223/223 [00:19<00:00, 11.24it/s]\n"
     ]
    },
    {
     "name": "stdout",
     "output_type": "stream",
     "text": [
      "normalized norm of (weight - projection)\n",
      "(features.0.weight): 0.4548\n",
      "(features.3.weight): 0.7416\n",
      "(features.6.weight): 0.8019\n",
      "(features.8.weight): 0.8687\n",
      "(features.10.weight): 0.9173\n",
      "(classifier.1.weight): 0.9478\n",
      "(classifier.4.weight): 0.9763\n",
      "(classifier.6.weight): 0.7667\n"
     ]
    },
    {
     "name": "stderr",
     "output_type": "stream",
     "text": [
      "  0%|          | 0/223 [00:00<?, ?it/s]"
     ]
    },
    {
     "name": "stdout",
     "output_type": "stream",
     "text": [
      "\n",
      "Test set: Average loss: 0.9996, Accuracy: 6894/10000 (69%)\n",
      "\n",
      "Epoch: 36\n"
     ]
    },
    {
     "name": "stderr",
     "output_type": "stream",
     "text": [
      "100%|██████████| 223/223 [00:20<00:00, 11.02it/s]\n"
     ]
    },
    {
     "name": "stdout",
     "output_type": "stream",
     "text": [
      "normalized norm of (weight - projection)\n",
      "(features.0.weight): 0.4557\n",
      "(features.3.weight): 0.7428\n",
      "(features.6.weight): 0.7975\n",
      "(features.8.weight): 0.8627\n",
      "(features.10.weight): 0.9130\n",
      "(classifier.1.weight): 0.9431\n",
      "(classifier.4.weight): 0.9721\n",
      "(classifier.6.weight): 0.7712\n"
     ]
    },
    {
     "name": "stderr",
     "output_type": "stream",
     "text": [
      "  0%|          | 0/223 [00:00<?, ?it/s]"
     ]
    },
    {
     "name": "stdout",
     "output_type": "stream",
     "text": [
      "\n",
      "Test set: Average loss: 1.0395, Accuracy: 6882/10000 (69%)\n",
      "\n",
      "Epoch: 37\n"
     ]
    },
    {
     "name": "stderr",
     "output_type": "stream",
     "text": [
      "100%|██████████| 223/223 [00:19<00:00, 10.82it/s]\n"
     ]
    },
    {
     "name": "stdout",
     "output_type": "stream",
     "text": [
      "normalized norm of (weight - projection)\n",
      "(features.0.weight): 0.4515\n",
      "(features.3.weight): 0.7350\n",
      "(features.6.weight): 0.7942\n",
      "(features.8.weight): 0.8629\n",
      "(features.10.weight): 0.9141\n",
      "(classifier.1.weight): 0.9466\n",
      "(classifier.4.weight): 0.9761\n",
      "(classifier.6.weight): 0.7582\n"
     ]
    },
    {
     "name": "stderr",
     "output_type": "stream",
     "text": [
      "  0%|          | 0/320 [00:00<?, ?it/s]"
     ]
    },
    {
     "name": "stdout",
     "output_type": "stream",
     "text": [
      "\n",
      "Test set: Average loss: 1.0877, Accuracy: 6858/10000 (69%)\n",
      "\n",
      "Epoch: 37\n"
     ]
    },
    {
     "name": "stderr",
     "output_type": "stream",
     "text": [
      "100%|██████████| 320/320 [00:28<00:00, 11.51it/s]\n"
     ]
    },
    {
     "name": "stdout",
     "output_type": "stream",
     "text": [
      "normalized norm of (weight - projection)\n",
      "(features.0.weight): 0.4600\n",
      "(features.3.weight): 0.7532\n",
      "(features.6.weight): 0.8066\n",
      "(features.8.weight): 0.8594\n",
      "(features.10.weight): 0.9001\n",
      "(classifier.1.weight): 0.9218\n",
      "(classifier.4.weight): 0.9626\n",
      "(classifier.6.weight): 0.7928\n"
     ]
    },
    {
     "name": "stderr",
     "output_type": "stream",
     "text": [
      "  0%|          | 0/320 [00:00<?, ?it/s]"
     ]
    },
    {
     "name": "stdout",
     "output_type": "stream",
     "text": [
      "\n",
      "Test set: Average loss: 0.9351, Accuracy: 6975/10000 (70%)\n",
      "\n",
      "Epoch: 38\n"
     ]
    },
    {
     "name": "stderr",
     "output_type": "stream",
     "text": [
      "100%|██████████| 320/320 [00:27<00:00, 11.62it/s]\n"
     ]
    },
    {
     "name": "stdout",
     "output_type": "stream",
     "text": [
      "normalized norm of (weight - projection)\n",
      "(features.0.weight): 0.4510\n",
      "(features.3.weight): 0.7389\n",
      "(features.6.weight): 0.7940\n",
      "(features.8.weight): 0.8504\n",
      "(features.10.weight): 0.8961\n",
      "(classifier.1.weight): 0.9229\n",
      "(classifier.4.weight): 0.9631\n",
      "(classifier.6.weight): 0.7820\n"
     ]
    },
    {
     "name": "stderr",
     "output_type": "stream",
     "text": [
      "  0%|          | 0/223 [00:00<?, ?it/s]"
     ]
    },
    {
     "name": "stdout",
     "output_type": "stream",
     "text": [
      "\n",
      "Test set: Average loss: 0.9459, Accuracy: 7073/10000 (71%)\n",
      "\n",
      "Epoch: 38\n"
     ]
    },
    {
     "name": "stderr",
     "output_type": "stream",
     "text": [
      "100%|██████████| 223/223 [00:19<00:00, 12.73it/s]\n"
     ]
    },
    {
     "name": "stdout",
     "output_type": "stream",
     "text": [
      "normalized norm of (weight - projection)\n",
      "(features.0.weight): 0.4526\n",
      "(features.3.weight): 0.7398\n",
      "(features.6.weight): 0.7991\n",
      "(features.8.weight): 0.8678\n",
      "(features.10.weight): 0.9185\n",
      "(classifier.1.weight): 0.9468\n",
      "(classifier.4.weight): 0.9763\n",
      "(classifier.6.weight): 0.7638\n"
     ]
    },
    {
     "name": "stderr",
     "output_type": "stream",
     "text": [
      "  0%|          | 0/223 [00:00<?, ?it/s]"
     ]
    },
    {
     "name": "stdout",
     "output_type": "stream",
     "text": [
      "\n",
      "Test set: Average loss: 1.0004, Accuracy: 6880/10000 (69%)\n",
      "\n",
      "Epoch: 39\n"
     ]
    },
    {
     "name": "stderr",
     "output_type": "stream",
     "text": [
      "100%|██████████| 223/223 [00:19<00:00, 11.28it/s]\n"
     ]
    },
    {
     "name": "stdout",
     "output_type": "stream",
     "text": [
      "normalized norm of (weight - projection)\n",
      "(features.0.weight): 0.4479\n",
      "(features.3.weight): 0.7326\n",
      "(features.6.weight): 0.7923\n",
      "(features.8.weight): 0.8629\n",
      "(features.10.weight): 0.9147\n",
      "(classifier.1.weight): 0.9456\n",
      "(classifier.4.weight): 0.9761\n",
      "(classifier.6.weight): 0.7622\n"
     ]
    },
    {
     "name": "stderr",
     "output_type": "stream",
     "text": [
      "  0%|          | 0/223 [00:00<?, ?it/s]"
     ]
    },
    {
     "name": "stdout",
     "output_type": "stream",
     "text": [
      "\n",
      "Test set: Average loss: 1.0636, Accuracy: 6822/10000 (68%)\n",
      "\n",
      "Epoch: 39\n"
     ]
    },
    {
     "name": "stderr",
     "output_type": "stream",
     "text": [
      "100%|██████████| 223/223 [00:19<00:00, 12.58it/s]\n"
     ]
    },
    {
     "name": "stdout",
     "output_type": "stream",
     "text": [
      "normalized norm of (weight - projection)\n",
      "(features.0.weight): 0.4517\n",
      "(features.3.weight): 0.7362\n",
      "(features.6.weight): 0.7902\n",
      "(features.8.weight): 0.8574\n",
      "(features.10.weight): 0.9105\n",
      "(classifier.1.weight): 0.9430\n",
      "(classifier.4.weight): 0.9719\n",
      "(classifier.6.weight): 0.7673\n"
     ]
    },
    {
     "name": "stderr",
     "output_type": "stream",
     "text": [
      "  0%|          | 0/320 [00:00<?, ?it/s]"
     ]
    },
    {
     "name": "stdout",
     "output_type": "stream",
     "text": [
      "\n",
      "Test set: Average loss: 0.9888, Accuracy: 6937/10000 (69%)\n",
      "\n",
      "Epoch: 40\n"
     ]
    },
    {
     "name": "stderr",
     "output_type": "stream",
     "text": [
      "100%|██████████| 320/320 [00:29<00:00, 11.00it/s]\n"
     ]
    },
    {
     "name": "stdout",
     "output_type": "stream",
     "text": [
      "normalized norm of (weight - projection)\n",
      "(features.0.weight): 0.4474\n",
      "(features.3.weight): 0.7322\n",
      "(features.6.weight): 0.7877\n",
      "(features.8.weight): 0.8458\n",
      "(features.10.weight): 0.8927\n",
      "(classifier.1.weight): 0.9203\n",
      "(classifier.4.weight): 0.9625\n",
      "(classifier.6.weight): 0.7806\n"
     ]
    },
    {
     "name": "stderr",
     "output_type": "stream",
     "text": [
      "  0%|          | 0/223 [00:00<?, ?it/s]"
     ]
    },
    {
     "name": "stdout",
     "output_type": "stream",
     "text": [
      "\n",
      "Test set: Average loss: 0.9713, Accuracy: 6936/10000 (69%)\n",
      "\n",
      "Epoch: 40\n"
     ]
    },
    {
     "name": "stderr",
     "output_type": "stream",
     "text": [
      "100%|██████████| 223/223 [00:19<00:00, 11.68it/s]\n"
     ]
    },
    {
     "name": "stdout",
     "output_type": "stream",
     "text": [
      "normalized norm of (weight - projection)\n",
      "(features.0.weight): 0.4462\n",
      "(features.3.weight): 0.7285\n",
      "(features.6.weight): 0.7901\n",
      "(features.8.weight): 0.8607\n",
      "(features.10.weight): 0.9127\n",
      "(classifier.1.weight): 0.9461\n",
      "(classifier.4.weight): 0.9758\n",
      "(classifier.6.weight): 0.7523\n"
     ]
    },
    {
     "name": "stderr",
     "output_type": "stream",
     "text": [
      "  0%|          | 0/223 [00:00<?, ?it/s]"
     ]
    },
    {
     "name": "stdout",
     "output_type": "stream",
     "text": [
      "\n",
      "Test set: Average loss: 1.0621, Accuracy: 6891/10000 (69%)\n",
      "\n",
      "Epoch: 41\n"
     ]
    },
    {
     "name": "stderr",
     "output_type": "stream",
     "text": [
      "100%|██████████| 223/223 [00:19<00:00, 11.20it/s]\n"
     ]
    },
    {
     "name": "stdout",
     "output_type": "stream",
     "text": [
      "normalized norm of (weight - projection)\n",
      "(features.0.weight): 0.4435\n",
      "(features.3.weight): 0.7238\n",
      "(features.6.weight): 0.7852\n",
      "(features.8.weight): 0.8584\n",
      "(features.10.weight): 0.9112\n",
      "(classifier.1.weight): 0.9452\n",
      "(classifier.4.weight): 0.9761\n",
      "(classifier.6.weight): 0.7585\n"
     ]
    },
    {
     "name": "stderr",
     "output_type": "stream",
     "text": [
      "  0%|          | 0/223 [00:00<?, ?it/s]"
     ]
    },
    {
     "name": "stdout",
     "output_type": "stream",
     "text": [
      "\n",
      "Test set: Average loss: 1.0203, Accuracy: 6968/10000 (70%)\n",
      "\n",
      "Epoch: 41\n"
     ]
    },
    {
     "name": "stderr",
     "output_type": "stream",
     "text": [
      "100%|██████████| 223/223 [00:19<00:00, 11.31it/s]\n"
     ]
    },
    {
     "name": "stdout",
     "output_type": "stream",
     "text": [
      "normalized norm of (weight - projection)\n",
      "(features.0.weight): 0.4458\n",
      "(features.3.weight): 0.7292\n",
      "(features.6.weight): 0.7860\n",
      "(features.8.weight): 0.8541\n",
      "(features.10.weight): 0.9092\n",
      "(classifier.1.weight): 0.9433\n",
      "(classifier.4.weight): 0.9720\n",
      "(classifier.6.weight): 0.7602\n"
     ]
    },
    {
     "name": "stderr",
     "output_type": "stream",
     "text": [
      "  0%|          | 0/320 [00:00<?, ?it/s]"
     ]
    },
    {
     "name": "stdout",
     "output_type": "stream",
     "text": [
      "\n",
      "Test set: Average loss: 1.0233, Accuracy: 6976/10000 (70%)\n",
      "\n",
      "Epoch: 42\n"
     ]
    },
    {
     "name": "stderr",
     "output_type": "stream",
     "text": [
      "100%|██████████| 320/320 [00:28<00:00, 11.18it/s]\n"
     ]
    },
    {
     "name": "stdout",
     "output_type": "stream",
     "text": [
      "normalized norm of (weight - projection)\n",
      "(features.0.weight): 0.4420\n",
      "(features.3.weight): 0.7249\n",
      "(features.6.weight): 0.7820\n",
      "(features.8.weight): 0.8426\n",
      "(features.10.weight): 0.8927\n",
      "(classifier.1.weight): 0.9224\n",
      "(classifier.4.weight): 0.9628\n",
      "(classifier.6.weight): 0.7708\n"
     ]
    },
    {
     "name": "stderr",
     "output_type": "stream",
     "text": [
      "  0%|          | 0/223 [00:00<?, ?it/s]"
     ]
    },
    {
     "name": "stdout",
     "output_type": "stream",
     "text": [
      "\n",
      "Test set: Average loss: 0.9581, Accuracy: 7064/10000 (71%)\n",
      "\n",
      "Epoch: 42\n"
     ]
    },
    {
     "name": "stderr",
     "output_type": "stream",
     "text": [
      "100%|██████████| 223/223 [00:19<00:00, 11.60it/s]\n"
     ]
    },
    {
     "name": "stdout",
     "output_type": "stream",
     "text": [
      "normalized norm of (weight - projection)\n",
      "(features.0.weight): 0.4410\n",
      "(features.3.weight): 0.7217\n",
      "(features.6.weight): 0.7786\n",
      "(features.8.weight): 0.8496\n",
      "(features.10.weight): 0.9085\n",
      "(classifier.1.weight): 0.9431\n",
      "(classifier.4.weight): 0.9720\n",
      "(classifier.6.weight): 0.7574\n"
     ]
    },
    {
     "name": "stderr",
     "output_type": "stream",
     "text": [
      "  0%|          | 0/320 [00:00<?, ?it/s]"
     ]
    },
    {
     "name": "stdout",
     "output_type": "stream",
     "text": [
      "\n",
      "Test set: Average loss: 1.0471, Accuracy: 6946/10000 (69%)\n",
      "\n",
      "Epoch: 43\n"
     ]
    },
    {
     "name": "stderr",
     "output_type": "stream",
     "text": [
      "100%|██████████| 320/320 [00:28<00:00, 11.08it/s]\n"
     ]
    },
    {
     "name": "stdout",
     "output_type": "stream",
     "text": [
      "normalized norm of (weight - projection)\n",
      "(features.0.weight): 0.4377\n",
      "(features.3.weight): 0.7170\n",
      "(features.6.weight): 0.7749\n",
      "(features.8.weight): 0.8385\n",
      "(features.10.weight): 0.8915\n",
      "(classifier.1.weight): 0.9219\n",
      "(classifier.4.weight): 0.9626\n",
      "(classifier.6.weight): 0.7697\n"
     ]
    },
    {
     "name": "stderr",
     "output_type": "stream",
     "text": [
      "  0%|          | 0/223 [00:00<?, ?it/s]"
     ]
    },
    {
     "name": "stdout",
     "output_type": "stream",
     "text": [
      "\n",
      "Test set: Average loss: 1.0673, Accuracy: 6798/10000 (68%)\n",
      "\n",
      "Epoch: 43\n"
     ]
    },
    {
     "name": "stderr",
     "output_type": "stream",
     "text": [
      "100%|██████████| 223/223 [00:18<00:00, 13.24it/s]\n"
     ]
    },
    {
     "name": "stdout",
     "output_type": "stream",
     "text": [
      "normalized norm of (weight - projection)\n",
      "(features.0.weight): 0.4410\n",
      "(features.3.weight): 0.7202\n",
      "(features.6.weight): 0.7827\n",
      "(features.8.weight): 0.8542\n",
      "(features.10.weight): 0.9085\n",
      "(classifier.1.weight): 0.9449\n",
      "(classifier.4.weight): 0.9758\n",
      "(classifier.6.weight): 0.7494\n"
     ]
    },
    {
     "name": "stderr",
     "output_type": "stream",
     "text": [
      "  0%|          | 0/320 [00:00<?, ?it/s]"
     ]
    },
    {
     "name": "stdout",
     "output_type": "stream",
     "text": [
      "\n",
      "Test set: Average loss: 1.0566, Accuracy: 6986/10000 (70%)\n",
      "\n",
      "Epoch: 44\n"
     ]
    },
    {
     "name": "stderr",
     "output_type": "stream",
     "text": [
      "100%|██████████| 320/320 [00:27<00:00, 11.49it/s]\n"
     ]
    },
    {
     "name": "stdout",
     "output_type": "stream",
     "text": [
      "normalized norm of (weight - projection)\n",
      "(features.0.weight): 0.4353\n",
      "(features.3.weight): 0.7146\n",
      "(features.6.weight): 0.7738\n",
      "(features.8.weight): 0.8374\n",
      "(features.10.weight): 0.8901\n",
      "(classifier.1.weight): 0.9220\n",
      "(classifier.4.weight): 0.9628\n",
      "(classifier.6.weight): 0.7660\n"
     ]
    },
    {
     "name": "stderr",
     "output_type": "stream",
     "text": [
      "  0%|          | 0/223 [00:00<?, ?it/s]"
     ]
    },
    {
     "name": "stdout",
     "output_type": "stream",
     "text": [
      "\n",
      "Test set: Average loss: 0.9978, Accuracy: 6953/10000 (70%)\n",
      "\n",
      "Epoch: 44\n"
     ]
    },
    {
     "name": "stderr",
     "output_type": "stream",
     "text": [
      "100%|██████████| 223/223 [00:19<00:00, 11.25it/s]\n"
     ]
    },
    {
     "name": "stdout",
     "output_type": "stream",
     "text": [
      "normalized norm of (weight - projection)\n",
      "(features.0.weight): 0.4363\n",
      "(features.3.weight): 0.7143\n",
      "(features.6.weight): 0.7771\n",
      "(features.8.weight): 0.8508\n",
      "(features.10.weight): 0.9074\n",
      "(classifier.1.weight): 0.9452\n",
      "(classifier.4.weight): 0.9758\n",
      "(classifier.6.weight): 0.7490\n"
     ]
    },
    {
     "name": "stderr",
     "output_type": "stream",
     "text": [
      "  0%|          | 0/320 [00:00<?, ?it/s]"
     ]
    },
    {
     "name": "stdout",
     "output_type": "stream",
     "text": [
      "\n",
      "Test set: Average loss: 1.0953, Accuracy: 6951/10000 (70%)\n",
      "\n",
      "Epoch: 45\n"
     ]
    },
    {
     "name": "stderr",
     "output_type": "stream",
     "text": [
      "100%|██████████| 320/320 [00:28<00:00, 10.85it/s]\n"
     ]
    },
    {
     "name": "stdout",
     "output_type": "stream",
     "text": [
      "normalized norm of (weight - projection)\n",
      "(features.0.weight): 0.4306\n",
      "(features.3.weight): 0.7098\n",
      "(features.6.weight): 0.7671\n",
      "(features.8.weight): 0.8324\n",
      "(features.10.weight): 0.8860\n",
      "(classifier.1.weight): 0.9206\n",
      "(classifier.4.weight): 0.9621\n",
      "(classifier.6.weight): 0.7633\n"
     ]
    },
    {
     "name": "stderr",
     "output_type": "stream",
     "text": [
      "  0%|          | 0/223 [00:00<?, ?it/s]"
     ]
    },
    {
     "name": "stdout",
     "output_type": "stream",
     "text": [
      "\n",
      "Test set: Average loss: 1.0772, Accuracy: 6894/10000 (69%)\n",
      "\n",
      "Epoch: 45\n"
     ]
    },
    {
     "name": "stderr",
     "output_type": "stream",
     "text": [
      "100%|██████████| 223/223 [00:19<00:00, 11.57it/s]\n"
     ]
    },
    {
     "name": "stdout",
     "output_type": "stream",
     "text": [
      "normalized norm of (weight - projection)\n",
      "(features.0.weight): 0.4390\n",
      "(features.3.weight): 0.7192\n",
      "(features.6.weight): 0.7761\n",
      "(features.8.weight): 0.8477\n",
      "(features.10.weight): 0.9070\n",
      "(classifier.1.weight): 0.9429\n",
      "(classifier.4.weight): 0.9719\n",
      "(classifier.6.weight): 0.7568\n"
     ]
    },
    {
     "name": "stderr",
     "output_type": "stream",
     "text": [
      "  0%|          | 0/320 [00:00<?, ?it/s]"
     ]
    },
    {
     "name": "stdout",
     "output_type": "stream",
     "text": [
      "\n",
      "Test set: Average loss: 1.0205, Accuracy: 6997/10000 (70%)\n",
      "\n",
      "Epoch: 46\n"
     ]
    },
    {
     "name": "stderr",
     "output_type": "stream",
     "text": [
      "100%|██████████| 320/320 [00:28<00:00, 11.20it/s]\n"
     ]
    },
    {
     "name": "stdout",
     "output_type": "stream",
     "text": [
      "normalized norm of (weight - projection)\n",
      "(features.0.weight): 0.4304\n",
      "(features.3.weight): 0.7068\n",
      "(features.6.weight): 0.7678\n",
      "(features.8.weight): 0.8338\n",
      "(features.10.weight): 0.8884\n",
      "(classifier.1.weight): 0.9200\n",
      "(classifier.4.weight): 0.9624\n",
      "(classifier.6.weight): 0.7654\n"
     ]
    },
    {
     "name": "stderr",
     "output_type": "stream",
     "text": [
      "  0%|          | 0/223 [00:00<?, ?it/s]"
     ]
    },
    {
     "name": "stdout",
     "output_type": "stream",
     "text": [
      "\n",
      "Test set: Average loss: 0.9682, Accuracy: 7097/10000 (71%)\n",
      "\n",
      "Epoch: 46\n"
     ]
    },
    {
     "name": "stderr",
     "output_type": "stream",
     "text": [
      "100%|██████████| 223/223 [00:19<00:00, 11.30it/s]\n"
     ]
    },
    {
     "name": "stdout",
     "output_type": "stream",
     "text": [
      "normalized norm of (weight - projection)\n",
      "(features.0.weight): 0.4319\n",
      "(features.3.weight): 0.7085\n",
      "(features.6.weight): 0.7669\n",
      "(features.8.weight): 0.8410\n",
      "(features.10.weight): 0.9024\n",
      "(classifier.1.weight): 0.9423\n",
      "(classifier.4.weight): 0.9722\n",
      "(classifier.6.weight): 0.7566\n"
     ]
    },
    {
     "name": "stderr",
     "output_type": "stream",
     "text": [
      "  0%|          | 0/223 [00:00<?, ?it/s]"
     ]
    },
    {
     "name": "stdout",
     "output_type": "stream",
     "text": [
      "\n",
      "Test set: Average loss: 1.0129, Accuracy: 6998/10000 (70%)\n",
      "\n",
      "Epoch: 47\n"
     ]
    },
    {
     "name": "stderr",
     "output_type": "stream",
     "text": [
      "100%|██████████| 223/223 [00:19<00:00, 11.38it/s]\n"
     ]
    },
    {
     "name": "stdout",
     "output_type": "stream",
     "text": [
      "normalized norm of (weight - projection)\n",
      "(features.0.weight): 0.4326\n",
      "(features.3.weight): 0.7084\n",
      "(features.6.weight): 0.7707\n",
      "(features.8.weight): 0.8476\n",
      "(features.10.weight): 0.9057\n",
      "(classifier.1.weight): 0.9438\n",
      "(classifier.4.weight): 0.9759\n",
      "(classifier.6.weight): 0.7502\n"
     ]
    },
    {
     "name": "stderr",
     "output_type": "stream",
     "text": [
      "  0%|          | 0/223 [00:00<?, ?it/s]"
     ]
    },
    {
     "name": "stdout",
     "output_type": "stream",
     "text": [
      "\n",
      "Test set: Average loss: 1.0921, Accuracy: 6995/10000 (70%)\n",
      "\n",
      "Epoch: 47\n"
     ]
    },
    {
     "name": "stderr",
     "output_type": "stream",
     "text": [
      "100%|██████████| 223/223 [00:19<00:00, 10.86it/s]\n"
     ]
    },
    {
     "name": "stdout",
     "output_type": "stream",
     "text": [
      "normalized norm of (weight - projection)\n",
      "(features.0.weight): 0.4290\n",
      "(features.3.weight): 0.7039\n",
      "(features.6.weight): 0.7614\n",
      "(features.8.weight): 0.8360\n",
      "(features.10.weight): 0.8991\n",
      "(classifier.1.weight): 0.9406\n",
      "(classifier.4.weight): 0.9717\n",
      "(classifier.6.weight): 0.7561\n"
     ]
    },
    {
     "name": "stderr",
     "output_type": "stream",
     "text": [
      "  0%|          | 0/223 [00:00<?, ?it/s]"
     ]
    },
    {
     "name": "stdout",
     "output_type": "stream",
     "text": [
      "\n",
      "Test set: Average loss: 1.0221, Accuracy: 6970/10000 (70%)\n",
      "\n",
      "Epoch: 48\n"
     ]
    },
    {
     "name": "stderr",
     "output_type": "stream",
     "text": [
      "100%|██████████| 223/223 [00:19<00:00, 11.25it/s]\n"
     ]
    },
    {
     "name": "stdout",
     "output_type": "stream",
     "text": [
      "normalized norm of (weight - projection)\n",
      "(features.0.weight): 0.4276\n",
      "(features.3.weight): 0.7015\n",
      "(features.6.weight): 0.7649\n",
      "(features.8.weight): 0.8434\n",
      "(features.10.weight): 0.9046\n",
      "(classifier.1.weight): 0.9447\n",
      "(classifier.4.weight): 0.9759\n",
      "(classifier.6.weight): 0.7432\n"
     ]
    },
    {
     "name": "stderr",
     "output_type": "stream",
     "text": [
      "  0%|          | 0/223 [00:00<?, ?it/s]"
     ]
    },
    {
     "name": "stdout",
     "output_type": "stream",
     "text": [
      "\n",
      "Test set: Average loss: 1.0690, Accuracy: 6989/10000 (70%)\n",
      "\n",
      "Epoch: 48\n"
     ]
    },
    {
     "name": "stderr",
     "output_type": "stream",
     "text": [
      "100%|██████████| 223/223 [00:20<00:00, 12.16it/s]\n"
     ]
    },
    {
     "name": "stdout",
     "output_type": "stream",
     "text": [
      "normalized norm of (weight - projection)\n",
      "(features.0.weight): 0.4277\n",
      "(features.3.weight): 0.7008\n",
      "(features.6.weight): 0.7601\n",
      "(features.8.weight): 0.8367\n",
      "(features.10.weight): 0.9009\n",
      "(classifier.1.weight): 0.9424\n",
      "(classifier.4.weight): 0.9723\n",
      "(classifier.6.weight): 0.7535\n"
     ]
    },
    {
     "name": "stderr",
     "output_type": "stream",
     "text": [
      "  0%|          | 0/223 [00:00<?, ?it/s]"
     ]
    },
    {
     "name": "stdout",
     "output_type": "stream",
     "text": [
      "\n",
      "Test set: Average loss: 1.0201, Accuracy: 6934/10000 (69%)\n",
      "\n",
      "Epoch: 49\n"
     ]
    },
    {
     "name": "stderr",
     "output_type": "stream",
     "text": [
      "100%|██████████| 223/223 [00:19<00:00, 10.75it/s]\n"
     ]
    },
    {
     "name": "stdout",
     "output_type": "stream",
     "text": [
      "normalized norm of (weight - projection)\n",
      "(features.0.weight): 0.4250\n",
      "(features.3.weight): 0.6958\n",
      "(features.6.weight): 0.7594\n",
      "(features.8.weight): 0.8397\n",
      "(features.10.weight): 0.9017\n",
      "(classifier.1.weight): 0.9442\n",
      "(classifier.4.weight): 0.9759\n",
      "(classifier.6.weight): 0.7404\n"
     ]
    },
    {
     "name": "stderr",
     "output_type": "stream",
     "text": [
      "  0%|          | 0/320 [00:00<?, ?it/s]"
     ]
    },
    {
     "name": "stdout",
     "output_type": "stream",
     "text": [
      "\n",
      "Test set: Average loss: 1.1289, Accuracy: 6997/10000 (70%)\n",
      "\n",
      "Epoch: 49\n"
     ]
    },
    {
     "name": "stderr",
     "output_type": "stream",
     "text": [
      "100%|██████████| 320/320 [00:28<00:00, 11.18it/s]\n"
     ]
    },
    {
     "name": "stdout",
     "output_type": "stream",
     "text": [
      "normalized norm of (weight - projection)\n",
      "(features.0.weight): 0.4273\n",
      "(features.3.weight): 0.7023\n",
      "(features.6.weight): 0.7622\n",
      "(features.8.weight): 0.8304\n",
      "(features.10.weight): 0.8861\n",
      "(classifier.1.weight): 0.9199\n",
      "(classifier.4.weight): 0.9620\n",
      "(classifier.6.weight): 0.7574\n"
     ]
    },
    {
     "name": "stderr",
     "output_type": "stream",
     "text": [
      "  0%|          | 0/320 [00:00<?, ?it/s]"
     ]
    },
    {
     "name": "stdout",
     "output_type": "stream",
     "text": [
      "\n",
      "Test set: Average loss: 1.0050, Accuracy: 7019/10000 (70%)\n",
      "\n",
      "Epoch: 50\n"
     ]
    },
    {
     "name": "stderr",
     "output_type": "stream",
     "text": [
      "100%|██████████| 320/320 [00:28<00:00, 11.41it/s]\n"
     ]
    },
    {
     "name": "stdout",
     "output_type": "stream",
     "text": [
      "normalized norm of (weight - projection)\n",
      "(features.0.weight): 0.4223\n",
      "(features.3.weight): 0.6953\n",
      "(features.6.weight): 0.7557\n",
      "(features.8.weight): 0.8265\n",
      "(features.10.weight): 0.8843\n",
      "(classifier.1.weight): 0.9201\n",
      "(classifier.4.weight): 0.9623\n",
      "(classifier.6.weight): 0.7552\n"
     ]
    },
    {
     "name": "stderr",
     "output_type": "stream",
     "text": [
      "  0%|          | 0/223 [00:00<?, ?it/s]"
     ]
    },
    {
     "name": "stdout",
     "output_type": "stream",
     "text": [
      "\n",
      "Test set: Average loss: 1.0811, Accuracy: 6890/10000 (69%)\n",
      "\n",
      "Epoch: 50\n"
     ]
    },
    {
     "name": "stderr",
     "output_type": "stream",
     "text": [
      "100%|██████████| 223/223 [00:20<00:00, 11.12it/s]\n"
     ]
    },
    {
     "name": "stdout",
     "output_type": "stream",
     "text": [
      "normalized norm of (weight - projection)\n",
      "(features.0.weight): 0.4244\n",
      "(features.3.weight): 0.6974\n",
      "(features.6.weight): 0.7559\n",
      "(features.8.weight): 0.8336\n",
      "(features.10.weight): 0.8994\n",
      "(classifier.1.weight): 0.9418\n",
      "(classifier.4.weight): 0.9718\n",
      "(classifier.6.weight): 0.7470\n"
     ]
    },
    {
     "name": "stderr",
     "output_type": "stream",
     "text": [
      "  0%|          | 0/223 [00:00<?, ?it/s]"
     ]
    },
    {
     "name": "stdout",
     "output_type": "stream",
     "text": [
      "\n",
      "Test set: Average loss: 1.0897, Accuracy: 6938/10000 (69%)\n",
      "\n",
      "Epoch: 51\n"
     ]
    },
    {
     "name": "stderr",
     "output_type": "stream",
     "text": [
      "100%|██████████| 223/223 [00:20<00:00, 11.14it/s]\n"
     ]
    },
    {
     "name": "stdout",
     "output_type": "stream",
     "text": [
      "normalized norm of (weight - projection)\n",
      "(features.0.weight): 0.4207\n",
      "(features.3.weight): 0.6909\n",
      "(features.6.weight): 0.7510\n",
      "(features.8.weight): 0.8296\n",
      "(features.10.weight): 0.8977\n",
      "(classifier.1.weight): 0.9415\n",
      "(classifier.4.weight): 0.9719\n",
      "(classifier.6.weight): 0.7470\n"
     ]
    },
    {
     "name": "stderr",
     "output_type": "stream",
     "text": [
      "  0%|          | 0/223 [00:00<?, ?it/s]"
     ]
    },
    {
     "name": "stdout",
     "output_type": "stream",
     "text": [
      "\n",
      "Test set: Average loss: 1.1058, Accuracy: 6935/10000 (69%)\n",
      "\n",
      "Epoch: 51\n"
     ]
    },
    {
     "name": "stderr",
     "output_type": "stream",
     "text": [
      "100%|██████████| 223/223 [00:19<00:00, 10.43it/s]\n"
     ]
    },
    {
     "name": "stdout",
     "output_type": "stream",
     "text": [
      "normalized norm of (weight - projection)\n",
      "(features.0.weight): 0.4242\n",
      "(features.3.weight): 0.6929\n",
      "(features.6.weight): 0.7583\n",
      "(features.8.weight): 0.8401\n",
      "(features.10.weight): 0.9036\n",
      "(classifier.1.weight): 0.9439\n",
      "(classifier.4.weight): 0.9759\n",
      "(classifier.6.weight): 0.7486\n"
     ]
    },
    {
     "name": "stderr",
     "output_type": "stream",
     "text": [
      "  0%|          | 0/223 [00:00<?, ?it/s]"
     ]
    },
    {
     "name": "stdout",
     "output_type": "stream",
     "text": [
      "\n",
      "Test set: Average loss: 1.1022, Accuracy: 6863/10000 (69%)\n",
      "\n",
      "Epoch: 52\n"
     ]
    },
    {
     "name": "stderr",
     "output_type": "stream",
     "text": [
      "100%|██████████| 223/223 [00:19<00:00, 10.78it/s]\n"
     ]
    },
    {
     "name": "stdout",
     "output_type": "stream",
     "text": [
      "normalized norm of (weight - projection)\n",
      "(features.0.weight): 0.4194\n",
      "(features.3.weight): 0.6889\n",
      "(features.6.weight): 0.7488\n",
      "(features.8.weight): 0.8281\n",
      "(features.10.weight): 0.8976\n",
      "(classifier.1.weight): 0.9416\n",
      "(classifier.4.weight): 0.9720\n",
      "(classifier.6.weight): 0.7504\n"
     ]
    },
    {
     "name": "stderr",
     "output_type": "stream",
     "text": [
      "  0%|          | 0/320 [00:00<?, ?it/s]"
     ]
    },
    {
     "name": "stdout",
     "output_type": "stream",
     "text": [
      "\n",
      "Test set: Average loss: 1.0513, Accuracy: 7010/10000 (70%)\n",
      "\n",
      "Epoch: 52\n"
     ]
    },
    {
     "name": "stderr",
     "output_type": "stream",
     "text": [
      "100%|██████████| 320/320 [00:27<00:00, 11.44it/s]\n"
     ]
    },
    {
     "name": "stdout",
     "output_type": "stream",
     "text": [
      "normalized norm of (weight - projection)\n",
      "(features.0.weight): 0.4195\n",
      "(features.3.weight): 0.6897\n",
      "(features.6.weight): 0.7518\n",
      "(features.8.weight): 0.8245\n",
      "(features.10.weight): 0.8842\n",
      "(classifier.1.weight): 0.9215\n",
      "(classifier.4.weight): 0.9625\n",
      "(classifier.6.weight): 0.7528\n"
     ]
    },
    {
     "name": "stderr",
     "output_type": "stream",
     "text": [
      "  0%|          | 0/320 [00:00<?, ?it/s]"
     ]
    },
    {
     "name": "stdout",
     "output_type": "stream",
     "text": [
      "\n",
      "Test set: Average loss: 1.0130, Accuracy: 7006/10000 (70%)\n",
      "\n",
      "Epoch: 53\n"
     ]
    },
    {
     "name": "stderr",
     "output_type": "stream",
     "text": [
      "100%|██████████| 320/320 [00:27<00:00, 11.65it/s]\n"
     ]
    },
    {
     "name": "stdout",
     "output_type": "stream",
     "text": [
      "normalized norm of (weight - projection)\n",
      "(features.0.weight): 0.4158\n",
      "(features.3.weight): 0.6849\n",
      "(features.6.weight): 0.7468\n",
      "(features.8.weight): 0.8192\n",
      "(features.10.weight): 0.8790\n",
      "(classifier.1.weight): 0.9208\n",
      "(classifier.4.weight): 0.9623\n",
      "(classifier.6.weight): 0.7517\n"
     ]
    },
    {
     "name": "stderr",
     "output_type": "stream",
     "text": [
      "  0%|          | 0/223 [00:00<?, ?it/s]"
     ]
    },
    {
     "name": "stdout",
     "output_type": "stream",
     "text": [
      "\n",
      "Test set: Average loss: 1.0629, Accuracy: 7009/10000 (70%)\n",
      "\n",
      "Epoch: 53\n"
     ]
    },
    {
     "name": "stderr",
     "output_type": "stream",
     "text": [
      "100%|██████████| 223/223 [00:19<00:00, 11.19it/s]\n"
     ]
    },
    {
     "name": "stdout",
     "output_type": "stream",
     "text": [
      "normalized norm of (weight - projection)\n",
      "(features.0.weight): 0.4193\n",
      "(features.3.weight): 0.6872\n",
      "(features.6.weight): 0.7524\n",
      "(features.8.weight): 0.8359\n",
      "(features.10.weight): 0.9013\n",
      "(classifier.1.weight): 0.9440\n",
      "(classifier.4.weight): 0.9759\n",
      "(classifier.6.weight): 0.7381\n"
     ]
    },
    {
     "name": "stderr",
     "output_type": "stream",
     "text": [
      "  0%|          | 0/223 [00:00<?, ?it/s]"
     ]
    },
    {
     "name": "stdout",
     "output_type": "stream",
     "text": [
      "\n",
      "Test set: Average loss: 1.1248, Accuracy: 6873/10000 (69%)\n",
      "\n",
      "Epoch: 54\n"
     ]
    },
    {
     "name": "stderr",
     "output_type": "stream",
     "text": [
      "100%|██████████| 223/223 [00:20<00:00, 10.75it/s]\n"
     ]
    },
    {
     "name": "stdout",
     "output_type": "stream",
     "text": [
      "normalized norm of (weight - projection)\n",
      "(features.0.weight): 0.4156\n",
      "(features.3.weight): 0.6803\n",
      "(features.6.weight): 0.7468\n",
      "(features.8.weight): 0.8323\n",
      "(features.10.weight): 0.9006\n",
      "(classifier.1.weight): 0.9439\n",
      "(classifier.4.weight): 0.9759\n",
      "(classifier.6.weight): 0.7379\n"
     ]
    },
    {
     "name": "stderr",
     "output_type": "stream",
     "text": [
      "  0%|          | 0/320 [00:00<?, ?it/s]"
     ]
    },
    {
     "name": "stdout",
     "output_type": "stream",
     "text": [
      "\n",
      "Test set: Average loss: 1.1014, Accuracy: 7033/10000 (70%)\n",
      "\n",
      "Epoch: 54\n"
     ]
    },
    {
     "name": "stderr",
     "output_type": "stream",
     "text": [
      "100%|██████████| 320/320 [00:28<00:00, 12.14it/s]\n"
     ]
    },
    {
     "name": "stdout",
     "output_type": "stream",
     "text": [
      "normalized norm of (weight - projection)\n",
      "(features.0.weight): 0.4141\n",
      "(features.3.weight): 0.6843\n",
      "(features.6.weight): 0.7456\n",
      "(features.8.weight): 0.8202\n",
      "(features.10.weight): 0.8819\n",
      "(classifier.1.weight): 0.9210\n",
      "(classifier.4.weight): 0.9626\n",
      "(classifier.6.weight): 0.7534\n"
     ]
    },
    {
     "name": "stderr",
     "output_type": "stream",
     "text": [
      "  0%|          | 0/223 [00:00<?, ?it/s]"
     ]
    },
    {
     "name": "stdout",
     "output_type": "stream",
     "text": [
      "\n",
      "Test set: Average loss: 1.0557, Accuracy: 6974/10000 (70%)\n",
      "\n",
      "Epoch: 55\n"
     ]
    },
    {
     "name": "stderr",
     "output_type": "stream",
     "text": [
      "100%|██████████| 223/223 [00:19<00:00, 11.27it/s]\n"
     ]
    },
    {
     "name": "stdout",
     "output_type": "stream",
     "text": [
      "normalized norm of (weight - projection)\n",
      "(features.0.weight): 0.4166\n",
      "(features.3.weight): 0.6866\n",
      "(features.6.weight): 0.7456\n",
      "(features.8.weight): 0.8259\n",
      "(features.10.weight): 0.8963\n",
      "(classifier.1.weight): 0.9411\n",
      "(classifier.4.weight): 0.9719\n",
      "(classifier.6.weight): 0.7462\n"
     ]
    },
    {
     "name": "stderr",
     "output_type": "stream",
     "text": [
      "  0%|          | 0/223 [00:00<?, ?it/s]"
     ]
    },
    {
     "name": "stdout",
     "output_type": "stream",
     "text": [
      "\n",
      "Test set: Average loss: 1.0601, Accuracy: 7066/10000 (71%)\n",
      "\n",
      "Epoch: 55\n"
     ]
    },
    {
     "name": "stderr",
     "output_type": "stream",
     "text": [
      "100%|██████████| 223/223 [00:19<00:00, 11.42it/s]\n"
     ]
    },
    {
     "name": "stdout",
     "output_type": "stream",
     "text": [
      "normalized norm of (weight - projection)\n",
      "(features.0.weight): 0.4125\n",
      "(features.3.weight): 0.6764\n",
      "(features.6.weight): 0.7427\n",
      "(features.8.weight): 0.8291\n",
      "(features.10.weight): 0.8980\n",
      "(classifier.1.weight): 0.9421\n",
      "(classifier.4.weight): 0.9756\n",
      "(classifier.6.weight): 0.7382\n"
     ]
    },
    {
     "name": "stderr",
     "output_type": "stream",
     "text": [
      "  0%|          | 0/223 [00:00<?, ?it/s]"
     ]
    },
    {
     "name": "stdout",
     "output_type": "stream",
     "text": [
      "\n",
      "Test set: Average loss: 1.2176, Accuracy: 6894/10000 (69%)\n",
      "\n",
      "Epoch: 56\n"
     ]
    },
    {
     "name": "stderr",
     "output_type": "stream",
     "text": [
      "100%|██████████| 223/223 [00:19<00:00, 11.07it/s]\n"
     ]
    },
    {
     "name": "stdout",
     "output_type": "stream",
     "text": [
      "normalized norm of (weight - projection)\n",
      "(features.0.weight): 0.4114\n",
      "(features.3.weight): 0.6794\n",
      "(features.6.weight): 0.7387\n",
      "(features.8.weight): 0.8217\n",
      "(features.10.weight): 0.8949\n",
      "(classifier.1.weight): 0.9420\n",
      "(classifier.4.weight): 0.9718\n",
      "(classifier.6.weight): 0.7429\n"
     ]
    },
    {
     "name": "stderr",
     "output_type": "stream",
     "text": [
      "  0%|          | 0/320 [00:00<?, ?it/s]"
     ]
    },
    {
     "name": "stdout",
     "output_type": "stream",
     "text": [
      "\n",
      "Test set: Average loss: 1.1209, Accuracy: 6976/10000 (70%)\n",
      "\n",
      "Epoch: 56\n"
     ]
    },
    {
     "name": "stderr",
     "output_type": "stream",
     "text": [
      "100%|██████████| 320/320 [00:28<00:00, 11.13it/s]\n"
     ]
    },
    {
     "name": "stdout",
     "output_type": "stream",
     "text": [
      "normalized norm of (weight - projection)\n",
      "(features.0.weight): 0.4112\n",
      "(features.3.weight): 0.6792\n",
      "(features.6.weight): 0.7408\n",
      "(features.8.weight): 0.8155\n",
      "(features.10.weight): 0.8794\n",
      "(classifier.1.weight): 0.9195\n",
      "(classifier.4.weight): 0.9621\n",
      "(classifier.6.weight): 0.7459\n"
     ]
    },
    {
     "name": "stderr",
     "output_type": "stream",
     "text": [
      "  0%|          | 0/223 [00:00<?, ?it/s]"
     ]
    },
    {
     "name": "stdout",
     "output_type": "stream",
     "text": [
      "\n",
      "Test set: Average loss: 1.0337, Accuracy: 7015/10000 (70%)\n",
      "\n",
      "Epoch: 57\n"
     ]
    },
    {
     "name": "stderr",
     "output_type": "stream",
     "text": [
      "100%|██████████| 223/223 [00:19<00:00, 12.00it/s]\n"
     ]
    },
    {
     "name": "stdout",
     "output_type": "stream",
     "text": [
      "normalized norm of (weight - projection)\n",
      "(features.0.weight): 0.4124\n",
      "(features.3.weight): 0.6766\n",
      "(features.6.weight): 0.7432\n",
      "(features.8.weight): 0.8297\n",
      "(features.10.weight): 0.9010\n",
      "(classifier.1.weight): 0.9447\n",
      "(classifier.4.weight): 0.9758\n",
      "(classifier.6.weight): 0.7322\n"
     ]
    },
    {
     "name": "stderr",
     "output_type": "stream",
     "text": [
      "  0%|          | 0/223 [00:00<?, ?it/s]"
     ]
    },
    {
     "name": "stdout",
     "output_type": "stream",
     "text": [
      "\n",
      "Test set: Average loss: 1.0898, Accuracy: 7057/10000 (71%)\n",
      "\n",
      "Epoch: 57\n"
     ]
    },
    {
     "name": "stderr",
     "output_type": "stream",
     "text": [
      "100%|██████████| 223/223 [00:19<00:00, 11.40it/s]\n"
     ]
    },
    {
     "name": "stdout",
     "output_type": "stream",
     "text": [
      "normalized norm of (weight - projection)\n",
      "(features.0.weight): 0.4090\n",
      "(features.3.weight): 0.6748\n",
      "(features.6.weight): 0.7342\n",
      "(features.8.weight): 0.8180\n",
      "(features.10.weight): 0.8926\n",
      "(classifier.1.weight): 0.9402\n",
      "(classifier.4.weight): 0.9718\n",
      "(classifier.6.weight): 0.7434\n"
     ]
    },
    {
     "name": "stderr",
     "output_type": "stream",
     "text": [
      "  0%|          | 0/223 [00:00<?, ?it/s]"
     ]
    },
    {
     "name": "stdout",
     "output_type": "stream",
     "text": [
      "\n",
      "Test set: Average loss: 1.0770, Accuracy: 7010/10000 (70%)\n",
      "\n",
      "Epoch: 58\n"
     ]
    },
    {
     "name": "stderr",
     "output_type": "stream",
     "text": [
      "100%|██████████| 223/223 [00:20<00:00, 11.02it/s]\n"
     ]
    },
    {
     "name": "stdout",
     "output_type": "stream",
     "text": [
      "normalized norm of (weight - projection)\n",
      "(features.0.weight): 0.4078\n",
      "(features.3.weight): 0.6716\n",
      "(features.6.weight): 0.7384\n",
      "(features.8.weight): 0.8250\n",
      "(features.10.weight): 0.8964\n",
      "(classifier.1.weight): 0.9445\n",
      "(classifier.4.weight): 0.9759\n",
      "(classifier.6.weight): 0.7321\n"
     ]
    },
    {
     "name": "stderr",
     "output_type": "stream",
     "text": [
      "  0%|          | 0/223 [00:00<?, ?it/s]"
     ]
    },
    {
     "name": "stdout",
     "output_type": "stream",
     "text": [
      "\n",
      "Test set: Average loss: 1.1055, Accuracy: 7011/10000 (70%)\n",
      "\n",
      "Epoch: 58\n"
     ]
    },
    {
     "name": "stderr",
     "output_type": "stream",
     "text": [
      "100%|██████████| 223/223 [00:20<00:00, 11.05it/s]\n"
     ]
    },
    {
     "name": "stdout",
     "output_type": "stream",
     "text": [
      "normalized norm of (weight - projection)\n",
      "(features.0.weight): 0.4089\n",
      "(features.3.weight): 0.6737\n",
      "(features.6.weight): 0.7333\n",
      "(features.8.weight): 0.8178\n",
      "(features.10.weight): 0.8936\n",
      "(classifier.1.weight): 0.9408\n",
      "(classifier.4.weight): 0.9716\n",
      "(classifier.6.weight): 0.7394\n"
     ]
    },
    {
     "name": "stderr",
     "output_type": "stream",
     "text": [
      "  0%|          | 0/320 [00:00<?, ?it/s]"
     ]
    },
    {
     "name": "stdout",
     "output_type": "stream",
     "text": [
      "\n",
      "Test set: Average loss: 1.1449, Accuracy: 6945/10000 (69%)\n",
      "\n",
      "Epoch: 59\n"
     ]
    },
    {
     "name": "stderr",
     "output_type": "stream",
     "text": [
      "100%|██████████| 320/320 [00:28<00:00, 11.27it/s]\n"
     ]
    },
    {
     "name": "stdout",
     "output_type": "stream",
     "text": [
      "normalized norm of (weight - projection)\n",
      "(features.0.weight): 0.4078\n",
      "(features.3.weight): 0.6732\n",
      "(features.6.weight): 0.7369\n",
      "(features.8.weight): 0.8125\n",
      "(features.10.weight): 0.8790\n",
      "(classifier.1.weight): 0.9200\n",
      "(classifier.4.weight): 0.9621\n",
      "(classifier.6.weight): 0.7418\n"
     ]
    },
    {
     "name": "stderr",
     "output_type": "stream",
     "text": [
      "  0%|          | 0/223 [00:00<?, ?it/s]"
     ]
    },
    {
     "name": "stdout",
     "output_type": "stream",
     "text": [
      "\n",
      "Test set: Average loss: 1.0549, Accuracy: 7089/10000 (71%)\n",
      "\n",
      "Epoch: 59\n"
     ]
    },
    {
     "name": "stderr",
     "output_type": "stream",
     "text": [
      "100%|██████████| 223/223 [00:19<00:00, 10.89it/s]\n"
     ]
    },
    {
     "name": "stdout",
     "output_type": "stream",
     "text": [
      "normalized norm of (weight - projection)\n",
      "(features.0.weight): 0.4060\n",
      "(features.3.weight): 0.6719\n",
      "(features.6.weight): 0.7299\n",
      "(features.8.weight): 0.8138\n",
      "(features.10.weight): 0.8908\n",
      "(classifier.1.weight): 0.9411\n",
      "(classifier.4.weight): 0.9718\n",
      "(classifier.6.weight): 0.7337\n"
     ]
    },
    {
     "name": "stderr",
     "output_type": "stream",
     "text": [
      "  0%|          | 0/320 [00:00<?, ?it/s]"
     ]
    },
    {
     "name": "stdout",
     "output_type": "stream",
     "text": [
      "\n",
      "Test set: Average loss: 1.2000, Accuracy: 6947/10000 (69%)\n",
      "\n",
      "Epoch: 60\n"
     ]
    },
    {
     "name": "stderr",
     "output_type": "stream",
     "text": [
      "100%|██████████| 320/320 [00:28<00:00, 11.35it/s]\n"
     ]
    },
    {
     "name": "stdout",
     "output_type": "stream",
     "text": [
      "normalized norm of (weight - projection)\n",
      "(features.0.weight): 0.4034\n",
      "(features.3.weight): 0.6666\n",
      "(features.6.weight): 0.7304\n",
      "(features.8.weight): 0.8088\n",
      "(features.10.weight): 0.8772\n",
      "(classifier.1.weight): 0.9210\n",
      "(classifier.4.weight): 0.9625\n",
      "(classifier.6.weight): 0.7401\n"
     ]
    },
    {
     "name": "stderr",
     "output_type": "stream",
     "text": [
      "  0%|          | 0/223 [00:00<?, ?it/s]"
     ]
    },
    {
     "name": "stdout",
     "output_type": "stream",
     "text": [
      "\n",
      "Test set: Average loss: 1.1197, Accuracy: 6896/10000 (69%)\n",
      "\n",
      "Epoch: 60\n"
     ]
    },
    {
     "name": "stderr",
     "output_type": "stream",
     "text": [
      "100%|██████████| 223/223 [00:20<00:00, 11.12it/s]\n"
     ]
    },
    {
     "name": "stdout",
     "output_type": "stream",
     "text": [
      "normalized norm of (weight - projection)\n",
      "(features.0.weight): 0.4046\n",
      "(features.3.weight): 0.6689\n",
      "(features.6.weight): 0.7285\n",
      "(features.8.weight): 0.8132\n",
      "(features.10.weight): 0.8904\n",
      "(classifier.1.weight): 0.9402\n",
      "(classifier.4.weight): 0.9716\n",
      "(classifier.6.weight): 0.7370\n"
     ]
    },
    {
     "name": "stderr",
     "output_type": "stream",
     "text": [
      "  0%|          | 0/223 [00:00<?, ?it/s]"
     ]
    },
    {
     "name": "stdout",
     "output_type": "stream",
     "text": [
      "\n",
      "Test set: Average loss: 1.1300, Accuracy: 6953/10000 (70%)\n",
      "\n",
      "Epoch: 61\n"
     ]
    },
    {
     "name": "stderr",
     "output_type": "stream",
     "text": [
      "100%|██████████| 223/223 [00:19<00:00, 10.86it/s]\n"
     ]
    },
    {
     "name": "stdout",
     "output_type": "stream",
     "text": [
      "normalized norm of (weight - projection)\n",
      "(features.0.weight): 0.4025\n",
      "(features.3.weight): 0.6663\n",
      "(features.6.weight): 0.7260\n",
      "(features.8.weight): 0.8113\n",
      "(features.10.weight): 0.8899\n",
      "(classifier.1.weight): 0.9402\n",
      "(classifier.4.weight): 0.9716\n",
      "(classifier.6.weight): 0.7329\n"
     ]
    },
    {
     "name": "stderr",
     "output_type": "stream",
     "text": [
      "  0%|          | 0/320 [00:00<?, ?it/s]"
     ]
    },
    {
     "name": "stdout",
     "output_type": "stream",
     "text": [
      "\n",
      "Test set: Average loss: 1.1725, Accuracy: 7044/10000 (70%)\n",
      "\n",
      "Epoch: 61\n"
     ]
    },
    {
     "name": "stderr",
     "output_type": "stream",
     "text": [
      "100%|██████████| 320/320 [00:29<00:00, 10.94it/s]\n"
     ]
    },
    {
     "name": "stdout",
     "output_type": "stream",
     "text": [
      "normalized norm of (weight - projection)\n",
      "(features.0.weight): 0.4019\n",
      "(features.3.weight): 0.6638\n",
      "(features.6.weight): 0.7272\n",
      "(features.8.weight): 0.8077\n",
      "(features.10.weight): 0.8772\n",
      "(classifier.1.weight): 0.9201\n",
      "(classifier.4.weight): 0.9622\n",
      "(classifier.6.weight): 0.7388\n"
     ]
    },
    {
     "name": "stderr",
     "output_type": "stream",
     "text": [
      "  0%|          | 0/320 [00:00<?, ?it/s]"
     ]
    },
    {
     "name": "stdout",
     "output_type": "stream",
     "text": [
      "\n",
      "Test set: Average loss: 1.1130, Accuracy: 7018/10000 (70%)\n",
      "\n",
      "Epoch: 62\n"
     ]
    },
    {
     "name": "stderr",
     "output_type": "stream",
     "text": [
      "100%|██████████| 320/320 [00:28<00:00, 11.95it/s]\n"
     ]
    },
    {
     "name": "stdout",
     "output_type": "stream",
     "text": [
      "normalized norm of (weight - projection)\n",
      "(features.0.weight): 0.3989\n",
      "(features.3.weight): 0.6590\n",
      "(features.6.weight): 0.7233\n",
      "(features.8.weight): 0.8015\n",
      "(features.10.weight): 0.8715\n",
      "(classifier.1.weight): 0.9186\n",
      "(classifier.4.weight): 0.9621\n",
      "(classifier.6.weight): 0.7355\n"
     ]
    },
    {
     "name": "stderr",
     "output_type": "stream",
     "text": [
      "  0%|          | 0/223 [00:00<?, ?it/s]"
     ]
    },
    {
     "name": "stdout",
     "output_type": "stream",
     "text": [
      "\n",
      "Test set: Average loss: 1.1050, Accuracy: 7092/10000 (71%)\n",
      "\n",
      "Epoch: 62\n"
     ]
    },
    {
     "name": "stderr",
     "output_type": "stream",
     "text": [
      "100%|██████████| 223/223 [00:20<00:00, 10.78it/s]\n"
     ]
    },
    {
     "name": "stdout",
     "output_type": "stream",
     "text": [
      "normalized norm of (weight - projection)\n",
      "(features.0.weight): 0.3998\n",
      "(features.3.weight): 0.6620\n",
      "(features.6.weight): 0.7218\n",
      "(features.8.weight): 0.8073\n",
      "(features.10.weight): 0.8884\n",
      "(classifier.1.weight): 0.9388\n",
      "(classifier.4.weight): 0.9712\n",
      "(classifier.6.weight): 0.7381\n"
     ]
    },
    {
     "name": "stderr",
     "output_type": "stream",
     "text": [
      "  0%|          | 0/223 [00:00<?, ?it/s]"
     ]
    },
    {
     "name": "stdout",
     "output_type": "stream",
     "text": [
      "\n",
      "Test set: Average loss: 1.1832, Accuracy: 6987/10000 (70%)\n",
      "\n",
      "Epoch: 63\n"
     ]
    },
    {
     "name": "stderr",
     "output_type": "stream",
     "text": [
      "100%|██████████| 223/223 [00:19<00:00, 11.60it/s]\n"
     ]
    },
    {
     "name": "stdout",
     "output_type": "stream",
     "text": [
      "normalized norm of (weight - projection)\n",
      "(features.0.weight): 0.4058\n",
      "(features.3.weight): 0.6684\n",
      "(features.6.weight): 0.7340\n",
      "(features.8.weight): 0.8234\n",
      "(features.10.weight): 0.8963\n",
      "(classifier.1.weight): 0.9442\n",
      "(classifier.4.weight): 0.9760\n",
      "(classifier.6.weight): 0.7297\n"
     ]
    },
    {
     "name": "stderr",
     "output_type": "stream",
     "text": [
      "  0%|          | 0/223 [00:00<?, ?it/s]"
     ]
    },
    {
     "name": "stdout",
     "output_type": "stream",
     "text": [
      "\n",
      "Test set: Average loss: 1.1619, Accuracy: 6906/10000 (69%)\n",
      "\n",
      "Epoch: 63\n"
     ]
    },
    {
     "name": "stderr",
     "output_type": "stream",
     "text": [
      "100%|██████████| 223/223 [00:19<00:00, 10.78it/s]\n"
     ]
    },
    {
     "name": "stdout",
     "output_type": "stream",
     "text": [
      "normalized norm of (weight - projection)\n",
      "(features.0.weight): 0.3976\n",
      "(features.3.weight): 0.6571\n",
      "(features.6.weight): 0.7150\n",
      "(features.8.weight): 0.8022\n",
      "(features.10.weight): 0.8836\n",
      "(classifier.1.weight): 0.9379\n",
      "(classifier.4.weight): 0.9713\n",
      "(classifier.6.weight): 0.7391\n"
     ]
    },
    {
     "name": "stderr",
     "output_type": "stream",
     "text": [
      "  0%|          | 0/320 [00:00<?, ?it/s]"
     ]
    },
    {
     "name": "stdout",
     "output_type": "stream",
     "text": [
      "\n",
      "Test set: Average loss: 1.1500, Accuracy: 6896/10000 (69%)\n",
      "\n",
      "Epoch: 64\n"
     ]
    },
    {
     "name": "stderr",
     "output_type": "stream",
     "text": [
      "100%|██████████| 320/320 [00:27<00:00, 11.74it/s]\n"
     ]
    },
    {
     "name": "stdout",
     "output_type": "stream",
     "text": [
      "normalized norm of (weight - projection)\n",
      "(features.0.weight): 0.3967\n",
      "(features.3.weight): 0.6565\n",
      "(features.6.weight): 0.7187\n",
      "(features.8.weight): 0.8016\n",
      "(features.10.weight): 0.8756\n",
      "(classifier.1.weight): 0.9184\n",
      "(classifier.4.weight): 0.9616\n",
      "(classifier.6.weight): 0.7340\n"
     ]
    },
    {
     "name": "stderr",
     "output_type": "stream",
     "text": [
      "  0%|          | 0/223 [00:00<?, ?it/s]"
     ]
    },
    {
     "name": "stdout",
     "output_type": "stream",
     "text": [
      "\n",
      "Test set: Average loss: 1.2653, Accuracy: 6843/10000 (68%)\n",
      "\n",
      "Epoch: 64\n"
     ]
    },
    {
     "name": "stderr",
     "output_type": "stream",
     "text": [
      "100%|██████████| 223/223 [00:19<00:00, 10.31it/s]\n"
     ]
    },
    {
     "name": "stdout",
     "output_type": "stream",
     "text": [
      "normalized norm of (weight - projection)\n",
      "(features.0.weight): 0.3991\n",
      "(features.3.weight): 0.6608\n",
      "(features.6.weight): 0.7213\n",
      "(features.8.weight): 0.8090\n",
      "(features.10.weight): 0.8894\n",
      "(classifier.1.weight): 0.9413\n",
      "(classifier.4.weight): 0.9719\n",
      "(classifier.6.weight): 0.7330\n"
     ]
    },
    {
     "name": "stderr",
     "output_type": "stream",
     "text": [
      "  0%|          | 0/320 [00:00<?, ?it/s]"
     ]
    },
    {
     "name": "stdout",
     "output_type": "stream",
     "text": [
      "\n",
      "Test set: Average loss: 1.1868, Accuracy: 6980/10000 (70%)\n",
      "\n",
      "Epoch: 65\n"
     ]
    },
    {
     "name": "stderr",
     "output_type": "stream",
     "text": [
      "100%|██████████| 320/320 [00:28<00:00, 11.36it/s]\n"
     ]
    },
    {
     "name": "stdout",
     "output_type": "stream",
     "text": [
      "normalized norm of (weight - projection)\n",
      "(features.0.weight): 0.3950\n",
      "(features.3.weight): 0.6545\n",
      "(features.6.weight): 0.7183\n",
      "(features.8.weight): 0.8003\n",
      "(features.10.weight): 0.8746\n",
      "(classifier.1.weight): 0.9184\n",
      "(classifier.4.weight): 0.9618\n",
      "(classifier.6.weight): 0.7336\n"
     ]
    },
    {
     "name": "stderr",
     "output_type": "stream",
     "text": [
      "  0%|          | 0/223 [00:00<?, ?it/s]"
     ]
    },
    {
     "name": "stdout",
     "output_type": "stream",
     "text": [
      "\n",
      "Test set: Average loss: 1.1775, Accuracy: 6972/10000 (70%)\n",
      "\n",
      "Epoch: 65\n"
     ]
    },
    {
     "name": "stderr",
     "output_type": "stream",
     "text": [
      "100%|██████████| 223/223 [00:19<00:00, 11.21it/s]\n"
     ]
    },
    {
     "name": "stdout",
     "output_type": "stream",
     "text": [
      "normalized norm of (weight - projection)\n",
      "(features.0.weight): 0.3996\n",
      "(features.3.weight): 0.6576\n",
      "(features.6.weight): 0.7253\n",
      "(features.8.weight): 0.8173\n",
      "(features.10.weight): 0.8951\n",
      "(classifier.1.weight): 0.9449\n",
      "(classifier.4.weight): 0.9762\n",
      "(classifier.6.weight): 0.7283\n"
     ]
    },
    {
     "name": "stderr",
     "output_type": "stream",
     "text": [
      "  0%|          | 0/223 [00:00<?, ?it/s]"
     ]
    },
    {
     "name": "stdout",
     "output_type": "stream",
     "text": [
      "\n",
      "Test set: Average loss: 1.2384, Accuracy: 6949/10000 (69%)\n",
      "\n",
      "Epoch: 66\n"
     ]
    },
    {
     "name": "stderr",
     "output_type": "stream",
     "text": [
      "100%|██████████| 223/223 [00:20<00:00, 11.38it/s]\n"
     ]
    },
    {
     "name": "stdout",
     "output_type": "stream",
     "text": [
      "normalized norm of (weight - projection)\n",
      "(features.0.weight): 0.3956\n",
      "(features.3.weight): 0.6494\n",
      "(features.6.weight): 0.7168\n",
      "(features.8.weight): 0.8117\n",
      "(features.10.weight): 0.8912\n",
      "(classifier.1.weight): 0.9435\n",
      "(classifier.4.weight): 0.9760\n",
      "(classifier.6.weight): 0.7311\n"
     ]
    },
    {
     "name": "stderr",
     "output_type": "stream",
     "text": [
      "  0%|          | 0/320 [00:00<?, ?it/s]"
     ]
    },
    {
     "name": "stdout",
     "output_type": "stream",
     "text": [
      "\n",
      "Test set: Average loss: 1.1372, Accuracy: 7012/10000 (70%)\n",
      "\n",
      "Epoch: 66\n"
     ]
    },
    {
     "name": "stderr",
     "output_type": "stream",
     "text": [
      "100%|██████████| 320/320 [00:28<00:00, 11.05it/s]\n"
     ]
    },
    {
     "name": "stdout",
     "output_type": "stream",
     "text": [
      "normalized norm of (weight - projection)\n",
      "(features.0.weight): 0.3948\n",
      "(features.3.weight): 0.6542\n",
      "(features.6.weight): 0.7182\n",
      "(features.8.weight): 0.8007\n",
      "(features.10.weight): 0.8762\n",
      "(classifier.1.weight): 0.9209\n",
      "(classifier.4.weight): 0.9622\n",
      "(classifier.6.weight): 0.7313\n"
     ]
    },
    {
     "name": "stderr",
     "output_type": "stream",
     "text": [
      "  0%|          | 0/223 [00:00<?, ?it/s]"
     ]
    },
    {
     "name": "stdout",
     "output_type": "stream",
     "text": [
      "\n",
      "Test set: Average loss: 1.1551, Accuracy: 6952/10000 (70%)\n",
      "\n",
      "Epoch: 67\n"
     ]
    },
    {
     "name": "stderr",
     "output_type": "stream",
     "text": [
      "100%|██████████| 223/223 [00:20<00:00, 11.56it/s]\n"
     ]
    },
    {
     "name": "stdout",
     "output_type": "stream",
     "text": [
      "normalized norm of (weight - projection)\n",
      "(features.0.weight): 0.3952\n",
      "(features.3.weight): 0.6540\n",
      "(features.6.weight): 0.7153\n",
      "(features.8.weight): 0.8032\n",
      "(features.10.weight): 0.8865\n",
      "(classifier.1.weight): 0.9394\n",
      "(classifier.4.weight): 0.9714\n",
      "(classifier.6.weight): 0.7319\n"
     ]
    },
    {
     "name": "stderr",
     "output_type": "stream",
     "text": [
      "  0%|          | 0/320 [00:00<?, ?it/s]"
     ]
    },
    {
     "name": "stdout",
     "output_type": "stream",
     "text": [
      "\n",
      "Test set: Average loss: 1.1803, Accuracy: 6991/10000 (70%)\n",
      "\n",
      "Epoch: 67\n"
     ]
    },
    {
     "name": "stderr",
     "output_type": "stream",
     "text": [
      "100%|██████████| 320/320 [00:28<00:00, 11.33it/s]\n"
     ]
    },
    {
     "name": "stdout",
     "output_type": "stream",
     "text": [
      "normalized norm of (weight - projection)\n",
      "(features.0.weight): 0.3919\n",
      "(features.3.weight): 0.6508\n",
      "(features.6.weight): 0.7148\n",
      "(features.8.weight): 0.7979\n",
      "(features.10.weight): 0.8724\n",
      "(classifier.1.weight): 0.9192\n",
      "(classifier.4.weight): 0.9617\n",
      "(classifier.6.weight): 0.7297\n"
     ]
    },
    {
     "name": "stderr",
     "output_type": "stream",
     "text": [
      "  0%|          | 0/223 [00:00<?, ?it/s]"
     ]
    },
    {
     "name": "stdout",
     "output_type": "stream",
     "text": [
      "\n",
      "Test set: Average loss: 1.2038, Accuracy: 7047/10000 (70%)\n",
      "\n",
      "Epoch: 68\n"
     ]
    },
    {
     "name": "stderr",
     "output_type": "stream",
     "text": [
      "100%|██████████| 223/223 [00:19<00:00, 11.27it/s]\n"
     ]
    },
    {
     "name": "stdout",
     "output_type": "stream",
     "text": [
      "normalized norm of (weight - projection)\n",
      "(features.0.weight): 0.3930\n",
      "(features.3.weight): 0.6479\n",
      "(features.6.weight): 0.7142\n",
      "(features.8.weight): 0.8092\n",
      "(features.10.weight): 0.8906\n",
      "(classifier.1.weight): 0.9434\n",
      "(classifier.4.weight): 0.9758\n",
      "(classifier.6.weight): 0.7280\n"
     ]
    },
    {
     "name": "stderr",
     "output_type": "stream",
     "text": [
      "  0%|          | 0/320 [00:00<?, ?it/s]"
     ]
    },
    {
     "name": "stdout",
     "output_type": "stream",
     "text": [
      "\n",
      "Test set: Average loss: 1.1635, Accuracy: 7028/10000 (70%)\n",
      "\n",
      "Epoch: 68\n"
     ]
    },
    {
     "name": "stderr",
     "output_type": "stream",
     "text": [
      "100%|██████████| 320/320 [00:28<00:00, 11.06it/s]\n"
     ]
    },
    {
     "name": "stdout",
     "output_type": "stream",
     "text": [
      "normalized norm of (weight - projection)\n",
      "(features.0.weight): 0.3908\n",
      "(features.3.weight): 0.6503\n",
      "(features.6.weight): 0.7144\n",
      "(features.8.weight): 0.7972\n",
      "(features.10.weight): 0.8753\n",
      "(classifier.1.weight): 0.9208\n",
      "(classifier.4.weight): 0.9620\n",
      "(classifier.6.weight): 0.7302\n"
     ]
    },
    {
     "name": "stderr",
     "output_type": "stream",
     "text": [
      "  0%|          | 0/223 [00:00<?, ?it/s]"
     ]
    },
    {
     "name": "stdout",
     "output_type": "stream",
     "text": [
      "\n",
      "Test set: Average loss: 1.1795, Accuracy: 6949/10000 (69%)\n",
      "\n",
      "Epoch: 69\n"
     ]
    },
    {
     "name": "stderr",
     "output_type": "stream",
     "text": [
      "100%|██████████| 223/223 [00:20<00:00, 10.87it/s]\n"
     ]
    },
    {
     "name": "stdout",
     "output_type": "stream",
     "text": [
      "normalized norm of (weight - projection)\n",
      "(features.0.weight): 0.3914\n",
      "(features.3.weight): 0.6502\n",
      "(features.6.weight): 0.7103\n",
      "(features.8.weight): 0.7993\n",
      "(features.10.weight): 0.8854\n",
      "(classifier.1.weight): 0.9395\n",
      "(classifier.4.weight): 0.9714\n",
      "(classifier.6.weight): 0.7341\n"
     ]
    },
    {
     "name": "stderr",
     "output_type": "stream",
     "text": [
      "  0%|          | 0/320 [00:00<?, ?it/s]"
     ]
    },
    {
     "name": "stdout",
     "output_type": "stream",
     "text": [
      "\n",
      "Test set: Average loss: 1.2159, Accuracy: 6973/10000 (70%)\n",
      "\n",
      "Epoch: 69\n"
     ]
    },
    {
     "name": "stderr",
     "output_type": "stream",
     "text": [
      "100%|██████████| 320/320 [00:27<00:00, 11.44it/s]\n"
     ]
    },
    {
     "name": "stdout",
     "output_type": "stream",
     "text": [
      "normalized norm of (weight - projection)\n",
      "(features.0.weight): 0.3887\n",
      "(features.3.weight): 0.6475\n",
      "(features.6.weight): 0.7115\n",
      "(features.8.weight): 0.7961\n",
      "(features.10.weight): 0.8744\n",
      "(classifier.1.weight): 0.9191\n",
      "(classifier.4.weight): 0.9618\n",
      "(classifier.6.weight): 0.7279\n"
     ]
    },
    {
     "name": "stderr",
     "output_type": "stream",
     "text": [
      "  0%|          | 0/223 [00:00<?, ?it/s]"
     ]
    },
    {
     "name": "stdout",
     "output_type": "stream",
     "text": [
      "\n",
      "Test set: Average loss: 1.1999, Accuracy: 7049/10000 (70%)\n",
      "\n",
      "Epoch: 70\n"
     ]
    },
    {
     "name": "stderr",
     "output_type": "stream",
     "text": [
      "100%|██████████| 223/223 [00:19<00:00, 12.51it/s]\n"
     ]
    },
    {
     "name": "stdout",
     "output_type": "stream",
     "text": [
      "normalized norm of (weight - projection)\n",
      "(features.0.weight): 0.3886\n",
      "(features.3.weight): 0.6459\n",
      "(features.6.weight): 0.7053\n",
      "(features.8.weight): 0.7967\n",
      "(features.10.weight): 0.8845\n",
      "(classifier.1.weight): 0.9394\n",
      "(classifier.4.weight): 0.9714\n",
      "(classifier.6.weight): 0.7356\n"
     ]
    },
    {
     "name": "stderr",
     "output_type": "stream",
     "text": [
      "  0%|          | 0/320 [00:00<?, ?it/s]"
     ]
    },
    {
     "name": "stdout",
     "output_type": "stream",
     "text": [
      "\n",
      "Test set: Average loss: 1.2161, Accuracy: 7052/10000 (71%)\n",
      "\n",
      "Epoch: 70\n"
     ]
    },
    {
     "name": "stderr",
     "output_type": "stream",
     "text": [
      "100%|██████████| 320/320 [00:27<00:00, 11.66it/s]\n"
     ]
    },
    {
     "name": "stdout",
     "output_type": "stream",
     "text": [
      "normalized norm of (weight - projection)\n",
      "(features.0.weight): 0.3873\n",
      "(features.3.weight): 0.6450\n",
      "(features.6.weight): 0.7094\n",
      "(features.8.weight): 0.7933\n",
      "(features.10.weight): 0.8732\n",
      "(classifier.1.weight): 0.9188\n",
      "(classifier.4.weight): 0.9616\n",
      "(classifier.6.weight): 0.7266\n"
     ]
    },
    {
     "name": "stderr",
     "output_type": "stream",
     "text": [
      "  0%|          | 0/223 [00:00<?, ?it/s]"
     ]
    },
    {
     "name": "stdout",
     "output_type": "stream",
     "text": [
      "\n",
      "Test set: Average loss: 1.2582, Accuracy: 6952/10000 (70%)\n",
      "\n",
      "Epoch: 71\n"
     ]
    },
    {
     "name": "stderr",
     "output_type": "stream",
     "text": [
      "100%|██████████| 223/223 [00:19<00:00, 10.92it/s]\n"
     ]
    },
    {
     "name": "stdout",
     "output_type": "stream",
     "text": [
      "normalized norm of (weight - projection)\n",
      "(features.0.weight): 0.3862\n",
      "(features.3.weight): 0.6421\n",
      "(features.6.weight): 0.7007\n",
      "(features.8.weight): 0.7939\n",
      "(features.10.weight): 0.8827\n",
      "(classifier.1.weight): 0.9383\n",
      "(classifier.4.weight): 0.9713\n",
      "(classifier.6.weight): 0.7313\n"
     ]
    },
    {
     "name": "stderr",
     "output_type": "stream",
     "text": [
      "  0%|          | 0/320 [00:00<?, ?it/s]"
     ]
    },
    {
     "name": "stdout",
     "output_type": "stream",
     "text": [
      "\n",
      "Test set: Average loss: 1.3209, Accuracy: 6897/10000 (69%)\n",
      "\n",
      "Epoch: 71\n"
     ]
    },
    {
     "name": "stderr",
     "output_type": "stream",
     "text": [
      "100%|██████████| 320/320 [00:29<00:00, 11.29it/s]\n"
     ]
    },
    {
     "name": "stdout",
     "output_type": "stream",
     "text": [
      "normalized norm of (weight - projection)\n",
      "(features.0.weight): 0.3850\n",
      "(features.3.weight): 0.6419\n",
      "(features.6.weight): 0.7053\n",
      "(features.8.weight): 0.7901\n",
      "(features.10.weight): 0.8690\n",
      "(classifier.1.weight): 0.9174\n",
      "(classifier.4.weight): 0.9616\n",
      "(classifier.6.weight): 0.7277\n"
     ]
    },
    {
     "name": "stderr",
     "output_type": "stream",
     "text": [
      "  0%|          | 0/223 [00:00<?, ?it/s]"
     ]
    },
    {
     "name": "stdout",
     "output_type": "stream",
     "text": [
      "\n",
      "Test set: Average loss: 1.2490, Accuracy: 6945/10000 (69%)\n",
      "\n",
      "Epoch: 72\n"
     ]
    },
    {
     "name": "stderr",
     "output_type": "stream",
     "text": [
      "100%|██████████| 223/223 [00:19<00:00, 11.65it/s]\n"
     ]
    },
    {
     "name": "stdout",
     "output_type": "stream",
     "text": [
      "normalized norm of (weight - projection)\n",
      "(features.0.weight): 0.3833\n",
      "(features.3.weight): 0.6375\n",
      "(features.6.weight): 0.6967\n",
      "(features.8.weight): 0.7900\n",
      "(features.10.weight): 0.8800\n",
      "(classifier.1.weight): 0.9381\n",
      "(classifier.4.weight): 0.9715\n",
      "(classifier.6.weight): 0.7339\n"
     ]
    },
    {
     "name": "stderr",
     "output_type": "stream",
     "text": [
      "  0%|          | 0/320 [00:00<?, ?it/s]"
     ]
    },
    {
     "name": "stdout",
     "output_type": "stream",
     "text": [
      "\n",
      "Test set: Average loss: 1.2808, Accuracy: 6912/10000 (69%)\n",
      "\n",
      "Epoch: 72\n"
     ]
    },
    {
     "name": "stderr",
     "output_type": "stream",
     "text": [
      "100%|██████████| 320/320 [00:28<00:00, 11.26it/s]\n"
     ]
    },
    {
     "name": "stdout",
     "output_type": "stream",
     "text": [
      "normalized norm of (weight - projection)\n",
      "(features.0.weight): 0.3828\n",
      "(features.3.weight): 0.6383\n",
      "(features.6.weight): 0.7033\n",
      "(features.8.weight): 0.7892\n",
      "(features.10.weight): 0.8703\n",
      "(classifier.1.weight): 0.9179\n",
      "(classifier.4.weight): 0.9614\n",
      "(classifier.6.weight): 0.7270\n"
     ]
    },
    {
     "name": "stderr",
     "output_type": "stream",
     "text": [
      "  0%|          | 0/223 [00:00<?, ?it/s]"
     ]
    },
    {
     "name": "stdout",
     "output_type": "stream",
     "text": [
      "\n",
      "Test set: Average loss: 1.2626, Accuracy: 7029/10000 (70%)\n",
      "\n",
      "Epoch: 73\n"
     ]
    },
    {
     "name": "stderr",
     "output_type": "stream",
     "text": [
      "100%|██████████| 223/223 [00:19<00:00, 11.19it/s]\n"
     ]
    },
    {
     "name": "stdout",
     "output_type": "stream",
     "text": [
      "normalized norm of (weight - projection)\n",
      "(features.0.weight): 0.3822\n",
      "(features.3.weight): 0.6350\n",
      "(features.6.weight): 0.6941\n",
      "(features.8.weight): 0.7871\n",
      "(features.10.weight): 0.8787\n",
      "(classifier.1.weight): 0.9379\n",
      "(classifier.4.weight): 0.9713\n",
      "(classifier.6.weight): 0.7337\n"
     ]
    },
    {
     "name": "stderr",
     "output_type": "stream",
     "text": [
      "  0%|          | 0/223 [00:00<?, ?it/s]"
     ]
    },
    {
     "name": "stdout",
     "output_type": "stream",
     "text": [
      "\n",
      "Test set: Average loss: 1.2869, Accuracy: 6909/10000 (69%)\n",
      "\n",
      "Epoch: 73\n"
     ]
    },
    {
     "name": "stderr",
     "output_type": "stream",
     "text": [
      "100%|██████████| 223/223 [00:19<00:00, 11.51it/s]\n"
     ]
    },
    {
     "name": "stdout",
     "output_type": "stream",
     "text": [
      "normalized norm of (weight - projection)\n",
      "(features.0.weight): 0.3901\n",
      "(features.3.weight): 0.6449\n",
      "(features.6.weight): 0.7112\n",
      "(features.8.weight): 0.8071\n",
      "(features.10.weight): 0.8903\n",
      "(classifier.1.weight): 0.9431\n",
      "(classifier.4.weight): 0.9755\n",
      "(classifier.6.weight): 0.7277\n"
     ]
    },
    {
     "name": "stderr",
     "output_type": "stream",
     "text": [
      "  0%|          | 0/223 [00:00<?, ?it/s]"
     ]
    },
    {
     "name": "stdout",
     "output_type": "stream",
     "text": [
      "\n",
      "Test set: Average loss: 1.1995, Accuracy: 6969/10000 (70%)\n",
      "\n",
      "Epoch: 74\n"
     ]
    },
    {
     "name": "stderr",
     "output_type": "stream",
     "text": [
      "100%|██████████| 223/223 [00:19<00:00, 10.81it/s]\n"
     ]
    },
    {
     "name": "stdout",
     "output_type": "stream",
     "text": [
      "normalized norm of (weight - projection)\n",
      "(features.0.weight): 0.3838\n",
      "(features.3.weight): 0.6393\n",
      "(features.6.weight): 0.6986\n",
      "(features.8.weight): 0.7918\n",
      "(features.10.weight): 0.8834\n",
      "(classifier.1.weight): 0.9407\n",
      "(classifier.4.weight): 0.9716\n",
      "(classifier.6.weight): 0.7288\n"
     ]
    },
    {
     "name": "stderr",
     "output_type": "stream",
     "text": [
      "  0%|          | 0/320 [00:00<?, ?it/s]"
     ]
    },
    {
     "name": "stdout",
     "output_type": "stream",
     "text": [
      "\n",
      "Test set: Average loss: 1.2663, Accuracy: 6993/10000 (70%)\n",
      "\n",
      "Epoch: 74\n"
     ]
    },
    {
     "name": "stderr",
     "output_type": "stream",
     "text": [
      "100%|██████████| 320/320 [00:28<00:00, 11.30it/s]\n"
     ]
    },
    {
     "name": "stdout",
     "output_type": "stream",
     "text": [
      "normalized norm of (weight - projection)\n",
      "(features.0.weight): 0.3805\n",
      "(features.3.weight): 0.6353\n",
      "(features.6.weight): 0.6996\n",
      "(features.8.weight): 0.7855\n",
      "(features.10.weight): 0.8680\n",
      "(classifier.1.weight): 0.9169\n",
      "(classifier.4.weight): 0.9616\n",
      "(classifier.6.weight): 0.7271\n"
     ]
    },
    {
     "name": "stderr",
     "output_type": "stream",
     "text": [
      "  0%|          | 0/223 [00:00<?, ?it/s]"
     ]
    },
    {
     "name": "stdout",
     "output_type": "stream",
     "text": [
      "\n",
      "Test set: Average loss: 1.2335, Accuracy: 6963/10000 (70%)\n",
      "\n",
      "Epoch: 75\n"
     ]
    },
    {
     "name": "stderr",
     "output_type": "stream",
     "text": [
      "100%|██████████| 223/223 [00:19<00:00, 11.24it/s]\n"
     ]
    },
    {
     "name": "stdout",
     "output_type": "stream",
     "text": [
      "normalized norm of (weight - projection)\n",
      "(features.0.weight): 0.3843\n",
      "(features.3.weight): 0.6344\n",
      "(features.6.weight): 0.7033\n",
      "(features.8.weight): 0.8012\n",
      "(features.10.weight): 0.8882\n",
      "(classifier.1.weight): 0.9426\n",
      "(classifier.4.weight): 0.9757\n",
      "(classifier.6.weight): 0.7269\n"
     ]
    },
    {
     "name": "stderr",
     "output_type": "stream",
     "text": [
      "  0%|          | 0/223 [00:00<?, ?it/s]"
     ]
    },
    {
     "name": "stdout",
     "output_type": "stream",
     "text": [
      "\n",
      "Test set: Average loss: 1.1307, Accuracy: 7007/10000 (70%)\n",
      "\n",
      "Epoch: 75\n"
     ]
    },
    {
     "name": "stderr",
     "output_type": "stream",
     "text": [
      "100%|██████████| 223/223 [00:19<00:00, 11.46it/s]\n"
     ]
    },
    {
     "name": "stdout",
     "output_type": "stream",
     "text": [
      "normalized norm of (weight - projection)\n",
      "(features.0.weight): 0.3810\n",
      "(features.3.weight): 0.6336\n",
      "(features.6.weight): 0.6930\n",
      "(features.8.weight): 0.7878\n",
      "(features.10.weight): 0.8824\n",
      "(classifier.1.weight): 0.9401\n",
      "(classifier.4.weight): 0.9715\n",
      "(classifier.6.weight): 0.7261\n"
     ]
    },
    {
     "name": "stderr",
     "output_type": "stream",
     "text": [
      "  0%|          | 0/223 [00:00<?, ?it/s]"
     ]
    },
    {
     "name": "stdout",
     "output_type": "stream",
     "text": [
      "\n",
      "Test set: Average loss: 1.3637, Accuracy: 6953/10000 (70%)\n",
      "\n",
      "Epoch: 76\n"
     ]
    },
    {
     "name": "stderr",
     "output_type": "stream",
     "text": [
      "100%|██████████| 223/223 [00:19<00:00, 12.31it/s]\n"
     ]
    },
    {
     "name": "stdout",
     "output_type": "stream",
     "text": [
      "normalized norm of (weight - projection)\n",
      "(features.0.weight): 0.3806\n",
      "(features.3.weight): 0.6329\n",
      "(features.6.weight): 0.6930\n",
      "(features.8.weight): 0.7893\n",
      "(features.10.weight): 0.8840\n",
      "(classifier.1.weight): 0.9403\n",
      "(classifier.4.weight): 0.9716\n",
      "(classifier.6.weight): 0.7306\n"
     ]
    },
    {
     "name": "stderr",
     "output_type": "stream",
     "text": [
      "  0%|          | 0/320 [00:00<?, ?it/s]"
     ]
    },
    {
     "name": "stdout",
     "output_type": "stream",
     "text": [
      "\n",
      "Test set: Average loss: 1.2559, Accuracy: 6976/10000 (70%)\n",
      "\n",
      "Epoch: 76\n"
     ]
    },
    {
     "name": "stderr",
     "output_type": "stream",
     "text": [
      "100%|██████████| 320/320 [00:28<00:00, 11.19it/s]\n"
     ]
    },
    {
     "name": "stdout",
     "output_type": "stream",
     "text": [
      "normalized norm of (weight - projection)\n",
      "(features.0.weight): 0.3805\n",
      "(features.3.weight): 0.6361\n",
      "(features.6.weight): 0.6996\n",
      "(features.8.weight): 0.7874\n",
      "(features.10.weight): 0.8715\n",
      "(classifier.1.weight): 0.9189\n",
      "(classifier.4.weight): 0.9618\n",
      "(classifier.6.weight): 0.7259\n"
     ]
    },
    {
     "name": "stderr",
     "output_type": "stream",
     "text": [
      "  0%|          | 0/223 [00:00<?, ?it/s]"
     ]
    },
    {
     "name": "stdout",
     "output_type": "stream",
     "text": [
      "\n",
      "Test set: Average loss: 1.3047, Accuracy: 6940/10000 (69%)\n",
      "\n",
      "Epoch: 77\n"
     ]
    },
    {
     "name": "stderr",
     "output_type": "stream",
     "text": [
      "100%|██████████| 223/223 [00:19<00:00, 11.20it/s]\n"
     ]
    },
    {
     "name": "stdout",
     "output_type": "stream",
     "text": [
      "normalized norm of (weight - projection)\n",
      "(features.0.weight): 0.3815\n",
      "(features.3.weight): 0.6297\n",
      "(features.6.weight): 0.6983\n",
      "(features.8.weight): 0.7982\n",
      "(features.10.weight): 0.8873\n",
      "(classifier.1.weight): 0.9444\n",
      "(classifier.4.weight): 0.9760\n",
      "(classifier.6.weight): 0.7227\n"
     ]
    },
    {
     "name": "stderr",
     "output_type": "stream",
     "text": [
      "  0%|          | 0/320 [00:00<?, ?it/s]"
     ]
    },
    {
     "name": "stdout",
     "output_type": "stream",
     "text": [
      "\n",
      "Test set: Average loss: 1.1938, Accuracy: 6949/10000 (69%)\n",
      "\n",
      "Epoch: 77\n"
     ]
    },
    {
     "name": "stderr",
     "output_type": "stream",
     "text": [
      "100%|██████████| 320/320 [00:29<00:00, 10.56it/s]\n"
     ]
    },
    {
     "name": "stdout",
     "output_type": "stream",
     "text": [
      "normalized norm of (weight - projection)\n",
      "(features.0.weight): 0.3777\n",
      "(features.3.weight): 0.6337\n",
      "(features.6.weight): 0.6982\n",
      "(features.8.weight): 0.7851\n",
      "(features.10.weight): 0.8717\n",
      "(classifier.1.weight): 0.9200\n",
      "(classifier.4.weight): 0.9620\n",
      "(classifier.6.weight): 0.7264\n"
     ]
    },
    {
     "name": "stderr",
     "output_type": "stream",
     "text": [
      "  0%|          | 0/223 [00:00<?, ?it/s]"
     ]
    },
    {
     "name": "stdout",
     "output_type": "stream",
     "text": [
      "\n",
      "Test set: Average loss: 1.2174, Accuracy: 6962/10000 (70%)\n",
      "\n",
      "Epoch: 78\n"
     ]
    },
    {
     "name": "stderr",
     "output_type": "stream",
     "text": [
      "100%|██████████| 223/223 [00:20<00:00, 11.15it/s]\n"
     ]
    },
    {
     "name": "stdout",
     "output_type": "stream",
     "text": [
      "normalized norm of (weight - projection)\n",
      "(features.0.weight): 0.3783\n",
      "(features.3.weight): 0.6318\n",
      "(features.6.weight): 0.6911\n",
      "(features.8.weight): 0.7866\n",
      "(features.10.weight): 0.8827\n",
      "(classifier.1.weight): 0.9397\n",
      "(classifier.4.weight): 0.9715\n",
      "(classifier.6.weight): 0.7267\n"
     ]
    },
    {
     "name": "stderr",
     "output_type": "stream",
     "text": [
      "  0%|          | 0/320 [00:00<?, ?it/s]"
     ]
    },
    {
     "name": "stdout",
     "output_type": "stream",
     "text": [
      "\n",
      "Test set: Average loss: 1.3054, Accuracy: 6956/10000 (70%)\n",
      "\n",
      "Epoch: 78\n"
     ]
    },
    {
     "name": "stderr",
     "output_type": "stream",
     "text": [
      "100%|██████████| 320/320 [00:28<00:00, 11.24it/s]\n"
     ]
    },
    {
     "name": "stdout",
     "output_type": "stream",
     "text": [
      "normalized norm of (weight - projection)\n",
      "(features.0.weight): 0.3778\n",
      "(features.3.weight): 0.6311\n",
      "(features.6.weight): 0.6956\n",
      "(features.8.weight): 0.7851\n",
      "(features.10.weight): 0.8720\n",
      "(classifier.1.weight): 0.9199\n",
      "(classifier.4.weight): 0.9618\n",
      "(classifier.6.weight): 0.7251\n"
     ]
    },
    {
     "name": "stderr",
     "output_type": "stream",
     "text": [
      "  0%|          | 0/320 [00:00<?, ?it/s]"
     ]
    },
    {
     "name": "stdout",
     "output_type": "stream",
     "text": [
      "\n",
      "Test set: Average loss: 1.3724, Accuracy: 6906/10000 (69%)\n",
      "\n",
      "Epoch: 79\n"
     ]
    },
    {
     "name": "stderr",
     "output_type": "stream",
     "text": [
      "100%|██████████| 320/320 [00:28<00:00, 11.11it/s]\n"
     ]
    },
    {
     "name": "stdout",
     "output_type": "stream",
     "text": [
      "normalized norm of (weight - projection)\n",
      "(features.0.weight): 0.3753\n",
      "(features.3.weight): 0.6289\n",
      "(features.6.weight): 0.6941\n",
      "(features.8.weight): 0.7825\n",
      "(features.10.weight): 0.8705\n",
      "(classifier.1.weight): 0.9190\n",
      "(classifier.4.weight): 0.9620\n",
      "(classifier.6.weight): 0.7258\n"
     ]
    },
    {
     "name": "stderr",
     "output_type": "stream",
     "text": [
      "  0%|          | 0/223 [00:00<?, ?it/s]"
     ]
    },
    {
     "name": "stdout",
     "output_type": "stream",
     "text": [
      "\n",
      "Test set: Average loss: 1.2118, Accuracy: 7003/10000 (70%)\n",
      "\n",
      "Epoch: 79\n"
     ]
    },
    {
     "name": "stderr",
     "output_type": "stream",
     "text": [
      "100%|██████████| 223/223 [00:19<00:00, 11.44it/s]\n"
     ]
    },
    {
     "name": "stdout",
     "output_type": "stream",
     "text": [
      "normalized norm of (weight - projection)\n",
      "(features.0.weight): 0.3784\n",
      "(features.3.weight): 0.6253\n",
      "(features.6.weight): 0.6930\n",
      "(features.8.weight): 0.7947\n",
      "(features.10.weight): 0.8876\n",
      "(classifier.1.weight): 0.9433\n",
      "(classifier.4.weight): 0.9757\n",
      "(classifier.6.weight): 0.7246\n"
     ]
    },
    {
     "name": "stderr",
     "output_type": "stream",
     "text": [
      "  0%|          | 0/320 [00:00<?, ?it/s]"
     ]
    },
    {
     "name": "stdout",
     "output_type": "stream",
     "text": [
      "\n",
      "Test set: Average loss: 1.1800, Accuracy: 6984/10000 (70%)\n",
      "\n",
      "Epoch: 80\n"
     ]
    },
    {
     "name": "stderr",
     "output_type": "stream",
     "text": [
      "100%|██████████| 320/320 [00:27<00:00, 11.44it/s]\n"
     ]
    },
    {
     "name": "stdout",
     "output_type": "stream",
     "text": [
      "normalized norm of (weight - projection)\n",
      "(features.0.weight): 0.3744\n",
      "(features.3.weight): 0.6270\n",
      "(features.6.weight): 0.6928\n",
      "(features.8.weight): 0.7808\n",
      "(features.10.weight): 0.8690\n",
      "(classifier.1.weight): 0.9181\n",
      "(classifier.4.weight): 0.9614\n",
      "(classifier.6.weight): 0.7270\n"
     ]
    },
    {
     "name": "stderr",
     "output_type": "stream",
     "text": [
      "  0%|          | 0/223 [00:00<?, ?it/s]"
     ]
    },
    {
     "name": "stdout",
     "output_type": "stream",
     "text": [
      "\n",
      "Test set: Average loss: 1.3516, Accuracy: 6937/10000 (69%)\n",
      "\n",
      "Epoch: 80\n"
     ]
    },
    {
     "name": "stderr",
     "output_type": "stream",
     "text": [
      "100%|██████████| 223/223 [00:19<00:00, 11.35it/s]\n"
     ]
    },
    {
     "name": "stdout",
     "output_type": "stream",
     "text": [
      "normalized norm of (weight - projection)\n",
      "(features.0.weight): 0.3764\n",
      "(features.3.weight): 0.6291\n",
      "(features.6.weight): 0.6873\n",
      "(features.8.weight): 0.7835\n",
      "(features.10.weight): 0.8827\n",
      "(classifier.1.weight): 0.9394\n",
      "(classifier.4.weight): 0.9716\n",
      "(classifier.6.weight): 0.7298\n"
     ]
    },
    {
     "name": "stderr",
     "output_type": "stream",
     "text": [
      "  0%|          | 0/223 [00:00<?, ?it/s]"
     ]
    },
    {
     "name": "stdout",
     "output_type": "stream",
     "text": [
      "\n",
      "Test set: Average loss: 1.3191, Accuracy: 6960/10000 (70%)\n",
      "\n",
      "Epoch: 81\n"
     ]
    },
    {
     "name": "stderr",
     "output_type": "stream",
     "text": [
      "100%|██████████| 223/223 [00:19<00:00, 11.30it/s]\n"
     ]
    },
    {
     "name": "stdout",
     "output_type": "stream",
     "text": [
      "normalized norm of (weight - projection)\n",
      "(features.0.weight): 0.3742\n",
      "(features.3.weight): 0.6250\n",
      "(features.6.weight): 0.6839\n",
      "(features.8.weight): 0.7803\n",
      "(features.10.weight): 0.8804\n",
      "(classifier.1.weight): 0.9390\n",
      "(classifier.4.weight): 0.9715\n",
      "(classifier.6.weight): 0.7306\n"
     ]
    },
    {
     "name": "stderr",
     "output_type": "stream",
     "text": [
      "  0%|          | 0/223 [00:00<?, ?it/s]"
     ]
    },
    {
     "name": "stdout",
     "output_type": "stream",
     "text": [
      "\n",
      "Test set: Average loss: 1.2601, Accuracy: 6979/10000 (70%)\n",
      "\n",
      "Epoch: 81\n"
     ]
    },
    {
     "name": "stderr",
     "output_type": "stream",
     "text": [
      "100%|██████████| 223/223 [00:19<00:00, 12.96it/s]\n"
     ]
    },
    {
     "name": "stdout",
     "output_type": "stream",
     "text": [
      "normalized norm of (weight - projection)\n",
      "(features.0.weight): 0.3755\n",
      "(features.3.weight): 0.6234\n",
      "(features.6.weight): 0.6915\n",
      "(features.8.weight): 0.7924\n",
      "(features.10.weight): 0.8854\n",
      "(classifier.1.weight): 0.9420\n",
      "(classifier.4.weight): 0.9755\n",
      "(classifier.6.weight): 0.7248\n"
     ]
    },
    {
     "name": "stderr",
     "output_type": "stream",
     "text": [
      "  0%|          | 0/223 [00:00<?, ?it/s]"
     ]
    },
    {
     "name": "stdout",
     "output_type": "stream",
     "text": [
      "\n",
      "Test set: Average loss: 1.1613, Accuracy: 7075/10000 (71%)\n",
      "\n",
      "Epoch: 82\n"
     ]
    },
    {
     "name": "stderr",
     "output_type": "stream",
     "text": [
      "100%|██████████| 223/223 [00:20<00:00, 11.07it/s]\n"
     ]
    },
    {
     "name": "stdout",
     "output_type": "stream",
     "text": [
      "normalized norm of (weight - projection)\n",
      "(features.0.weight): 0.3729\n",
      "(features.3.weight): 0.6182\n",
      "(features.6.weight): 0.6868\n",
      "(features.8.weight): 0.7890\n",
      "(features.10.weight): 0.8860\n",
      "(classifier.1.weight): 0.9435\n",
      "(classifier.4.weight): 0.9760\n",
      "(classifier.6.weight): 0.7223\n"
     ]
    },
    {
     "name": "stderr",
     "output_type": "stream",
     "text": [
      "  0%|          | 0/320 [00:00<?, ?it/s]"
     ]
    },
    {
     "name": "stdout",
     "output_type": "stream",
     "text": [
      "\n",
      "Test set: Average loss: 1.1651, Accuracy: 7082/10000 (71%)\n",
      "\n",
      "Epoch: 82\n"
     ]
    },
    {
     "name": "stderr",
     "output_type": "stream",
     "text": [
      "100%|██████████| 320/320 [00:27<00:00, 11.71it/s]\n"
     ]
    },
    {
     "name": "stdout",
     "output_type": "stream",
     "text": [
      "normalized norm of (weight - projection)\n",
      "(features.0.weight): 0.3735\n",
      "(features.3.weight): 0.6256\n",
      "(features.6.weight): 0.6898\n",
      "(features.8.weight): 0.7787\n",
      "(features.10.weight): 0.8685\n",
      "(classifier.1.weight): 0.9184\n",
      "(classifier.4.weight): 0.9617\n",
      "(classifier.6.weight): 0.7229\n"
     ]
    },
    {
     "name": "stderr",
     "output_type": "stream",
     "text": [
      "  0%|          | 0/223 [00:00<?, ?it/s]"
     ]
    },
    {
     "name": "stdout",
     "output_type": "stream",
     "text": [
      "\n",
      "Test set: Average loss: 1.3988, Accuracy: 6961/10000 (70%)\n",
      "\n",
      "Epoch: 83\n"
     ]
    },
    {
     "name": "stderr",
     "output_type": "stream",
     "text": [
      "100%|██████████| 223/223 [00:20<00:00, 11.36it/s]\n"
     ]
    },
    {
     "name": "stdout",
     "output_type": "stream",
     "text": [
      "normalized norm of (weight - projection)\n",
      "(features.0.weight): 0.3714\n",
      "(features.3.weight): 0.6179\n",
      "(features.6.weight): 0.6851\n",
      "(features.8.weight): 0.7882\n",
      "(features.10.weight): 0.8839\n",
      "(classifier.1.weight): 0.9430\n",
      "(classifier.4.weight): 0.9758\n",
      "(classifier.6.weight): 0.7252\n"
     ]
    },
    {
     "name": "stderr",
     "output_type": "stream",
     "text": [
      "  0%|          | 0/320 [00:00<?, ?it/s]"
     ]
    },
    {
     "name": "stdout",
     "output_type": "stream",
     "text": [
      "\n",
      "Test set: Average loss: 1.1965, Accuracy: 7054/10000 (71%)\n",
      "\n",
      "Epoch: 83\n"
     ]
    },
    {
     "name": "stderr",
     "output_type": "stream",
     "text": [
      "100%|██████████| 320/320 [00:28<00:00, 11.40it/s]\n"
     ]
    },
    {
     "name": "stdout",
     "output_type": "stream",
     "text": [
      "normalized norm of (weight - projection)\n",
      "(features.0.weight): 0.3705\n",
      "(features.3.weight): 0.6224\n",
      "(features.6.weight): 0.6870\n",
      "(features.8.weight): 0.7766\n",
      "(features.10.weight): 0.8682\n",
      "(classifier.1.weight): 0.9187\n",
      "(classifier.4.weight): 0.9616\n",
      "(classifier.6.weight): 0.7224\n"
     ]
    },
    {
     "name": "stderr",
     "output_type": "stream",
     "text": [
      "  0%|          | 0/320 [00:00<?, ?it/s]"
     ]
    },
    {
     "name": "stdout",
     "output_type": "stream",
     "text": [
      "\n",
      "Test set: Average loss: 1.3816, Accuracy: 6969/10000 (70%)\n",
      "\n",
      "Epoch: 84\n"
     ]
    },
    {
     "name": "stderr",
     "output_type": "stream",
     "text": [
      "100%|██████████| 320/320 [00:28<00:00, 11.33it/s]\n"
     ]
    },
    {
     "name": "stdout",
     "output_type": "stream",
     "text": [
      "normalized norm of (weight - projection)\n",
      "(features.0.weight): 0.3690\n",
      "(features.3.weight): 0.6207\n",
      "(features.6.weight): 0.6857\n",
      "(features.8.weight): 0.7767\n",
      "(features.10.weight): 0.8695\n",
      "(classifier.1.weight): 0.9180\n",
      "(classifier.4.weight): 0.9616\n",
      "(classifier.6.weight): 0.7241\n"
     ]
    },
    {
     "name": "stderr",
     "output_type": "stream",
     "text": [
      "  0%|          | 0/223 [00:00<?, ?it/s]"
     ]
    },
    {
     "name": "stdout",
     "output_type": "stream",
     "text": [
      "\n",
      "Test set: Average loss: 1.3515, Accuracy: 6909/10000 (69%)\n",
      "\n",
      "Epoch: 84\n"
     ]
    },
    {
     "name": "stderr",
     "output_type": "stream",
     "text": [
      "100%|██████████| 223/223 [00:18<00:00, 11.08it/s]\n"
     ]
    },
    {
     "name": "stdout",
     "output_type": "stream",
     "text": [
      "normalized norm of (weight - projection)\n",
      "(features.0.weight): 0.3692\n",
      "(features.3.weight): 0.6156\n",
      "(features.6.weight): 0.6837\n",
      "(features.8.weight): 0.7856\n",
      "(features.10.weight): 0.8839\n",
      "(classifier.1.weight): 0.9427\n",
      "(classifier.4.weight): 0.9757\n",
      "(classifier.6.weight): 0.7240\n"
     ]
    },
    {
     "name": "stderr",
     "output_type": "stream",
     "text": [
      "  0%|          | 0/223 [00:00<?, ?it/s]"
     ]
    },
    {
     "name": "stdout",
     "output_type": "stream",
     "text": [
      "\n",
      "Test set: Average loss: 1.2753, Accuracy: 6928/10000 (69%)\n",
      "\n",
      "Epoch: 85\n"
     ]
    },
    {
     "name": "stderr",
     "output_type": "stream",
     "text": [
      "100%|██████████| 223/223 [00:19<00:00, 11.43it/s]\n"
     ]
    },
    {
     "name": "stdout",
     "output_type": "stream",
     "text": [
      "normalized norm of (weight - projection)\n",
      "(features.0.weight): 0.3736\n",
      "(features.3.weight): 0.6220\n",
      "(features.6.weight): 0.6812\n",
      "(features.8.weight): 0.7796\n",
      "(features.10.weight): 0.8811\n",
      "(classifier.1.weight): 0.9403\n",
      "(classifier.4.weight): 0.9716\n",
      "(classifier.6.weight): 0.7273\n"
     ]
    },
    {
     "name": "stderr",
     "output_type": "stream",
     "text": [
      "  0%|          | 0/320 [00:00<?, ?it/s]"
     ]
    },
    {
     "name": "stdout",
     "output_type": "stream",
     "text": [
      "\n",
      "Test set: Average loss: 1.3150, Accuracy: 7021/10000 (70%)\n",
      "\n",
      "Epoch: 85\n"
     ]
    },
    {
     "name": "stderr",
     "output_type": "stream",
     "text": [
      "100%|██████████| 320/320 [00:28<00:00, 11.15it/s]\n"
     ]
    },
    {
     "name": "stdout",
     "output_type": "stream",
     "text": [
      "normalized norm of (weight - projection)\n",
      "(features.0.weight): 0.3665\n",
      "(features.3.weight): 0.6185\n",
      "(features.6.weight): 0.6828\n",
      "(features.8.weight): 0.7726\n",
      "(features.10.weight): 0.8651\n",
      "(classifier.1.weight): 0.9173\n",
      "(classifier.4.weight): 0.9615\n",
      "(classifier.6.weight): 0.7244\n"
     ]
    },
    {
     "name": "stderr",
     "output_type": "stream",
     "text": [
      "  0%|          | 0/223 [00:00<?, ?it/s]"
     ]
    },
    {
     "name": "stdout",
     "output_type": "stream",
     "text": [
      "\n",
      "Test set: Average loss: 1.4305, Accuracy: 6795/10000 (68%)\n",
      "\n",
      "Epoch: 86\n"
     ]
    },
    {
     "name": "stderr",
     "output_type": "stream",
     "text": [
      "100%|██████████| 223/223 [00:19<00:00, 11.54it/s]\n"
     ]
    },
    {
     "name": "stdout",
     "output_type": "stream",
     "text": [
      "normalized norm of (weight - projection)\n",
      "(features.0.weight): 0.3691\n",
      "(features.3.weight): 0.6170\n",
      "(features.6.weight): 0.6754\n",
      "(features.8.weight): 0.7745\n",
      "(features.10.weight): 0.8795\n",
      "(classifier.1.weight): 0.9396\n",
      "(classifier.4.weight): 0.9714\n",
      "(classifier.6.weight): 0.7315\n"
     ]
    },
    {
     "name": "stderr",
     "output_type": "stream",
     "text": [
      "  0%|          | 0/320 [00:00<?, ?it/s]"
     ]
    },
    {
     "name": "stdout",
     "output_type": "stream",
     "text": [
      "\n",
      "Test set: Average loss: 1.2948, Accuracy: 7005/10000 (70%)\n",
      "\n",
      "Epoch: 86\n"
     ]
    },
    {
     "name": "stderr",
     "output_type": "stream",
     "text": [
      "100%|██████████| 320/320 [00:28<00:00, 11.33it/s]\n"
     ]
    },
    {
     "name": "stdout",
     "output_type": "stream",
     "text": [
      "normalized norm of (weight - projection)\n",
      "(features.0.weight): 0.3675\n",
      "(features.3.weight): 0.6184\n",
      "(features.6.weight): 0.6828\n",
      "(features.8.weight): 0.7748\n",
      "(features.10.weight): 0.8698\n",
      "(classifier.1.weight): 0.9195\n",
      "(classifier.4.weight): 0.9615\n",
      "(classifier.6.weight): 0.7156\n"
     ]
    },
    {
     "name": "stderr",
     "output_type": "stream",
     "text": [
      "  0%|          | 0/223 [00:00<?, ?it/s]"
     ]
    },
    {
     "name": "stdout",
     "output_type": "stream",
     "text": [
      "\n",
      "Test set: Average loss: 1.4077, Accuracy: 7051/10000 (71%)\n",
      "\n",
      "Epoch: 87\n"
     ]
    },
    {
     "name": "stderr",
     "output_type": "stream",
     "text": [
      "100%|██████████| 223/223 [00:19<00:00, 11.31it/s]\n"
     ]
    },
    {
     "name": "stdout",
     "output_type": "stream",
     "text": [
      "normalized norm of (weight - projection)\n",
      "(features.0.weight): 0.3671\n",
      "(features.3.weight): 0.6150\n",
      "(features.6.weight): 0.6729\n",
      "(features.8.weight): 0.7732\n",
      "(features.10.weight): 0.8787\n",
      "(classifier.1.weight): 0.9388\n",
      "(classifier.4.weight): 0.9714\n",
      "(classifier.6.weight): 0.7273\n"
     ]
    },
    {
     "name": "stderr",
     "output_type": "stream",
     "text": [
      "  0%|          | 0/320 [00:00<?, ?it/s]"
     ]
    },
    {
     "name": "stdout",
     "output_type": "stream",
     "text": [
      "\n",
      "Test set: Average loss: 1.3252, Accuracy: 6920/10000 (69%)\n",
      "\n",
      "Epoch: 87\n"
     ]
    },
    {
     "name": "stderr",
     "output_type": "stream",
     "text": [
      "100%|██████████| 320/320 [00:28<00:00, 11.25it/s]\n"
     ]
    },
    {
     "name": "stdout",
     "output_type": "stream",
     "text": [
      "normalized norm of (weight - projection)\n",
      "(features.0.weight): 0.3661\n",
      "(features.3.weight): 0.6172\n",
      "(features.6.weight): 0.6808\n",
      "(features.8.weight): 0.7723\n",
      "(features.10.weight): 0.8668\n",
      "(classifier.1.weight): 0.9173\n",
      "(classifier.4.weight): 0.9615\n",
      "(classifier.6.weight): 0.7228\n"
     ]
    },
    {
     "name": "stderr",
     "output_type": "stream",
     "text": [
      "  0%|          | 0/320 [00:00<?, ?it/s]"
     ]
    },
    {
     "name": "stdout",
     "output_type": "stream",
     "text": [
      "\n",
      "Test set: Average loss: 1.3209, Accuracy: 6949/10000 (69%)\n",
      "\n",
      "Epoch: 88\n"
     ]
    },
    {
     "name": "stderr",
     "output_type": "stream",
     "text": [
      "100%|██████████| 320/320 [00:28<00:00, 11.13it/s]\n"
     ]
    },
    {
     "name": "stdout",
     "output_type": "stream",
     "text": [
      "normalized norm of (weight - projection)\n",
      "(features.0.weight): 0.3642\n",
      "(features.3.weight): 0.6155\n",
      "(features.6.weight): 0.6801\n",
      "(features.8.weight): 0.7711\n",
      "(features.10.weight): 0.8677\n",
      "(classifier.1.weight): 0.9178\n",
      "(classifier.4.weight): 0.9615\n",
      "(classifier.6.weight): 0.7231\n"
     ]
    },
    {
     "name": "stderr",
     "output_type": "stream",
     "text": [
      "  0%|          | 0/223 [00:00<?, ?it/s]"
     ]
    },
    {
     "name": "stdout",
     "output_type": "stream",
     "text": [
      "\n",
      "Test set: Average loss: 1.3816, Accuracy: 6826/10000 (68%)\n",
      "\n",
      "Epoch: 88\n"
     ]
    },
    {
     "name": "stderr",
     "output_type": "stream",
     "text": [
      "100%|██████████| 223/223 [00:19<00:00, 11.45it/s]\n"
     ]
    },
    {
     "name": "stdout",
     "output_type": "stream",
     "text": [
      "normalized norm of (weight - projection)\n",
      "(features.0.weight): 0.3674\n",
      "(features.3.weight): 0.6139\n",
      "(features.6.weight): 0.6818\n",
      "(features.8.weight): 0.7840\n",
      "(features.10.weight): 0.8840\n",
      "(classifier.1.weight): 0.9417\n",
      "(classifier.4.weight): 0.9755\n",
      "(classifier.6.weight): 0.7182\n"
     ]
    },
    {
     "name": "stderr",
     "output_type": "stream",
     "text": [
      "  0%|          | 0/223 [00:00<?, ?it/s]"
     ]
    },
    {
     "name": "stdout",
     "output_type": "stream",
     "text": [
      "\n",
      "Test set: Average loss: 1.2766, Accuracy: 6964/10000 (70%)\n",
      "\n",
      "Epoch: 89\n"
     ]
    },
    {
     "name": "stderr",
     "output_type": "stream",
     "text": [
      "100%|██████████| 223/223 [00:19<00:00, 11.04it/s]\n"
     ]
    },
    {
     "name": "stdout",
     "output_type": "stream",
     "text": [
      "normalized norm of (weight - projection)\n",
      "(features.0.weight): 0.3655\n",
      "(features.3.weight): 0.6139\n",
      "(features.6.weight): 0.6714\n",
      "(features.8.weight): 0.7715\n",
      "(features.10.weight): 0.8775\n",
      "(classifier.1.weight): 0.9394\n",
      "(classifier.4.weight): 0.9716\n",
      "(classifier.6.weight): 0.7261\n"
     ]
    },
    {
     "name": "stderr",
     "output_type": "stream",
     "text": [
      "  0%|          | 0/223 [00:00<?, ?it/s]"
     ]
    },
    {
     "name": "stdout",
     "output_type": "stream",
     "text": [
      "\n",
      "Test set: Average loss: 1.4355, Accuracy: 6860/10000 (69%)\n",
      "\n",
      "Epoch: 89\n"
     ]
    },
    {
     "name": "stderr",
     "output_type": "stream",
     "text": [
      "100%|██████████| 223/223 [00:19<00:00, 10.40it/s]\n"
     ]
    },
    {
     "name": "stdout",
     "output_type": "stream",
     "text": [
      "normalized norm of (weight - projection)\n",
      "(features.0.weight): 0.3646\n",
      "(features.3.weight): 0.6100\n",
      "(features.6.weight): 0.6766\n",
      "(features.8.weight): 0.7814\n",
      "(features.10.weight): 0.8834\n",
      "(classifier.1.weight): 0.9417\n",
      "(classifier.4.weight): 0.9756\n",
      "(classifier.6.weight): 0.7262\n"
     ]
    },
    {
     "name": "stderr",
     "output_type": "stream",
     "text": [
      "  0%|          | 0/320 [00:00<?, ?it/s]"
     ]
    },
    {
     "name": "stdout",
     "output_type": "stream",
     "text": [
      "\n",
      "Test set: Average loss: 1.2521, Accuracy: 6996/10000 (70%)\n",
      "\n",
      "Epoch: 90\n"
     ]
    },
    {
     "name": "stderr",
     "output_type": "stream",
     "text": [
      "100%|██████████| 320/320 [00:28<00:00, 11.22it/s]\n"
     ]
    },
    {
     "name": "stdout",
     "output_type": "stream",
     "text": [
      "normalized norm of (weight - projection)\n",
      "(features.0.weight): 0.3647\n",
      "(features.3.weight): 0.6151\n",
      "(features.6.weight): 0.6784\n",
      "(features.8.weight): 0.7727\n",
      "(features.10.weight): 0.8709\n",
      "(classifier.1.weight): 0.9178\n",
      "(classifier.4.weight): 0.9617\n",
      "(classifier.6.weight): 0.7206\n"
     ]
    },
    {
     "name": "stderr",
     "output_type": "stream",
     "text": [
      "  0%|          | 0/223 [00:00<?, ?it/s]"
     ]
    },
    {
     "name": "stdout",
     "output_type": "stream",
     "text": [
      "\n",
      "Test set: Average loss: 1.2860, Accuracy: 6912/10000 (69%)\n",
      "\n",
      "Epoch: 90\n"
     ]
    },
    {
     "name": "stderr",
     "output_type": "stream",
     "text": [
      "100%|██████████| 223/223 [00:19<00:00, 11.05it/s]\n"
     ]
    },
    {
     "name": "stdout",
     "output_type": "stream",
     "text": [
      "normalized norm of (weight - projection)\n",
      "(features.0.weight): 0.3635\n",
      "(features.3.weight): 0.6085\n",
      "(features.6.weight): 0.6671\n",
      "(features.8.weight): 0.7700\n",
      "(features.10.weight): 0.8782\n",
      "(classifier.1.weight): 0.9395\n",
      "(classifier.4.weight): 0.9715\n",
      "(classifier.6.weight): 0.7260\n"
     ]
    },
    {
     "name": "stderr",
     "output_type": "stream",
     "text": [
      "  0%|          | 0/320 [00:00<?, ?it/s]"
     ]
    },
    {
     "name": "stdout",
     "output_type": "stream",
     "text": [
      "\n",
      "Test set: Average loss: 1.3742, Accuracy: 6988/10000 (70%)\n",
      "\n",
      "Epoch: 91\n"
     ]
    },
    {
     "name": "stderr",
     "output_type": "stream",
     "text": [
      "100%|██████████| 320/320 [00:29<00:00, 11.78it/s]\n"
     ]
    },
    {
     "name": "stdout",
     "output_type": "stream",
     "text": [
      "normalized norm of (weight - projection)\n",
      "(features.0.weight): 0.3623\n",
      "(features.3.weight): 0.6117\n",
      "(features.6.weight): 0.6749\n",
      "(features.8.weight): 0.7693\n",
      "(features.10.weight): 0.8695\n",
      "(classifier.1.weight): 0.9186\n",
      "(classifier.4.weight): 0.9618\n",
      "(classifier.6.weight): 0.7212\n"
     ]
    },
    {
     "name": "stderr",
     "output_type": "stream",
     "text": [
      "  0%|          | 0/223 [00:00<?, ?it/s]"
     ]
    },
    {
     "name": "stdout",
     "output_type": "stream",
     "text": [
      "\n",
      "Test set: Average loss: 1.3283, Accuracy: 7018/10000 (70%)\n",
      "\n",
      "Epoch: 91\n"
     ]
    },
    {
     "name": "stderr",
     "output_type": "stream",
     "text": [
      "100%|██████████| 223/223 [00:19<00:00, 11.16it/s]\n"
     ]
    },
    {
     "name": "stdout",
     "output_type": "stream",
     "text": [
      "normalized norm of (weight - projection)\n",
      "(features.0.weight): 0.3639\n",
      "(features.3.weight): 0.6072\n",
      "(features.6.weight): 0.6740\n",
      "(features.8.weight): 0.7799\n",
      "(features.10.weight): 0.8839\n",
      "(classifier.1.weight): 0.9434\n",
      "(classifier.4.weight): 0.9758\n",
      "(classifier.6.weight): 0.7243\n"
     ]
    },
    {
     "name": "stderr",
     "output_type": "stream",
     "text": [
      "  0%|          | 0/223 [00:00<?, ?it/s]"
     ]
    },
    {
     "name": "stdout",
     "output_type": "stream",
     "text": [
      "\n",
      "Test set: Average loss: 1.2794, Accuracy: 6979/10000 (70%)\n",
      "\n",
      "Epoch: 92\n"
     ]
    },
    {
     "name": "stderr",
     "output_type": "stream",
     "text": [
      "100%|██████████| 223/223 [00:19<00:00, 11.41it/s]\n"
     ]
    },
    {
     "name": "stdout",
     "output_type": "stream",
     "text": [
      "normalized norm of (weight - projection)\n",
      "(features.0.weight): 0.3626\n",
      "(features.3.weight): 0.6092\n",
      "(features.6.weight): 0.6665\n",
      "(features.8.weight): 0.7693\n",
      "(features.10.weight): 0.8788\n",
      "(classifier.1.weight): 0.9388\n",
      "(classifier.4.weight): 0.9713\n",
      "(classifier.6.weight): 0.7279\n"
     ]
    },
    {
     "name": "stderr",
     "output_type": "stream",
     "text": [
      "  0%|          | 0/320 [00:00<?, ?it/s]"
     ]
    },
    {
     "name": "stdout",
     "output_type": "stream",
     "text": [
      "\n",
      "Test set: Average loss: 1.3360, Accuracy: 6913/10000 (69%)\n",
      "\n",
      "Epoch: 92\n"
     ]
    },
    {
     "name": "stderr",
     "output_type": "stream",
     "text": [
      "100%|██████████| 320/320 [00:27<00:00, 11.59it/s]\n"
     ]
    },
    {
     "name": "stdout",
     "output_type": "stream",
     "text": [
      "normalized norm of (weight - projection)\n",
      "(features.0.weight): 0.3607\n",
      "(features.3.weight): 0.6101\n",
      "(features.6.weight): 0.6742\n",
      "(features.8.weight): 0.7683\n",
      "(features.10.weight): 0.8692\n",
      "(classifier.1.weight): 0.9187\n",
      "(classifier.4.weight): 0.9615\n",
      "(classifier.6.weight): 0.7189\n"
     ]
    },
    {
     "name": "stderr",
     "output_type": "stream",
     "text": [
      "  0%|          | 0/223 [00:00<?, ?it/s]"
     ]
    },
    {
     "name": "stdout",
     "output_type": "stream",
     "text": [
      "\n",
      "Test set: Average loss: 1.3916, Accuracy: 6913/10000 (69%)\n",
      "\n",
      "Epoch: 93\n"
     ]
    },
    {
     "name": "stderr",
     "output_type": "stream",
     "text": [
      "100%|██████████| 223/223 [00:20<00:00, 11.01it/s]\n"
     ]
    },
    {
     "name": "stdout",
     "output_type": "stream",
     "text": [
      "normalized norm of (weight - projection)\n",
      "(features.0.weight): 0.3599\n",
      "(features.3.weight): 0.6079\n",
      "(features.6.weight): 0.6651\n",
      "(features.8.weight): 0.7676\n",
      "(features.10.weight): 0.8795\n",
      "(classifier.1.weight): 0.9394\n",
      "(classifier.4.weight): 0.9714\n",
      "(classifier.6.weight): 0.7254\n"
     ]
    },
    {
     "name": "stderr",
     "output_type": "stream",
     "text": [
      "  0%|          | 0/223 [00:00<?, ?it/s]"
     ]
    },
    {
     "name": "stdout",
     "output_type": "stream",
     "text": [
      "\n",
      "Test set: Average loss: 1.3815, Accuracy: 7017/10000 (70%)\n",
      "\n",
      "Epoch: 93\n"
     ]
    },
    {
     "name": "stderr",
     "output_type": "stream",
     "text": [
      "100%|██████████| 223/223 [00:19<00:00, 11.33it/s]\n"
     ]
    },
    {
     "name": "stdout",
     "output_type": "stream",
     "text": [
      "normalized norm of (weight - projection)\n",
      "(features.0.weight): 0.3612\n",
      "(features.3.weight): 0.6039\n",
      "(features.6.weight): 0.6708\n",
      "(features.8.weight): 0.7781\n",
      "(features.10.weight): 0.8847\n",
      "(classifier.1.weight): 0.9433\n",
      "(classifier.4.weight): 0.9758\n",
      "(classifier.6.weight): 0.7223\n"
     ]
    },
    {
     "name": "stderr",
     "output_type": "stream",
     "text": [
      "  0%|          | 0/320 [00:00<?, ?it/s]"
     ]
    },
    {
     "name": "stdout",
     "output_type": "stream",
     "text": [
      "\n",
      "Test set: Average loss: 1.3214, Accuracy: 6908/10000 (69%)\n",
      "\n",
      "Epoch: 94\n"
     ]
    },
    {
     "name": "stderr",
     "output_type": "stream",
     "text": [
      "100%|██████████| 320/320 [00:27<00:00, 11.46it/s]\n"
     ]
    },
    {
     "name": "stdout",
     "output_type": "stream",
     "text": [
      "normalized norm of (weight - projection)\n",
      "(features.0.weight): 0.3601\n",
      "(features.3.weight): 0.6096\n",
      "(features.6.weight): 0.6739\n",
      "(features.8.weight): 0.7673\n",
      "(features.10.weight): 0.8677\n",
      "(classifier.1.weight): 0.9170\n",
      "(classifier.4.weight): 0.9615\n",
      "(classifier.6.weight): 0.7195\n"
     ]
    },
    {
     "name": "stderr",
     "output_type": "stream",
     "text": [
      "  0%|          | 0/223 [00:00<?, ?it/s]"
     ]
    },
    {
     "name": "stdout",
     "output_type": "stream",
     "text": [
      "\n",
      "Test set: Average loss: 1.3822, Accuracy: 6915/10000 (69%)\n",
      "\n",
      "Epoch: 94\n"
     ]
    },
    {
     "name": "stderr",
     "output_type": "stream",
     "text": [
      "100%|██████████| 223/223 [00:20<00:00, 11.51it/s]\n"
     ]
    },
    {
     "name": "stdout",
     "output_type": "stream",
     "text": [
      "normalized norm of (weight - projection)\n",
      "(features.0.weight): 0.3600\n",
      "(features.3.weight): 0.6025\n",
      "(features.6.weight): 0.6689\n",
      "(features.8.weight): 0.7759\n",
      "(features.10.weight): 0.8826\n",
      "(classifier.1.weight): 0.9434\n",
      "(classifier.4.weight): 0.9758\n",
      "(classifier.6.weight): 0.7201\n"
     ]
    },
    {
     "name": "stderr",
     "output_type": "stream",
     "text": [
      "  0%|          | 0/320 [00:00<?, ?it/s]"
     ]
    },
    {
     "name": "stdout",
     "output_type": "stream",
     "text": [
      "\n",
      "Test set: Average loss: 1.3534, Accuracy: 6930/10000 (69%)\n",
      "\n",
      "Epoch: 95\n"
     ]
    },
    {
     "name": "stderr",
     "output_type": "stream",
     "text": [
      "100%|██████████| 320/320 [00:28<00:00, 11.31it/s]\n"
     ]
    },
    {
     "name": "stdout",
     "output_type": "stream",
     "text": [
      "normalized norm of (weight - projection)\n",
      "(features.0.weight): 0.3582\n",
      "(features.3.weight): 0.6076\n",
      "(features.6.weight): 0.6707\n",
      "(features.8.weight): 0.7662\n",
      "(features.10.weight): 0.8674\n",
      "(classifier.1.weight): 0.9184\n",
      "(classifier.4.weight): 0.9618\n",
      "(classifier.6.weight): 0.7195\n"
     ]
    },
    {
     "name": "stderr",
     "output_type": "stream",
     "text": [
      "  0%|          | 0/223 [00:00<?, ?it/s]"
     ]
    },
    {
     "name": "stdout",
     "output_type": "stream",
     "text": [
      "\n",
      "Test set: Average loss: 1.4185, Accuracy: 6911/10000 (69%)\n",
      "\n",
      "Epoch: 95\n"
     ]
    },
    {
     "name": "stderr",
     "output_type": "stream",
     "text": [
      "100%|██████████| 223/223 [00:19<00:00, 11.42it/s]\n"
     ]
    },
    {
     "name": "stdout",
     "output_type": "stream",
     "text": [
      "normalized norm of (weight - projection)\n",
      "(features.0.weight): 0.3582\n",
      "(features.3.weight): 0.6014\n",
      "(features.6.weight): 0.6671\n",
      "(features.8.weight): 0.7753\n",
      "(features.10.weight): 0.8855\n",
      "(classifier.1.weight): 0.9427\n",
      "(classifier.4.weight): 0.9756\n",
      "(classifier.6.weight): 0.7165\n"
     ]
    },
    {
     "name": "stderr",
     "output_type": "stream",
     "text": [
      "  0%|          | 0/223 [00:00<?, ?it/s]"
     ]
    },
    {
     "name": "stdout",
     "output_type": "stream",
     "text": [
      "\n",
      "Test set: Average loss: 1.4088, Accuracy: 6896/10000 (69%)\n",
      "\n",
      "Epoch: 96\n"
     ]
    },
    {
     "name": "stderr",
     "output_type": "stream",
     "text": [
      "100%|██████████| 223/223 [00:19<00:00, 11.08it/s]\n"
     ]
    },
    {
     "name": "stdout",
     "output_type": "stream",
     "text": [
      "normalized norm of (weight - projection)\n",
      "(features.0.weight): 0.3593\n",
      "(features.3.weight): 0.6052\n",
      "(features.6.weight): 0.6636\n",
      "(features.8.weight): 0.7659\n",
      "(features.10.weight): 0.8781\n",
      "(classifier.1.weight): 0.9404\n",
      "(classifier.4.weight): 0.9717\n",
      "(classifier.6.weight): 0.7250\n"
     ]
    },
    {
     "name": "stderr",
     "output_type": "stream",
     "text": [
      "  0%|          | 0/320 [00:00<?, ?it/s]"
     ]
    },
    {
     "name": "stdout",
     "output_type": "stream",
     "text": [
      "\n",
      "Test set: Average loss: 1.3577, Accuracy: 7016/10000 (70%)\n",
      "\n",
      "Epoch: 96\n"
     ]
    },
    {
     "name": "stderr",
     "output_type": "stream",
     "text": [
      "100%|██████████| 320/320 [00:29<00:00, 11.01it/s]\n"
     ]
    },
    {
     "name": "stdout",
     "output_type": "stream",
     "text": [
      "normalized norm of (weight - projection)\n",
      "(features.0.weight): 0.3568\n",
      "(features.3.weight): 0.6052\n",
      "(features.6.weight): 0.6687\n",
      "(features.8.weight): 0.7645\n",
      "(features.10.weight): 0.8673\n",
      "(classifier.1.weight): 0.9180\n",
      "(classifier.4.weight): 0.9617\n",
      "(classifier.6.weight): 0.7192\n"
     ]
    },
    {
     "name": "stderr",
     "output_type": "stream",
     "text": [
      "  0%|          | 0/223 [00:00<?, ?it/s]"
     ]
    },
    {
     "name": "stdout",
     "output_type": "stream",
     "text": [
      "\n",
      "Test set: Average loss: 1.3253, Accuracy: 6943/10000 (69%)\n",
      "\n",
      "Epoch: 97\n"
     ]
    },
    {
     "name": "stderr",
     "output_type": "stream",
     "text": [
      "100%|██████████| 223/223 [00:19<00:00, 11.73it/s]\n"
     ]
    },
    {
     "name": "stdout",
     "output_type": "stream",
     "text": [
      "normalized norm of (weight - projection)\n",
      "(features.0.weight): 0.3562\n",
      "(features.3.weight): 0.6012\n",
      "(features.6.weight): 0.6596\n",
      "(features.8.weight): 0.7635\n",
      "(features.10.weight): 0.8788\n",
      "(classifier.1.weight): 0.9400\n",
      "(classifier.4.weight): 0.9716\n",
      "(classifier.6.weight): 0.7296\n"
     ]
    },
    {
     "name": "stderr",
     "output_type": "stream",
     "text": [
      "  0%|          | 0/223 [00:00<?, ?it/s]"
     ]
    },
    {
     "name": "stdout",
     "output_type": "stream",
     "text": [
      "\n",
      "Test set: Average loss: 1.3135, Accuracy: 7013/10000 (70%)\n",
      "\n",
      "Epoch: 97\n"
     ]
    },
    {
     "name": "stderr",
     "output_type": "stream",
     "text": [
      "100%|██████████| 223/223 [00:19<00:00, 11.89it/s]\n"
     ]
    },
    {
     "name": "stdout",
     "output_type": "stream",
     "text": [
      "normalized norm of (weight - projection)\n",
      "(features.0.weight): 0.3572\n",
      "(features.3.weight): 0.6000\n",
      "(features.6.weight): 0.6661\n",
      "(features.8.weight): 0.7730\n",
      "(features.10.weight): 0.8809\n",
      "(classifier.1.weight): 0.9418\n",
      "(classifier.4.weight): 0.9754\n",
      "(classifier.6.weight): 0.7215\n"
     ]
    },
    {
     "name": "stderr",
     "output_type": "stream",
     "text": [
      "  0%|          | 0/223 [00:00<?, ?it/s]"
     ]
    },
    {
     "name": "stdout",
     "output_type": "stream",
     "text": [
      "\n",
      "Test set: Average loss: 1.2963, Accuracy: 7002/10000 (70%)\n",
      "\n",
      "Epoch: 98\n"
     ]
    },
    {
     "name": "stderr",
     "output_type": "stream",
     "text": [
      "100%|██████████| 223/223 [00:19<00:00, 13.10it/s]\n"
     ]
    },
    {
     "name": "stdout",
     "output_type": "stream",
     "text": [
      "normalized norm of (weight - projection)\n",
      "(features.0.weight): 0.3553\n",
      "(features.3.weight): 0.5998\n",
      "(features.6.weight): 0.6577\n",
      "(features.8.weight): 0.7638\n",
      "(features.10.weight): 0.8804\n",
      "(classifier.1.weight): 0.9413\n",
      "(classifier.4.weight): 0.9718\n",
      "(classifier.6.weight): 0.7241\n"
     ]
    },
    {
     "name": "stderr",
     "output_type": "stream",
     "text": [
      "  0%|          | 0/223 [00:00<?, ?it/s]"
     ]
    },
    {
     "name": "stdout",
     "output_type": "stream",
     "text": [
      "\n",
      "Test set: Average loss: 1.4111, Accuracy: 6902/10000 (69%)\n",
      "\n",
      "Epoch: 98\n"
     ]
    },
    {
     "name": "stderr",
     "output_type": "stream",
     "text": [
      "100%|██████████| 223/223 [00:19<00:00, 11.39it/s]\n"
     ]
    },
    {
     "name": "stdout",
     "output_type": "stream",
     "text": [
      "normalized norm of (weight - projection)\n",
      "(features.0.weight): 0.3547\n",
      "(features.3.weight): 0.5964\n",
      "(features.6.weight): 0.6639\n",
      "(features.8.weight): 0.7721\n",
      "(features.10.weight): 0.8846\n",
      "(classifier.1.weight): 0.9432\n",
      "(classifier.4.weight): 0.9756\n",
      "(classifier.6.weight): 0.7204\n"
     ]
    },
    {
     "name": "stderr",
     "output_type": "stream",
     "text": [
      "  0%|          | 0/223 [00:00<?, ?it/s]"
     ]
    },
    {
     "name": "stdout",
     "output_type": "stream",
     "text": [
      "\n",
      "Test set: Average loss: 1.2806, Accuracy: 6989/10000 (70%)\n",
      "\n",
      "Epoch: 99\n"
     ]
    },
    {
     "name": "stderr",
     "output_type": "stream",
     "text": [
      "100%|██████████| 223/223 [00:19<00:00, 10.66it/s]\n"
     ]
    },
    {
     "name": "stdout",
     "output_type": "stream",
     "text": [
      "normalized norm of (weight - projection)\n",
      "(features.0.weight): 0.3538\n",
      "(features.3.weight): 0.6006\n",
      "(features.6.weight): 0.6583\n",
      "(features.8.weight): 0.7621\n",
      "(features.10.weight): 0.8798\n",
      "(classifier.1.weight): 0.9412\n",
      "(classifier.4.weight): 0.9718\n",
      "(classifier.6.weight): 0.7237\n"
     ]
    },
    {
     "name": "stderr",
     "output_type": "stream",
     "text": [
      "  0%|          | 0/320 [00:00<?, ?it/s]"
     ]
    },
    {
     "name": "stdout",
     "output_type": "stream",
     "text": [
      "\n",
      "Test set: Average loss: 1.4704, Accuracy: 7020/10000 (70%)\n",
      "\n",
      "Epoch: 99\n"
     ]
    },
    {
     "name": "stderr",
     "output_type": "stream",
     "text": [
      "100%|██████████| 320/320 [00:28<00:00, 11.30it/s]\n"
     ]
    },
    {
     "name": "stdout",
     "output_type": "stream",
     "text": [
      "normalized norm of (weight - projection)\n",
      "(features.0.weight): 0.3563\n",
      "(features.3.weight): 0.6047\n",
      "(features.6.weight): 0.6697\n",
      "(features.8.weight): 0.7648\n",
      "(features.10.weight): 0.8684\n",
      "(classifier.1.weight): 0.9184\n",
      "(classifier.4.weight): 0.9616\n",
      "(classifier.6.weight): 0.7174\n"
     ]
    },
    {
     "name": "stderr",
     "output_type": "stream",
     "text": [
      "  0%|          | 0/223 [00:00<?, ?it/s]"
     ]
    },
    {
     "name": "stdout",
     "output_type": "stream",
     "text": [
      "\n",
      "Test set: Average loss: 1.4093, Accuracy: 6980/10000 (70%)\n",
      "\n",
      "Epoch: 100\n"
     ]
    },
    {
     "name": "stderr",
     "output_type": "stream",
     "text": [
      "100%|██████████| 223/223 [00:19<00:00, 11.48it/s]\n"
     ]
    },
    {
     "name": "stdout",
     "output_type": "stream",
     "text": [
      "normalized norm of (weight - projection)\n",
      "(features.0.weight): 0.3538\n",
      "(features.3.weight): 0.5996\n",
      "(features.6.weight): 0.6574\n",
      "(features.8.weight): 0.7617\n",
      "(features.10.weight): 0.8809\n",
      "(classifier.1.weight): 0.9414\n",
      "(classifier.4.weight): 0.9719\n",
      "(classifier.6.weight): 0.7263\n"
     ]
    },
    {
     "name": "stderr",
     "output_type": "stream",
     "text": [
      "  0%|          | 0/320 [00:00<?, ?it/s]"
     ]
    },
    {
     "name": "stdout",
     "output_type": "stream",
     "text": [
      "\n",
      "Test set: Average loss: 1.3458, Accuracy: 6936/10000 (69%)\n",
      "\n",
      "Epoch: 100\n"
     ]
    },
    {
     "name": "stderr",
     "output_type": "stream",
     "text": [
      "100%|██████████| 320/320 [00:29<00:00, 10.07it/s]\n"
     ]
    },
    {
     "name": "stdout",
     "output_type": "stream",
     "text": [
      "normalized norm of (weight - projection)\n",
      "(features.0.weight): 0.3532\n",
      "(features.3.weight): 0.6030\n",
      "(features.6.weight): 0.6667\n",
      "(features.8.weight): 0.7627\n",
      "(features.10.weight): 0.8686\n",
      "(classifier.1.weight): 0.9195\n",
      "(classifier.4.weight): 0.9619\n",
      "(classifier.6.weight): 0.7166\n"
     ]
    },
    {
     "name": "stderr",
     "output_type": "stream",
     "text": [
      "  0%|          | 0/320 [00:00<?, ?it/s]"
     ]
    },
    {
     "name": "stdout",
     "output_type": "stream",
     "text": [
      "\n",
      "Test set: Average loss: 1.3768, Accuracy: 6926/10000 (69%)\n",
      "\n",
      "Epoch: 101\n"
     ]
    },
    {
     "name": "stderr",
     "output_type": "stream",
     "text": [
      "100%|██████████| 320/320 [00:28<00:00, 11.35it/s]\n"
     ]
    },
    {
     "name": "stdout",
     "output_type": "stream",
     "text": [
      "normalized norm of (weight - projection)\n",
      "(features.0.weight): 0.3506\n",
      "(features.3.weight): 0.5999\n",
      "(features.6.weight): 0.6641\n",
      "(features.8.weight): 0.7615\n",
      "(features.10.weight): 0.8675\n",
      "(classifier.1.weight): 0.9185\n",
      "(classifier.4.weight): 0.9615\n",
      "(classifier.6.weight): 0.7155\n"
     ]
    },
    {
     "name": "stderr",
     "output_type": "stream",
     "text": [
      "  0%|          | 0/223 [00:00<?, ?it/s]"
     ]
    },
    {
     "name": "stdout",
     "output_type": "stream",
     "text": [
      "\n",
      "Test set: Average loss: 1.4998, Accuracy: 6903/10000 (69%)\n",
      "\n",
      "Epoch: 101\n"
     ]
    },
    {
     "name": "stderr",
     "output_type": "stream",
     "text": [
      "100%|██████████| 223/223 [00:19<00:00, 11.54it/s]\n"
     ]
    },
    {
     "name": "stdout",
     "output_type": "stream",
     "text": [
      "normalized norm of (weight - projection)\n",
      "(features.0.weight): 0.3521\n",
      "(features.3.weight): 0.5980\n",
      "(features.6.weight): 0.6549\n",
      "(features.8.weight): 0.7594\n",
      "(features.10.weight): 0.8758\n",
      "(classifier.1.weight): 0.9383\n",
      "(classifier.4.weight): 0.9715\n",
      "(classifier.6.weight): 0.7286\n"
     ]
    },
    {
     "name": "stderr",
     "output_type": "stream",
     "text": [
      "  0%|          | 0/223 [00:00<?, ?it/s]"
     ]
    },
    {
     "name": "stdout",
     "output_type": "stream",
     "text": [
      "\n",
      "Test set: Average loss: 1.3994, Accuracy: 6992/10000 (70%)\n",
      "\n",
      "Epoch: 102\n"
     ]
    },
    {
     "name": "stderr",
     "output_type": "stream",
     "text": [
      "100%|██████████| 223/223 [00:19<00:00, 11.73it/s]\n"
     ]
    },
    {
     "name": "stdout",
     "output_type": "stream",
     "text": [
      "normalized norm of (weight - projection)\n",
      "(features.0.weight): 0.3500\n",
      "(features.3.weight): 0.5965\n",
      "(features.6.weight): 0.6537\n",
      "(features.8.weight): 0.7592\n",
      "(features.10.weight): 0.8771\n",
      "(classifier.1.weight): 0.9389\n",
      "(classifier.4.weight): 0.9716\n",
      "(classifier.6.weight): 0.7265\n"
     ]
    },
    {
     "name": "stderr",
     "output_type": "stream",
     "text": [
      "  0%|          | 0/223 [00:00<?, ?it/s]"
     ]
    },
    {
     "name": "stdout",
     "output_type": "stream",
     "text": [
      "\n",
      "Test set: Average loss: 1.4240, Accuracy: 6992/10000 (70%)\n",
      "\n",
      "Epoch: 102\n"
     ]
    },
    {
     "name": "stderr",
     "output_type": "stream",
     "text": [
      "100%|██████████| 223/223 [00:19<00:00, 11.42it/s]\n"
     ]
    },
    {
     "name": "stdout",
     "output_type": "stream",
     "text": [
      "normalized norm of (weight - projection)\n",
      "(features.0.weight): 0.3541\n",
      "(features.3.weight): 0.5964\n",
      "(features.6.weight): 0.6623\n",
      "(features.8.weight): 0.7712\n",
      "(features.10.weight): 0.8839\n",
      "(classifier.1.weight): 0.9437\n",
      "(classifier.4.weight): 0.9759\n",
      "(classifier.6.weight): 0.7199\n"
     ]
    },
    {
     "name": "stderr",
     "output_type": "stream",
     "text": [
      "  0%|          | 0/320 [00:00<?, ?it/s]"
     ]
    },
    {
     "name": "stdout",
     "output_type": "stream",
     "text": [
      "\n",
      "Test set: Average loss: 1.3859, Accuracy: 6955/10000 (70%)\n",
      "\n",
      "Epoch: 103\n"
     ]
    },
    {
     "name": "stderr",
     "output_type": "stream",
     "text": [
      "100%|██████████| 320/320 [00:28<00:00, 11.12it/s]\n"
     ]
    },
    {
     "name": "stdout",
     "output_type": "stream",
     "text": [
      "normalized norm of (weight - projection)\n",
      "(features.0.weight): 0.3495\n",
      "(features.3.weight): 0.5981\n",
      "(features.6.weight): 0.6629\n",
      "(features.8.weight): 0.7600\n",
      "(features.10.weight): 0.8665\n",
      "(classifier.1.weight): 0.9181\n",
      "(classifier.4.weight): 0.9616\n",
      "(classifier.6.weight): 0.7193\n"
     ]
    },
    {
     "name": "stderr",
     "output_type": "stream",
     "text": [
      "  0%|          | 0/223 [00:00<?, ?it/s]"
     ]
    },
    {
     "name": "stdout",
     "output_type": "stream",
     "text": [
      "\n",
      "Test set: Average loss: 1.4637, Accuracy: 6949/10000 (69%)\n",
      "\n",
      "Epoch: 103\n"
     ]
    },
    {
     "name": "stderr",
     "output_type": "stream",
     "text": [
      "100%|██████████| 223/223 [00:20<00:00, 11.10it/s]\n"
     ]
    },
    {
     "name": "stdout",
     "output_type": "stream",
     "text": [
      "normalized norm of (weight - projection)\n",
      "(features.0.weight): 0.3508\n",
      "(features.3.weight): 0.5932\n",
      "(features.6.weight): 0.6584\n",
      "(features.8.weight): 0.7695\n",
      "(features.10.weight): 0.8842\n",
      "(classifier.1.weight): 0.9429\n",
      "(classifier.4.weight): 0.9759\n",
      "(classifier.6.weight): 0.7213\n"
     ]
    },
    {
     "name": "stderr",
     "output_type": "stream",
     "text": [
      "  0%|          | 0/223 [00:00<?, ?it/s]"
     ]
    },
    {
     "name": "stdout",
     "output_type": "stream",
     "text": [
      "\n",
      "Test set: Average loss: 1.2632, Accuracy: 7007/10000 (70%)\n",
      "\n",
      "Epoch: 104\n"
     ]
    },
    {
     "name": "stderr",
     "output_type": "stream",
     "text": [
      "100%|██████████| 223/223 [00:19<00:00, 11.39it/s]\n"
     ]
    },
    {
     "name": "stdout",
     "output_type": "stream",
     "text": [
      "normalized norm of (weight - projection)\n",
      "(features.0.weight): 0.3506\n",
      "(features.3.weight): 0.5954\n",
      "(features.6.weight): 0.6546\n",
      "(features.8.weight): 0.7617\n",
      "(features.10.weight): 0.8806\n",
      "(classifier.1.weight): 0.9399\n",
      "(classifier.4.weight): 0.9716\n",
      "(classifier.6.weight): 0.7235\n"
     ]
    },
    {
     "name": "stderr",
     "output_type": "stream",
     "text": [
      "  0%|          | 0/223 [00:00<?, ?it/s]"
     ]
    },
    {
     "name": "stdout",
     "output_type": "stream",
     "text": [
      "\n",
      "Test set: Average loss: 1.3493, Accuracy: 7006/10000 (70%)\n",
      "\n",
      "Epoch: 104\n"
     ]
    },
    {
     "name": "stderr",
     "output_type": "stream",
     "text": [
      "100%|██████████| 223/223 [00:19<00:00, 11.23it/s]\n"
     ]
    },
    {
     "name": "stdout",
     "output_type": "stream",
     "text": [
      "normalized norm of (weight - projection)\n",
      "(features.0.weight): 0.3496\n",
      "(features.3.weight): 0.5905\n",
      "(features.6.weight): 0.6551\n",
      "(features.8.weight): 0.7666\n",
      "(features.10.weight): 0.8819\n",
      "(classifier.1.weight): 0.9415\n",
      "(classifier.4.weight): 0.9757\n",
      "(classifier.6.weight): 0.7195\n"
     ]
    },
    {
     "name": "stderr",
     "output_type": "stream",
     "text": [
      "  0%|          | 0/223 [00:00<?, ?it/s]"
     ]
    },
    {
     "name": "stdout",
     "output_type": "stream",
     "text": [
      "\n",
      "Test set: Average loss: 1.2912, Accuracy: 7027/10000 (70%)\n",
      "\n",
      "Epoch: 105\n"
     ]
    },
    {
     "name": "stderr",
     "output_type": "stream",
     "text": [
      "100%|██████████| 223/223 [00:18<00:00, 11.47it/s]\n"
     ]
    },
    {
     "name": "stdout",
     "output_type": "stream",
     "text": [
      "normalized norm of (weight - projection)\n",
      "(features.0.weight): 0.3489\n",
      "(features.3.weight): 0.5925\n",
      "(features.6.weight): 0.6511\n",
      "(features.8.weight): 0.7587\n",
      "(features.10.weight): 0.8812\n",
      "(classifier.1.weight): 0.9402\n",
      "(classifier.4.weight): 0.9719\n",
      "(classifier.6.weight): 0.7257\n"
     ]
    },
    {
     "name": "stderr",
     "output_type": "stream",
     "text": [
      "  0%|          | 0/223 [00:00<?, ?it/s]"
     ]
    },
    {
     "name": "stdout",
     "output_type": "stream",
     "text": [
      "\n",
      "Test set: Average loss: 1.3583, Accuracy: 7013/10000 (70%)\n",
      "\n",
      "Epoch: 105\n"
     ]
    },
    {
     "name": "stderr",
     "output_type": "stream",
     "text": [
      "100%|██████████| 223/223 [00:19<00:00, 11.38it/s]\n"
     ]
    },
    {
     "name": "stdout",
     "output_type": "stream",
     "text": [
      "normalized norm of (weight - projection)\n",
      "(features.0.weight): 0.3492\n",
      "(features.3.weight): 0.5908\n",
      "(features.6.weight): 0.6559\n",
      "(features.8.weight): 0.7686\n",
      "(features.10.weight): 0.8836\n",
      "(classifier.1.weight): 0.9439\n",
      "(classifier.4.weight): 0.9758\n",
      "(classifier.6.weight): 0.7152\n"
     ]
    },
    {
     "name": "stderr",
     "output_type": "stream",
     "text": [
      "  0%|          | 0/320 [00:00<?, ?it/s]"
     ]
    },
    {
     "name": "stdout",
     "output_type": "stream",
     "text": [
      "\n",
      "Test set: Average loss: 1.3578, Accuracy: 7024/10000 (70%)\n",
      "\n",
      "Epoch: 106\n"
     ]
    },
    {
     "name": "stderr",
     "output_type": "stream",
     "text": [
      "100%|██████████| 320/320 [00:28<00:00, 11.42it/s]\n"
     ]
    },
    {
     "name": "stdout",
     "output_type": "stream",
     "text": [
      "normalized norm of (weight - projection)\n",
      "(features.0.weight): 0.3487\n",
      "(features.3.weight): 0.5955\n",
      "(features.6.weight): 0.6594\n",
      "(features.8.weight): 0.7585\n",
      "(features.10.weight): 0.8662\n",
      "(classifier.1.weight): 0.9191\n",
      "(classifier.4.weight): 0.9618\n",
      "(classifier.6.weight): 0.7197\n"
     ]
    },
    {
     "name": "stderr",
     "output_type": "stream",
     "text": [
      "  0%|          | 0/223 [00:00<?, ?it/s]"
     ]
    },
    {
     "name": "stdout",
     "output_type": "stream",
     "text": [
      "\n",
      "Test set: Average loss: 1.4726, Accuracy: 6950/10000 (70%)\n",
      "\n",
      "Epoch: 106\n"
     ]
    },
    {
     "name": "stderr",
     "output_type": "stream",
     "text": [
      "100%|██████████| 223/223 [00:19<00:00, 10.70it/s]\n"
     ]
    },
    {
     "name": "stdout",
     "output_type": "stream",
     "text": [
      "normalized norm of (weight - projection)\n",
      "(features.0.weight): 0.3480\n",
      "(features.3.weight): 0.5923\n",
      "(features.6.weight): 0.6499\n",
      "(features.8.weight): 0.7578\n",
      "(features.10.weight): 0.8795\n",
      "(classifier.1.weight): 0.9403\n",
      "(classifier.4.weight): 0.9717\n",
      "(classifier.6.weight): 0.7217\n"
     ]
    },
    {
     "name": "stderr",
     "output_type": "stream",
     "text": [
      "  0%|          | 0/223 [00:00<?, ?it/s]"
     ]
    },
    {
     "name": "stdout",
     "output_type": "stream",
     "text": [
      "\n",
      "Test set: Average loss: 1.4632, Accuracy: 6984/10000 (70%)\n",
      "\n",
      "Epoch: 107\n"
     ]
    },
    {
     "name": "stderr",
     "output_type": "stream",
     "text": [
      "100%|██████████| 223/223 [00:19<00:00, 11.20it/s]\n"
     ]
    },
    {
     "name": "stdout",
     "output_type": "stream",
     "text": [
      "normalized norm of (weight - projection)\n",
      "(features.0.weight): 0.3465\n",
      "(features.3.weight): 0.5914\n",
      "(features.6.weight): 0.6479\n",
      "(features.8.weight): 0.7561\n",
      "(features.10.weight): 0.8801\n",
      "(classifier.1.weight): 0.9407\n",
      "(classifier.4.weight): 0.9718\n",
      "(classifier.6.weight): 0.7228\n"
     ]
    },
    {
     "name": "stderr",
     "output_type": "stream",
     "text": [
      "  0%|          | 0/320 [00:00<?, ?it/s]"
     ]
    },
    {
     "name": "stdout",
     "output_type": "stream",
     "text": [
      "\n",
      "Test set: Average loss: 1.4570, Accuracy: 6975/10000 (70%)\n",
      "\n",
      "Epoch: 107\n"
     ]
    },
    {
     "name": "stderr",
     "output_type": "stream",
     "text": [
      "100%|██████████| 320/320 [00:28<00:00, 11.17it/s]\n"
     ]
    },
    {
     "name": "stdout",
     "output_type": "stream",
     "text": [
      "normalized norm of (weight - projection)\n",
      "(features.0.weight): 0.3462\n",
      "(features.3.weight): 0.5927\n",
      "(features.6.weight): 0.6569\n",
      "(features.8.weight): 0.7579\n",
      "(features.10.weight): 0.8689\n",
      "(classifier.1.weight): 0.9208\n",
      "(classifier.4.weight): 0.9620\n",
      "(classifier.6.weight): 0.7182\n"
     ]
    },
    {
     "name": "stderr",
     "output_type": "stream",
     "text": [
      "  0%|          | 0/320 [00:00<?, ?it/s]"
     ]
    },
    {
     "name": "stdout",
     "output_type": "stream",
     "text": [
      "\n",
      "Test set: Average loss: 1.5419, Accuracy: 6842/10000 (68%)\n",
      "\n",
      "Epoch: 108\n"
     ]
    },
    {
     "name": "stderr",
     "output_type": "stream",
     "text": [
      "100%|██████████| 320/320 [00:28<00:00, 11.12it/s]\n"
     ]
    },
    {
     "name": "stdout",
     "output_type": "stream",
     "text": [
      "normalized norm of (weight - projection)\n",
      "(features.0.weight): 0.3450\n",
      "(features.3.weight): 0.5929\n",
      "(features.6.weight): 0.6567\n",
      "(features.8.weight): 0.7566\n",
      "(features.10.weight): 0.8658\n",
      "(classifier.1.weight): 0.9195\n",
      "(classifier.4.weight): 0.9618\n",
      "(classifier.6.weight): 0.7213\n"
     ]
    },
    {
     "name": "stderr",
     "output_type": "stream",
     "text": [
      "  0%|          | 0/223 [00:00<?, ?it/s]"
     ]
    },
    {
     "name": "stdout",
     "output_type": "stream",
     "text": [
      "\n",
      "Test set: Average loss: 1.3594, Accuracy: 7033/10000 (70%)\n",
      "\n",
      "Epoch: 108\n"
     ]
    },
    {
     "name": "stderr",
     "output_type": "stream",
     "text": [
      "100%|██████████| 223/223 [00:20<00:00, 10.95it/s]\n"
     ]
    },
    {
     "name": "stdout",
     "output_type": "stream",
     "text": [
      "normalized norm of (weight - projection)\n",
      "(features.0.weight): 0.3452\n",
      "(features.3.weight): 0.5902\n",
      "(features.6.weight): 0.6475\n",
      "(features.8.weight): 0.7552\n",
      "(features.10.weight): 0.8793\n",
      "(classifier.1.weight): 0.9403\n",
      "(classifier.4.weight): 0.9717\n",
      "(classifier.6.weight): 0.7239\n"
     ]
    },
    {
     "name": "stderr",
     "output_type": "stream",
     "text": [
      "  0%|          | 0/223 [00:00<?, ?it/s]"
     ]
    },
    {
     "name": "stdout",
     "output_type": "stream",
     "text": [
      "\n",
      "Test set: Average loss: 1.4397, Accuracy: 7002/10000 (70%)\n",
      "\n",
      "Epoch: 109\n"
     ]
    },
    {
     "name": "stderr",
     "output_type": "stream",
     "text": [
      "100%|██████████| 223/223 [00:20<00:00, 11.02it/s]\n"
     ]
    },
    {
     "name": "stdout",
     "output_type": "stream",
     "text": [
      "normalized norm of (weight - projection)\n",
      "(features.0.weight): 0.3437\n",
      "(features.3.weight): 0.5884\n",
      "(features.6.weight): 0.6454\n",
      "(features.8.weight): 0.7531\n",
      "(features.10.weight): 0.8774\n",
      "(classifier.1.weight): 0.9389\n",
      "(classifier.4.weight): 0.9715\n",
      "(classifier.6.weight): 0.7282\n"
     ]
    },
    {
     "name": "stderr",
     "output_type": "stream",
     "text": [
      "  0%|          | 0/223 [00:00<?, ?it/s]"
     ]
    },
    {
     "name": "stdout",
     "output_type": "stream",
     "text": [
      "\n",
      "Test set: Average loss: 1.4221, Accuracy: 6893/10000 (69%)\n",
      "\n",
      "Epoch: 109\n"
     ]
    },
    {
     "name": "stderr",
     "output_type": "stream",
     "text": [
      "100%|██████████| 223/223 [00:19<00:00, 11.35it/s]\n"
     ]
    },
    {
     "name": "stdout",
     "output_type": "stream",
     "text": [
      "normalized norm of (weight - projection)\n",
      "(features.0.weight): 0.3475\n",
      "(features.3.weight): 0.5909\n",
      "(features.6.weight): 0.6548\n",
      "(features.8.weight): 0.7674\n",
      "(features.10.weight): 0.8845\n",
      "(classifier.1.weight): 0.9439\n",
      "(classifier.4.weight): 0.9756\n",
      "(classifier.6.weight): 0.7116\n"
     ]
    },
    {
     "name": "stderr",
     "output_type": "stream",
     "text": [
      "  0%|          | 0/223 [00:00<?, ?it/s]"
     ]
    },
    {
     "name": "stdout",
     "output_type": "stream",
     "text": [
      "\n",
      "Test set: Average loss: 1.4681, Accuracy: 6943/10000 (69%)\n",
      "\n",
      "Epoch: 110\n"
     ]
    },
    {
     "name": "stderr",
     "output_type": "stream",
     "text": [
      "100%|██████████| 223/223 [00:20<00:00, 10.69it/s]\n"
     ]
    },
    {
     "name": "stdout",
     "output_type": "stream",
     "text": [
      "normalized norm of (weight - projection)\n",
      "(features.0.weight): 0.3443\n",
      "(features.3.weight): 0.5864\n",
      "(features.6.weight): 0.6504\n",
      "(features.8.weight): 0.7650\n",
      "(features.10.weight): 0.8840\n",
      "(classifier.1.weight): 0.9440\n",
      "(classifier.4.weight): 0.9758\n",
      "(classifier.6.weight): 0.7166\n"
     ]
    },
    {
     "name": "stderr",
     "output_type": "stream",
     "text": [
      "  0%|          | 0/223 [00:00<?, ?it/s]"
     ]
    },
    {
     "name": "stdout",
     "output_type": "stream",
     "text": [
      "\n",
      "Test set: Average loss: 1.3692, Accuracy: 6955/10000 (70%)\n",
      "\n",
      "Epoch: 110\n"
     ]
    },
    {
     "name": "stderr",
     "output_type": "stream",
     "text": [
      "100%|██████████| 223/223 [00:19<00:00, 11.19it/s]\n"
     ]
    },
    {
     "name": "stdout",
     "output_type": "stream",
     "text": [
      "normalized norm of (weight - projection)\n",
      "(features.0.weight): 0.3445\n",
      "(features.3.weight): 0.5893\n",
      "(features.6.weight): 0.6463\n",
      "(features.8.weight): 0.7557\n",
      "(features.10.weight): 0.8803\n",
      "(classifier.1.weight): 0.9404\n",
      "(classifier.4.weight): 0.9717\n",
      "(classifier.6.weight): 0.7231\n"
     ]
    },
    {
     "name": "stderr",
     "output_type": "stream",
     "text": [
      "  0%|          | 0/223 [00:00<?, ?it/s]"
     ]
    },
    {
     "name": "stdout",
     "output_type": "stream",
     "text": [
      "\n",
      "Test set: Average loss: 1.4772, Accuracy: 6806/10000 (68%)\n",
      "\n",
      "Epoch: 111\n"
     ]
    },
    {
     "name": "stderr",
     "output_type": "stream",
     "text": [
      "100%|██████████| 223/223 [00:20<00:00, 10.98it/s]\n"
     ]
    },
    {
     "name": "stdout",
     "output_type": "stream",
     "text": [
      "normalized norm of (weight - projection)\n",
      "(features.0.weight): 0.3434\n",
      "(features.3.weight): 0.5879\n",
      "(features.6.weight): 0.6451\n",
      "(features.8.weight): 0.7540\n",
      "(features.10.weight): 0.8792\n",
      "(classifier.1.weight): 0.9409\n",
      "(classifier.4.weight): 0.9720\n",
      "(classifier.6.weight): 0.7215\n"
     ]
    },
    {
     "name": "stderr",
     "output_type": "stream",
     "text": [
      "  0%|          | 0/223 [00:00<?, ?it/s]"
     ]
    },
    {
     "name": "stdout",
     "output_type": "stream",
     "text": [
      "\n",
      "Test set: Average loss: 1.4506, Accuracy: 6948/10000 (69%)\n",
      "\n",
      "Epoch: 111\n"
     ]
    },
    {
     "name": "stderr",
     "output_type": "stream",
     "text": [
      "100%|██████████| 223/223 [00:19<00:00, 11.70it/s]\n"
     ]
    },
    {
     "name": "stdout",
     "output_type": "stream",
     "text": [
      "normalized norm of (weight - projection)\n",
      "(features.0.weight): 0.3430\n",
      "(features.3.weight): 0.5866\n",
      "(features.6.weight): 0.6501\n",
      "(features.8.weight): 0.7640\n",
      "(features.10.weight): 0.8830\n",
      "(classifier.1.weight): 0.9451\n",
      "(classifier.4.weight): 0.9759\n",
      "(classifier.6.weight): 0.7137\n"
     ]
    },
    {
     "name": "stderr",
     "output_type": "stream",
     "text": [
      "  0%|          | 0/223 [00:00<?, ?it/s]"
     ]
    },
    {
     "name": "stdout",
     "output_type": "stream",
     "text": [
      "\n",
      "Test set: Average loss: 1.3886, Accuracy: 6961/10000 (70%)\n",
      "\n",
      "Epoch: 112\n"
     ]
    },
    {
     "name": "stderr",
     "output_type": "stream",
     "text": [
      "100%|██████████| 223/223 [00:19<00:00, 11.37it/s]\n"
     ]
    },
    {
     "name": "stdout",
     "output_type": "stream",
     "text": [
      "normalized norm of (weight - projection)\n",
      "(features.0.weight): 0.3416\n",
      "(features.3.weight): 0.5858\n",
      "(features.6.weight): 0.6496\n",
      "(features.8.weight): 0.7621\n",
      "(features.10.weight): 0.8830\n",
      "(classifier.1.weight): 0.9440\n",
      "(classifier.4.weight): 0.9762\n",
      "(classifier.6.weight): 0.7160\n"
     ]
    },
    {
     "name": "stderr",
     "output_type": "stream",
     "text": [
      "  0%|          | 0/223 [00:00<?, ?it/s]"
     ]
    },
    {
     "name": "stdout",
     "output_type": "stream",
     "text": [
      "\n",
      "Test set: Average loss: 1.3318, Accuracy: 6918/10000 (69%)\n",
      "\n",
      "Epoch: 112\n"
     ]
    },
    {
     "name": "stderr",
     "output_type": "stream",
     "text": [
      "100%|██████████| 223/223 [00:19<00:00, 11.28it/s]\n"
     ]
    },
    {
     "name": "stdout",
     "output_type": "stream",
     "text": [
      "normalized norm of (weight - projection)\n",
      "(features.0.weight): 0.3420\n",
      "(features.3.weight): 0.5883\n",
      "(features.6.weight): 0.6451\n",
      "(features.8.weight): 0.7549\n",
      "(features.10.weight): 0.8809\n",
      "(classifier.1.weight): 0.9415\n",
      "(classifier.4.weight): 0.9720\n",
      "(classifier.6.weight): 0.7155\n"
     ]
    },
    {
     "name": "stderr",
     "output_type": "stream",
     "text": [
      "  0%|          | 0/223 [00:00<?, ?it/s]"
     ]
    },
    {
     "name": "stdout",
     "output_type": "stream",
     "text": [
      "\n",
      "Test set: Average loss: 1.5643, Accuracy: 6990/10000 (70%)\n",
      "\n",
      "Epoch: 113\n"
     ]
    },
    {
     "name": "stderr",
     "output_type": "stream",
     "text": [
      "100%|██████████| 223/223 [00:19<00:00, 11.62it/s]\n"
     ]
    },
    {
     "name": "stdout",
     "output_type": "stream",
     "text": [
      "normalized norm of (weight - projection)\n",
      "(features.0.weight): 0.3409\n",
      "(features.3.weight): 0.5862\n",
      "(features.6.weight): 0.6489\n",
      "(features.8.weight): 0.7624\n",
      "(features.10.weight): 0.8836\n",
      "(classifier.1.weight): 0.9448\n",
      "(classifier.4.weight): 0.9762\n",
      "(classifier.6.weight): 0.7110\n"
     ]
    },
    {
     "name": "stderr",
     "output_type": "stream",
     "text": [
      "  0%|          | 0/320 [00:00<?, ?it/s]"
     ]
    },
    {
     "name": "stdout",
     "output_type": "stream",
     "text": [
      "\n",
      "Test set: Average loss: 1.4474, Accuracy: 6816/10000 (68%)\n",
      "\n",
      "Epoch: 113\n"
     ]
    },
    {
     "name": "stderr",
     "output_type": "stream",
     "text": [
      "100%|██████████| 320/320 [00:28<00:00, 11.26it/s]\n"
     ]
    },
    {
     "name": "stdout",
     "output_type": "stream",
     "text": [
      "normalized norm of (weight - projection)\n",
      "(features.0.weight): 0.3435\n",
      "(features.3.weight): 0.5913\n",
      "(features.6.weight): 0.6557\n",
      "(features.8.weight): 0.7557\n",
      "(features.10.weight): 0.8654\n",
      "(classifier.1.weight): 0.9198\n",
      "(classifier.4.weight): 0.9618\n",
      "(classifier.6.weight): 0.7191\n"
     ]
    },
    {
     "name": "stderr",
     "output_type": "stream",
     "text": [
      "  0%|          | 0/223 [00:00<?, ?it/s]"
     ]
    },
    {
     "name": "stdout",
     "output_type": "stream",
     "text": [
      "\n",
      "Test set: Average loss: 1.4392, Accuracy: 6956/10000 (70%)\n",
      "\n",
      "Epoch: 114\n"
     ]
    },
    {
     "name": "stderr",
     "output_type": "stream",
     "text": [
      "100%|██████████| 223/223 [00:20<00:00, 11.17it/s]\n"
     ]
    },
    {
     "name": "stdout",
     "output_type": "stream",
     "text": [
      "normalized norm of (weight - projection)\n",
      "(features.0.weight): 0.3404\n",
      "(features.3.weight): 0.5865\n",
      "(features.6.weight): 0.6436\n",
      "(features.8.weight): 0.7532\n",
      "(features.10.weight): 0.8783\n",
      "(classifier.1.weight): 0.9402\n",
      "(classifier.4.weight): 0.9718\n",
      "(classifier.6.weight): 0.7140\n"
     ]
    },
    {
     "name": "stderr",
     "output_type": "stream",
     "text": [
      "  0%|          | 0/320 [00:00<?, ?it/s]"
     ]
    },
    {
     "name": "stdout",
     "output_type": "stream",
     "text": [
      "\n",
      "Test set: Average loss: 1.5152, Accuracy: 6922/10000 (69%)\n",
      "\n",
      "Epoch: 114\n"
     ]
    },
    {
     "name": "stderr",
     "output_type": "stream",
     "text": [
      "100%|██████████| 320/320 [00:28<00:00, 10.71it/s]\n"
     ]
    },
    {
     "name": "stdout",
     "output_type": "stream",
     "text": [
      "normalized norm of (weight - projection)\n",
      "(features.0.weight): 0.3406\n",
      "(features.3.weight): 0.5864\n",
      "(features.6.weight): 0.6505\n",
      "(features.8.weight): 0.7541\n",
      "(features.10.weight): 0.8662\n",
      "(classifier.1.weight): 0.9203\n",
      "(classifier.4.weight): 0.9623\n",
      "(classifier.6.weight): 0.7204\n"
     ]
    },
    {
     "name": "stderr",
     "output_type": "stream",
     "text": [
      "  0%|          | 0/320 [00:00<?, ?it/s]"
     ]
    },
    {
     "name": "stdout",
     "output_type": "stream",
     "text": [
      "\n",
      "Test set: Average loss: 1.3925, Accuracy: 6909/10000 (69%)\n",
      "\n",
      "Epoch: 115\n"
     ]
    },
    {
     "name": "stderr",
     "output_type": "stream",
     "text": [
      "100%|██████████| 320/320 [00:28<00:00, 11.41it/s]\n"
     ]
    },
    {
     "name": "stdout",
     "output_type": "stream",
     "text": [
      "normalized norm of (weight - projection)\n",
      "(features.0.weight): 0.3391\n",
      "(features.3.weight): 0.5837\n",
      "(features.6.weight): 0.6476\n",
      "(features.8.weight): 0.7517\n",
      "(features.10.weight): 0.8662\n",
      "(classifier.1.weight): 0.9205\n",
      "(classifier.4.weight): 0.9623\n",
      "(classifier.6.weight): 0.7172\n"
     ]
    },
    {
     "name": "stderr",
     "output_type": "stream",
     "text": [
      "  0%|          | 0/223 [00:00<?, ?it/s]"
     ]
    },
    {
     "name": "stdout",
     "output_type": "stream",
     "text": [
      "\n",
      "Test set: Average loss: 1.4405, Accuracy: 7004/10000 (70%)\n",
      "\n",
      "Epoch: 115\n"
     ]
    },
    {
     "name": "stderr",
     "output_type": "stream",
     "text": [
      "100%|██████████| 223/223 [00:19<00:00, 11.38it/s]\n"
     ]
    },
    {
     "name": "stdout",
     "output_type": "stream",
     "text": [
      "normalized norm of (weight - projection)\n",
      "(features.0.weight): 0.3413\n",
      "(features.3.weight): 0.5851\n",
      "(features.6.weight): 0.6484\n",
      "(features.8.weight): 0.7627\n",
      "(features.10.weight): 0.8841\n",
      "(classifier.1.weight): 0.9440\n",
      "(classifier.4.weight): 0.9761\n",
      "(classifier.6.weight): 0.7166\n"
     ]
    },
    {
     "name": "stderr",
     "output_type": "stream",
     "text": [
      "  0%|          | 0/320 [00:00<?, ?it/s]"
     ]
    },
    {
     "name": "stdout",
     "output_type": "stream",
     "text": [
      "\n",
      "Test set: Average loss: 1.3617, Accuracy: 6963/10000 (70%)\n",
      "\n",
      "Epoch: 116\n"
     ]
    },
    {
     "name": "stderr",
     "output_type": "stream",
     "text": [
      "100%|██████████| 320/320 [00:27<00:00, 11.46it/s]\n"
     ]
    },
    {
     "name": "stdout",
     "output_type": "stream",
     "text": [
      "normalized norm of (weight - projection)\n",
      "(features.0.weight): 0.3386\n",
      "(features.3.weight): 0.5838\n",
      "(features.6.weight): 0.6481\n",
      "(features.8.weight): 0.7523\n",
      "(features.10.weight): 0.8696\n",
      "(classifier.1.weight): 0.9211\n",
      "(classifier.4.weight): 0.9620\n",
      "(classifier.6.weight): 0.7196\n"
     ]
    },
    {
     "name": "stderr",
     "output_type": "stream",
     "text": [
      "  0%|          | 0/223 [00:00<?, ?it/s]"
     ]
    },
    {
     "name": "stdout",
     "output_type": "stream",
     "text": [
      "\n",
      "Test set: Average loss: 1.4771, Accuracy: 6900/10000 (69%)\n",
      "\n",
      "Epoch: 116\n"
     ]
    },
    {
     "name": "stderr",
     "output_type": "stream",
     "text": [
      "100%|██████████| 223/223 [00:19<00:00, 11.46it/s]\n"
     ]
    },
    {
     "name": "stdout",
     "output_type": "stream",
     "text": [
      "normalized norm of (weight - projection)\n",
      "(features.0.weight): 0.3387\n",
      "(features.3.weight): 0.5820\n",
      "(features.6.weight): 0.6445\n",
      "(features.8.weight): 0.7600\n",
      "(features.10.weight): 0.8846\n",
      "(classifier.1.weight): 0.9436\n",
      "(classifier.4.weight): 0.9759\n",
      "(classifier.6.weight): 0.7170\n"
     ]
    },
    {
     "name": "stderr",
     "output_type": "stream",
     "text": [
      "  0%|          | 0/320 [00:00<?, ?it/s]"
     ]
    },
    {
     "name": "stdout",
     "output_type": "stream",
     "text": [
      "\n",
      "Test set: Average loss: 1.3880, Accuracy: 6944/10000 (69%)\n",
      "\n",
      "Epoch: 117\n"
     ]
    },
    {
     "name": "stderr",
     "output_type": "stream",
     "text": [
      "100%|██████████| 320/320 [00:28<00:00, 11.34it/s]\n"
     ]
    },
    {
     "name": "stdout",
     "output_type": "stream",
     "text": [
      "normalized norm of (weight - projection)\n",
      "(features.0.weight): 0.3382\n",
      "(features.3.weight): 0.5844\n",
      "(features.6.weight): 0.6480\n",
      "(features.8.weight): 0.7508\n",
      "(features.10.weight): 0.8679\n",
      "(classifier.1.weight): 0.9208\n",
      "(classifier.4.weight): 0.9620\n",
      "(classifier.6.weight): 0.7189\n"
     ]
    },
    {
     "name": "stderr",
     "output_type": "stream",
     "text": [
      "  0%|          | 0/223 [00:00<?, ?it/s]"
     ]
    },
    {
     "name": "stdout",
     "output_type": "stream",
     "text": [
      "\n",
      "Test set: Average loss: 1.4096, Accuracy: 6992/10000 (70%)\n",
      "\n",
      "Epoch: 117\n"
     ]
    },
    {
     "name": "stderr",
     "output_type": "stream",
     "text": [
      "100%|██████████| 223/223 [00:19<00:00, 10.93it/s]\n"
     ]
    },
    {
     "name": "stdout",
     "output_type": "stream",
     "text": [
      "normalized norm of (weight - projection)\n",
      "(features.0.weight): 0.3379\n",
      "(features.3.weight): 0.5824\n",
      "(features.6.weight): 0.6441\n",
      "(features.8.weight): 0.7582\n",
      "(features.10.weight): 0.8828\n",
      "(classifier.1.weight): 0.9434\n",
      "(classifier.4.weight): 0.9758\n",
      "(classifier.6.weight): 0.7195\n"
     ]
    },
    {
     "name": "stderr",
     "output_type": "stream",
     "text": [
      "  0%|          | 0/320 [00:00<?, ?it/s]"
     ]
    },
    {
     "name": "stdout",
     "output_type": "stream",
     "text": [
      "\n",
      "Test set: Average loss: 1.3665, Accuracy: 6993/10000 (70%)\n",
      "\n",
      "Epoch: 118\n"
     ]
    },
    {
     "name": "stderr",
     "output_type": "stream",
     "text": [
      "100%|██████████| 320/320 [00:28<00:00, 11.34it/s]\n"
     ]
    },
    {
     "name": "stdout",
     "output_type": "stream",
     "text": [
      "normalized norm of (weight - projection)\n",
      "(features.0.weight): 0.3371\n",
      "(features.3.weight): 0.5833\n",
      "(features.6.weight): 0.6470\n",
      "(features.8.weight): 0.7506\n",
      "(features.10.weight): 0.8666\n",
      "(classifier.1.weight): 0.9196\n",
      "(classifier.4.weight): 0.9619\n",
      "(classifier.6.weight): 0.7177\n"
     ]
    },
    {
     "name": "stderr",
     "output_type": "stream",
     "text": [
      "  0%|          | 0/223 [00:00<?, ?it/s]"
     ]
    },
    {
     "name": "stdout",
     "output_type": "stream",
     "text": [
      "\n",
      "Test set: Average loss: 1.4636, Accuracy: 6931/10000 (69%)\n",
      "\n",
      "Epoch: 118\n"
     ]
    },
    {
     "name": "stderr",
     "output_type": "stream",
     "text": [
      "100%|██████████| 223/223 [00:20<00:00, 11.32it/s]\n"
     ]
    },
    {
     "name": "stdout",
     "output_type": "stream",
     "text": [
      "normalized norm of (weight - projection)\n",
      "(features.0.weight): 0.3395\n",
      "(features.3.weight): 0.5843\n",
      "(features.6.weight): 0.6413\n",
      "(features.8.weight): 0.7519\n",
      "(features.10.weight): 0.8798\n",
      "(classifier.1.weight): 0.9406\n",
      "(classifier.4.weight): 0.9719\n",
      "(classifier.6.weight): 0.7194\n"
     ]
    },
    {
     "name": "stderr",
     "output_type": "stream",
     "text": [
      "  0%|          | 0/320 [00:00<?, ?it/s]"
     ]
    },
    {
     "name": "stdout",
     "output_type": "stream",
     "text": [
      "\n",
      "Test set: Average loss: 1.4775, Accuracy: 6950/10000 (70%)\n",
      "\n",
      "Epoch: 119\n"
     ]
    },
    {
     "name": "stderr",
     "output_type": "stream",
     "text": [
      "100%|██████████| 320/320 [00:29<00:00, 11.57it/s]\n"
     ]
    },
    {
     "name": "stdout",
     "output_type": "stream",
     "text": [
      "normalized norm of (weight - projection)\n",
      "(features.0.weight): 0.3367\n",
      "(features.3.weight): 0.5834\n",
      "(features.6.weight): 0.6467\n",
      "(features.8.weight): 0.7527\n",
      "(features.10.weight): 0.8688\n",
      "(classifier.1.weight): 0.9203\n",
      "(classifier.4.weight): 0.9620\n",
      "(classifier.6.weight): 0.7155\n"
     ]
    },
    {
     "name": "stderr",
     "output_type": "stream",
     "text": [
      "  0%|          | 0/223 [00:00<?, ?it/s]"
     ]
    },
    {
     "name": "stdout",
     "output_type": "stream",
     "text": [
      "\n",
      "Test set: Average loss: 1.4493, Accuracy: 6926/10000 (69%)\n",
      "\n",
      "Epoch: 119\n"
     ]
    },
    {
     "name": "stderr",
     "output_type": "stream",
     "text": [
      "100%|██████████| 223/223 [00:19<00:00, 11.41it/s]\n"
     ]
    },
    {
     "name": "stdout",
     "output_type": "stream",
     "text": [
      "normalized norm of (weight - projection)\n",
      "(features.0.weight): 0.3369\n",
      "(features.3.weight): 0.5811\n",
      "(features.6.weight): 0.6420\n",
      "(features.8.weight): 0.7569\n",
      "(features.10.weight): 0.8818\n",
      "(classifier.1.weight): 0.9415\n",
      "(classifier.4.weight): 0.9754\n",
      "(classifier.6.weight): 0.7219\n"
     ]
    },
    {
     "name": "stderr",
     "output_type": "stream",
     "text": [
      "  0%|          | 0/223 [00:00<?, ?it/s]"
     ]
    },
    {
     "name": "stdout",
     "output_type": "stream",
     "text": [
      "\n",
      "Test set: Average loss: 1.3937, Accuracy: 6988/10000 (70%)\n",
      "\n",
      "Epoch: 120\n"
     ]
    },
    {
     "name": "stderr",
     "output_type": "stream",
     "text": [
      "100%|██████████| 223/223 [00:19<00:00, 11.25it/s]\n"
     ]
    },
    {
     "name": "stdout",
     "output_type": "stream",
     "text": [
      "normalized norm of (weight - projection)\n",
      "(features.0.weight): 0.3369\n",
      "(features.3.weight): 0.5809\n",
      "(features.6.weight): 0.6366\n",
      "(features.8.weight): 0.7482\n",
      "(features.10.weight): 0.8790\n",
      "(classifier.1.weight): 0.9401\n",
      "(classifier.4.weight): 0.9717\n",
      "(classifier.6.weight): 0.7258\n"
     ]
    },
    {
     "name": "stderr",
     "output_type": "stream",
     "text": [
      "  0%|          | 0/320 [00:00<?, ?it/s]"
     ]
    },
    {
     "name": "stdout",
     "output_type": "stream",
     "text": [
      "\n",
      "Test set: Average loss: 1.4591, Accuracy: 6992/10000 (70%)\n",
      "\n",
      "Epoch: 120\n"
     ]
    },
    {
     "name": "stderr",
     "output_type": "stream",
     "text": [
      "100%|██████████| 320/320 [00:28<00:00, 11.34it/s]\n"
     ]
    },
    {
     "name": "stdout",
     "output_type": "stream",
     "text": [
      "normalized norm of (weight - projection)\n",
      "(features.0.weight): 0.3355\n",
      "(features.3.weight): 0.5829\n",
      "(features.6.weight): 0.6458\n",
      "(features.8.weight): 0.7502\n",
      "(features.10.weight): 0.8666\n",
      "(classifier.1.weight): 0.9192\n",
      "(classifier.4.weight): 0.9614\n",
      "(classifier.6.weight): 0.7187\n"
     ]
    },
    {
     "name": "stderr",
     "output_type": "stream",
     "text": [
      "  0%|          | 0/223 [00:00<?, ?it/s]"
     ]
    },
    {
     "name": "stdout",
     "output_type": "stream",
     "text": [
      "\n",
      "Test set: Average loss: 1.4980, Accuracy: 6934/10000 (69%)\n",
      "\n",
      "Epoch: 121\n"
     ]
    },
    {
     "name": "stderr",
     "output_type": "stream",
     "text": [
      "100%|██████████| 223/223 [00:19<00:00, 11.28it/s]\n"
     ]
    },
    {
     "name": "stdout",
     "output_type": "stream",
     "text": [
      "normalized norm of (weight - projection)\n",
      "(features.0.weight): 0.3350\n",
      "(features.3.weight): 0.5791\n",
      "(features.6.weight): 0.6344\n",
      "(features.8.weight): 0.7463\n",
      "(features.10.weight): 0.8785\n",
      "(classifier.1.weight): 0.9396\n",
      "(classifier.4.weight): 0.9714\n",
      "(classifier.6.weight): 0.7309\n"
     ]
    },
    {
     "name": "stderr",
     "output_type": "stream",
     "text": [
      "  0%|          | 0/223 [00:00<?, ?it/s]"
     ]
    },
    {
     "name": "stdout",
     "output_type": "stream",
     "text": [
      "\n",
      "Test set: Average loss: 1.4403, Accuracy: 7014/10000 (70%)\n",
      "\n",
      "Epoch: 121\n"
     ]
    },
    {
     "name": "stderr",
     "output_type": "stream",
     "text": [
      "100%|██████████| 223/223 [00:19<00:00, 11.35it/s]\n"
     ]
    },
    {
     "name": "stdout",
     "output_type": "stream",
     "text": [
      "normalized norm of (weight - projection)\n",
      "(features.0.weight): 0.3358\n",
      "(features.3.weight): 0.5806\n",
      "(features.6.weight): 0.6418\n",
      "(features.8.weight): 0.7576\n",
      "(features.10.weight): 0.8839\n",
      "(classifier.1.weight): 0.9431\n",
      "(classifier.4.weight): 0.9756\n",
      "(classifier.6.weight): 0.7196\n"
     ]
    },
    {
     "name": "stderr",
     "output_type": "stream",
     "text": [
      "  0%|          | 0/320 [00:00<?, ?it/s]"
     ]
    },
    {
     "name": "stdout",
     "output_type": "stream",
     "text": [
      "\n",
      "Test set: Average loss: 1.3682, Accuracy: 6936/10000 (69%)\n",
      "\n",
      "Epoch: 122\n"
     ]
    },
    {
     "name": "stderr",
     "output_type": "stream",
     "text": [
      "100%|██████████| 320/320 [00:28<00:00, 11.15it/s]\n"
     ]
    },
    {
     "name": "stdout",
     "output_type": "stream",
     "text": [
      "normalized norm of (weight - projection)\n",
      "(features.0.weight): 0.3352\n",
      "(features.3.weight): 0.5816\n",
      "(features.6.weight): 0.6442\n",
      "(features.8.weight): 0.7500\n",
      "(features.10.weight): 0.8687\n",
      "(classifier.1.weight): 0.9201\n",
      "(classifier.4.weight): 0.9618\n",
      "(classifier.6.weight): 0.7164\n"
     ]
    },
    {
     "name": "stderr",
     "output_type": "stream",
     "text": [
      "  0%|          | 0/223 [00:00<?, ?it/s]"
     ]
    },
    {
     "name": "stdout",
     "output_type": "stream",
     "text": [
      "\n",
      "Test set: Average loss: 1.5158, Accuracy: 6903/10000 (69%)\n",
      "\n",
      "Epoch: 122\n"
     ]
    },
    {
     "name": "stderr",
     "output_type": "stream",
     "text": [
      "100%|██████████| 223/223 [00:19<00:00, 10.85it/s]\n"
     ]
    },
    {
     "name": "stdout",
     "output_type": "stream",
     "text": [
      "normalized norm of (weight - projection)\n",
      "(features.0.weight): 0.3348\n",
      "(features.3.weight): 0.5772\n",
      "(features.6.weight): 0.6328\n",
      "(features.8.weight): 0.7454\n",
      "(features.10.weight): 0.8789\n",
      "(classifier.1.weight): 0.9410\n",
      "(classifier.4.weight): 0.9720\n",
      "(classifier.6.weight): 0.7252\n"
     ]
    },
    {
     "name": "stderr",
     "output_type": "stream",
     "text": [
      "  0%|          | 0/320 [00:00<?, ?it/s]"
     ]
    },
    {
     "name": "stdout",
     "output_type": "stream",
     "text": [
      "\n",
      "Test set: Average loss: 1.4189, Accuracy: 6938/10000 (69%)\n",
      "\n",
      "Epoch: 123\n"
     ]
    },
    {
     "name": "stderr",
     "output_type": "stream",
     "text": [
      "100%|██████████| 320/320 [00:27<00:00, 11.49it/s]\n"
     ]
    },
    {
     "name": "stdout",
     "output_type": "stream",
     "text": [
      "normalized norm of (weight - projection)\n",
      "(features.0.weight): 0.3337\n",
      "(features.3.weight): 0.5802\n",
      "(features.6.weight): 0.6433\n",
      "(features.8.weight): 0.7489\n",
      "(features.10.weight): 0.8682\n",
      "(classifier.1.weight): 0.9206\n",
      "(classifier.4.weight): 0.9621\n",
      "(classifier.6.weight): 0.7179\n"
     ]
    },
    {
     "name": "stderr",
     "output_type": "stream",
     "text": [
      "  0%|          | 0/223 [00:00<?, ?it/s]"
     ]
    },
    {
     "name": "stdout",
     "output_type": "stream",
     "text": [
      "\n",
      "Test set: Average loss: 1.4040, Accuracy: 6931/10000 (69%)\n",
      "\n",
      "Epoch: 123\n"
     ]
    },
    {
     "name": "stderr",
     "output_type": "stream",
     "text": [
      "100%|██████████| 223/223 [00:19<00:00, 11.19it/s]\n"
     ]
    },
    {
     "name": "stdout",
     "output_type": "stream",
     "text": [
      "normalized norm of (weight - projection)\n",
      "(features.0.weight): 0.3338\n",
      "(features.3.weight): 0.5773\n",
      "(features.6.weight): 0.6324\n",
      "(features.8.weight): 0.7461\n",
      "(features.10.weight): 0.8798\n",
      "(classifier.1.weight): 0.9398\n",
      "(classifier.4.weight): 0.9717\n",
      "(classifier.6.weight): 0.7287\n"
     ]
    },
    {
     "name": "stderr",
     "output_type": "stream",
     "text": [
      "  0%|          | 0/223 [00:00<?, ?it/s]"
     ]
    },
    {
     "name": "stdout",
     "output_type": "stream",
     "text": [
      "\n",
      "Test set: Average loss: 1.4679, Accuracy: 6867/10000 (69%)\n",
      "\n",
      "Epoch: 124\n"
     ]
    },
    {
     "name": "stderr",
     "output_type": "stream",
     "text": [
      "100%|██████████| 223/223 [00:19<00:00, 10.39it/s]\n"
     ]
    },
    {
     "name": "stdout",
     "output_type": "stream",
     "text": [
      "normalized norm of (weight - projection)\n",
      "(features.0.weight): 0.3328\n",
      "(features.3.weight): 0.5770\n",
      "(features.6.weight): 0.6318\n",
      "(features.8.weight): 0.7439\n",
      "(features.10.weight): 0.8790\n",
      "(classifier.1.weight): 0.9394\n",
      "(classifier.4.weight): 0.9715\n",
      "(classifier.6.weight): 0.7277\n"
     ]
    },
    {
     "name": "stderr",
     "output_type": "stream",
     "text": [
      "  0%|          | 0/223 [00:00<?, ?it/s]"
     ]
    },
    {
     "name": "stdout",
     "output_type": "stream",
     "text": [
      "\n",
      "Test set: Average loss: 1.4456, Accuracy: 6999/10000 (70%)\n",
      "\n",
      "Epoch: 124\n"
     ]
    },
    {
     "name": "stderr",
     "output_type": "stream",
     "text": [
      "100%|██████████| 223/223 [00:18<00:00, 12.24it/s]\n"
     ]
    },
    {
     "name": "stdout",
     "output_type": "stream",
     "text": [
      "normalized norm of (weight - projection)\n",
      "(features.0.weight): 0.3347\n",
      "(features.3.weight): 0.5787\n",
      "(features.6.weight): 0.6398\n",
      "(features.8.weight): 0.7563\n",
      "(features.10.weight): 0.8855\n",
      "(classifier.1.weight): 0.9448\n",
      "(classifier.4.weight): 0.9760\n",
      "(classifier.6.weight): 0.7153\n"
     ]
    },
    {
     "name": "stderr",
     "output_type": "stream",
     "text": [
      "  0%|          | 0/223 [00:00<?, ?it/s]"
     ]
    },
    {
     "name": "stdout",
     "output_type": "stream",
     "text": [
      "\n",
      "Test set: Average loss: 1.4590, Accuracy: 7030/10000 (70%)\n",
      "\n",
      "Epoch: 125\n"
     ]
    },
    {
     "name": "stderr",
     "output_type": "stream",
     "text": [
      "100%|██████████| 223/223 [00:20<00:00, 11.09it/s]\n"
     ]
    },
    {
     "name": "stdout",
     "output_type": "stream",
     "text": [
      "normalized norm of (weight - projection)\n",
      "(features.0.weight): 0.3327\n",
      "(features.3.weight): 0.5774\n",
      "(features.6.weight): 0.6327\n",
      "(features.8.weight): 0.7459\n",
      "(features.10.weight): 0.8810\n",
      "(classifier.1.weight): 0.9420\n",
      "(classifier.4.weight): 0.9720\n",
      "(classifier.6.weight): 0.7221\n"
     ]
    },
    {
     "name": "stderr",
     "output_type": "stream",
     "text": [
      "  0%|          | 0/223 [00:00<?, ?it/s]"
     ]
    },
    {
     "name": "stdout",
     "output_type": "stream",
     "text": [
      "\n",
      "Test set: Average loss: 1.5226, Accuracy: 7072/10000 (71%)\n",
      "\n",
      "Epoch: 125\n"
     ]
    },
    {
     "name": "stderr",
     "output_type": "stream",
     "text": [
      "100%|██████████| 223/223 [00:20<00:00, 11.01it/s]\n"
     ]
    },
    {
     "name": "stdout",
     "output_type": "stream",
     "text": [
      "normalized norm of (weight - projection)\n",
      "(features.0.weight): 0.3323\n",
      "(features.3.weight): 0.5764\n",
      "(features.6.weight): 0.6373\n",
      "(features.8.weight): 0.7539\n",
      "(features.10.weight): 0.8844\n",
      "(classifier.1.weight): 0.9436\n",
      "(classifier.4.weight): 0.9758\n",
      "(classifier.6.weight): 0.7170\n",
      "\n",
      "Test set: Average loss: 1.3831, Accuracy: 6956/10000 (70%)\n",
      "\n"
     ]
    }
   ],
   "source": [
    "mdlz = dict()\n",
    "for usr in range(args.num_users):\n",
    "    train_loader = torch.utils.data.DataLoader(DatasetSplit(trainset, dict_users[usr]), batch_size=args.batch_size, shuffle=True, **kwargs)\n",
    "    if args.model == 'resnet':\n",
    "        model = models.resnet18(pretrained=False).to(device)\n",
    "    else:\n",
    "        model = LeNet().to(device) if args.dataset == \"mnist\" else AlexNet().to(device)\n",
    "    \n",
    "    optimizer = PruneAdam(model.named_parameters(), lr=args.lr, eps=args.adam_epsilon)\n",
    "    pretrain(args, model, device, train_loader, test_loader, optimizer)\n",
    "    Z, U = initialize_Z_and_U(model)\n",
    "    mdlz[usr] = (model, optimizer, Z, U)\n",
    "    \n",
    "for epoch in range(args.num_epochs):\n",
    "    w_locals=[]\n",
    "    idxs_users = np.random.choice(range(args.num_users), 2, replace=False)\n",
    "    for usr in idxs_users:\n",
    "        report = True if usr == 0 else False\n",
    "        train_loader = torch.utils.data.DataLoader(DatasetSplit(trainset, dict_users[usr]), batch_size=args.batch_size, shuffle=True, **kwargs)\n",
    "        train(args, mdlz[usr][0], device, train_loader, test_loader, mdlz[usr][1], mdlz[usr][2], mdlz[usr][3], report=report)\n",
    "        w = mdlz[usr][0].state_dict()\n",
    "        w_locals.append(copy.deepcopy(w))\n",
    "\n",
    "    # update global weights\n",
    "    w_glob = FedAvg(w_locals)\n",
    "\n",
    "    for idx in idxs_users:\n",
    "        # copy weight to net_glob\n",
    "        mdlz[idx][0].load_state_dict(w_glob)"
   ]
  },
  {
   "cell_type": "code",
   "execution_count": 10,
   "metadata": {},
   "outputs": [
    {
     "name": "stdout",
     "output_type": "stream",
     "text": [
      "Apply Pruning based on percentile\n",
      "[at weight features.0.weight]\n",
      "percentage of pruned: 0.0000%\n",
      "nonzero parameters after pruning: 1728 / 1728\n",
      "\n",
      "[at weight features.3.weight]\n",
      "percentage of pruned: 0.0000%\n",
      "nonzero parameters after pruning: 110592 / 110592\n",
      "\n",
      "[at weight features.6.weight]\n",
      "percentage of pruned: 0.0000%\n",
      "nonzero parameters after pruning: 663552 / 663552\n",
      "\n",
      "[at weight features.8.weight]\n",
      "percentage of pruned: 0.0000%\n",
      "nonzero parameters after pruning: 884736 / 884736\n",
      "\n",
      "[at weight features.10.weight]\n",
      "percentage of pruned: 0.0000%\n",
      "nonzero parameters after pruning: 589824 / 589824\n",
      "\n",
      "[at weight classifier.1.weight]\n",
      "percentage of pruned: 0.0000%\n",
      "nonzero parameters after pruning: 4194304 / 4194304\n",
      "\n",
      "[at weight classifier.4.weight]\n",
      "percentage of pruned: 0.0000%\n",
      "nonzero parameters after pruning: 16777216 / 16777216\n",
      "\n",
      "[at weight classifier.6.weight]\n",
      "percentage of pruned: 0.0000%\n",
      "nonzero parameters after pruning: 40960 / 40960\n",
      "\n",
      "total nonzero parameters after pruning: 23272266 / 23272266 (0.0000%)\n"
     ]
    },
    {
     "name": "stderr",
     "output_type": "stream",
     "text": [
      "  0%|          | 0/223 [00:00<?, ?it/s]"
     ]
    },
    {
     "name": "stdout",
     "output_type": "stream",
     "text": [
      "\n",
      "Test set: Average loss: 3.1654, Accuracy: 1747/10000 (17%)\n",
      "\n",
      "Re epoch: 1\n"
     ]
    },
    {
     "name": "stderr",
     "output_type": "stream",
     "text": [
      "100%|██████████| 223/223 [00:07<00:00, 29.96it/s]\n",
      "  0%|          | 0/223 [00:00<?, ?it/s]"
     ]
    },
    {
     "name": "stdout",
     "output_type": "stream",
     "text": [
      "\n",
      "Test set: Average loss: 1.7493, Accuracy: 7136/10000 (71%)\n",
      "\n",
      "Re epoch: 2\n"
     ]
    },
    {
     "name": "stderr",
     "output_type": "stream",
     "text": [
      "100%|██████████| 223/223 [00:07<00:00, 30.86it/s]\n",
      "  0%|          | 0/223 [00:00<?, ?it/s]"
     ]
    },
    {
     "name": "stdout",
     "output_type": "stream",
     "text": [
      "\n",
      "Test set: Average loss: 1.9448, Accuracy: 7114/10000 (71%)\n",
      "\n",
      "Re epoch: 3\n"
     ]
    },
    {
     "name": "stderr",
     "output_type": "stream",
     "text": [
      "100%|██████████| 223/223 [00:07<00:00, 30.14it/s]\n",
      "  0%|          | 0/223 [00:00<?, ?it/s]"
     ]
    },
    {
     "name": "stdout",
     "output_type": "stream",
     "text": [
      "\n",
      "Test set: Average loss: 2.0576, Accuracy: 7097/10000 (71%)\n",
      "\n",
      "Re epoch: 4\n"
     ]
    },
    {
     "name": "stderr",
     "output_type": "stream",
     "text": [
      "100%|██████████| 223/223 [00:07<00:00, 29.90it/s]\n",
      "  0%|          | 0/223 [00:00<?, ?it/s]"
     ]
    },
    {
     "name": "stdout",
     "output_type": "stream",
     "text": [
      "\n",
      "Test set: Average loss: 1.9541, Accuracy: 7047/10000 (70%)\n",
      "\n",
      "Re epoch: 5\n"
     ]
    },
    {
     "name": "stderr",
     "output_type": "stream",
     "text": [
      "100%|██████████| 223/223 [00:07<00:00, 30.22it/s]\n"
     ]
    },
    {
     "name": "stdout",
     "output_type": "stream",
     "text": [
      "\n",
      "Test set: Average loss: 1.9073, Accuracy: 6978/10000 (70%)\n",
      "\n",
      "Apply Pruning based on percentile\n",
      "[at weight features.0.weight]\n",
      "percentage of pruned: 0.0000%\n",
      "nonzero parameters after pruning: 1728 / 1728\n",
      "\n",
      "[at weight features.3.weight]\n",
      "percentage of pruned: 0.0000%\n",
      "nonzero parameters after pruning: 110592 / 110592\n",
      "\n",
      "[at weight features.6.weight]\n",
      "percentage of pruned: 0.0000%\n",
      "nonzero parameters after pruning: 663552 / 663552\n",
      "\n",
      "[at weight features.8.weight]\n",
      "percentage of pruned: 0.0000%\n",
      "nonzero parameters after pruning: 884736 / 884736\n",
      "\n",
      "[at weight features.10.weight]\n",
      "percentage of pruned: 0.0000%\n",
      "nonzero parameters after pruning: 589824 / 589824\n",
      "\n",
      "[at weight classifier.1.weight]\n",
      "percentage of pruned: 0.0000%\n",
      "nonzero parameters after pruning: 4194304 / 4194304\n",
      "\n",
      "[at weight classifier.4.weight]\n",
      "percentage of pruned: 0.0000%\n",
      "nonzero parameters after pruning: 16777216 / 16777216\n",
      "\n",
      "[at weight classifier.6.weight]\n",
      "percentage of pruned: 0.0000%\n",
      "nonzero parameters after pruning: 40960 / 40960\n",
      "\n",
      "total nonzero parameters after pruning: 23272266 / 23272266 (0.0000%)\n"
     ]
    },
    {
     "name": "stderr",
     "output_type": "stream",
     "text": [
      "  0%|          | 0/223 [00:00<?, ?it/s]"
     ]
    },
    {
     "name": "stdout",
     "output_type": "stream",
     "text": [
      "\n",
      "Test set: Average loss: 3.4396, Accuracy: 1716/10000 (17%)\n",
      "\n",
      "Re epoch: 1\n"
     ]
    },
    {
     "name": "stderr",
     "output_type": "stream",
     "text": [
      "100%|██████████| 223/223 [00:07<00:00, 30.71it/s]\n",
      "  0%|          | 0/223 [00:00<?, ?it/s]"
     ]
    },
    {
     "name": "stdout",
     "output_type": "stream",
     "text": [
      "\n",
      "Test set: Average loss: 1.7150, Accuracy: 6969/10000 (70%)\n",
      "\n",
      "Re epoch: 2\n"
     ]
    },
    {
     "name": "stderr",
     "output_type": "stream",
     "text": [
      "100%|██████████| 223/223 [00:07<00:00, 29.98it/s]\n",
      "  0%|          | 0/223 [00:00<?, ?it/s]"
     ]
    },
    {
     "name": "stdout",
     "output_type": "stream",
     "text": [
      "\n",
      "Test set: Average loss: 1.9051, Accuracy: 7077/10000 (71%)\n",
      "\n",
      "Re epoch: 3\n"
     ]
    },
    {
     "name": "stderr",
     "output_type": "stream",
     "text": [
      "100%|██████████| 223/223 [00:07<00:00, 29.90it/s]\n",
      "  0%|          | 0/223 [00:00<?, ?it/s]"
     ]
    },
    {
     "name": "stdout",
     "output_type": "stream",
     "text": [
      "\n",
      "Test set: Average loss: 2.1301, Accuracy: 7014/10000 (70%)\n",
      "\n",
      "Re epoch: 4\n"
     ]
    },
    {
     "name": "stderr",
     "output_type": "stream",
     "text": [
      "100%|██████████| 223/223 [00:07<00:00, 29.91it/s]\n",
      "  0%|          | 0/223 [00:00<?, ?it/s]"
     ]
    },
    {
     "name": "stdout",
     "output_type": "stream",
     "text": [
      "\n",
      "Test set: Average loss: 1.9211, Accuracy: 7078/10000 (71%)\n",
      "\n",
      "Re epoch: 5\n"
     ]
    },
    {
     "name": "stderr",
     "output_type": "stream",
     "text": [
      "100%|██████████| 223/223 [00:07<00:00, 30.23it/s]\n"
     ]
    },
    {
     "name": "stdout",
     "output_type": "stream",
     "text": [
      "\n",
      "Test set: Average loss: 2.1536, Accuracy: 7033/10000 (70%)\n",
      "\n",
      "Apply Pruning based on percentile\n",
      "[at weight features.0.weight]\n",
      "percentage of pruned: 79.9769%\n",
      "nonzero parameters after pruning: 346 / 1728\n",
      "\n",
      "[at weight features.3.weight]\n",
      "percentage of pruned: 91.9994%\n",
      "nonzero parameters after pruning: 8848 / 110592\n",
      "\n",
      "[at weight features.6.weight]\n",
      "percentage of pruned: 92.9999%\n",
      "nonzero parameters after pruning: 46449 / 663552\n",
      "\n",
      "[at weight features.8.weight]\n",
      "percentage of pruned: 93.9999%\n",
      "nonzero parameters after pruning: 53085 / 884736\n",
      "\n",
      "[at weight features.10.weight]\n",
      "percentage of pruned: 94.9999%\n",
      "nonzero parameters after pruning: 29492 / 589824\n",
      "\n",
      "[at weight classifier.1.weight]\n",
      "percentage of pruned: 99.0000%\n",
      "nonzero parameters after pruning: 41944 / 4194304\n",
      "\n",
      "[at weight classifier.4.weight]\n",
      "percentage of pruned: 99.0000%\n",
      "nonzero parameters after pruning: 167773 / 16777216\n",
      "\n",
      "[at weight classifier.6.weight]\n",
      "percentage of pruned: 92.9980%\n",
      "nonzero parameters after pruning: 2868 / 40960\n",
      "\n",
      "total nonzero parameters after pruning: 360159 / 23272266 (98.4524%)\n"
     ]
    },
    {
     "name": "stderr",
     "output_type": "stream",
     "text": [
      "  0%|          | 0/223 [00:00<?, ?it/s]"
     ]
    },
    {
     "name": "stdout",
     "output_type": "stream",
     "text": [
      "\n",
      "Test set: Average loss: 5.1372, Accuracy: 1797/10000 (18%)\n",
      "\n",
      "Re epoch: 1\n"
     ]
    },
    {
     "name": "stderr",
     "output_type": "stream",
     "text": [
      "100%|██████████| 223/223 [00:07<00:00, 30.85it/s]\n",
      "  0%|          | 0/223 [00:00<?, ?it/s]"
     ]
    },
    {
     "name": "stdout",
     "output_type": "stream",
     "text": [
      "\n",
      "Test set: Average loss: 1.0723, Accuracy: 6511/10000 (65%)\n",
      "\n",
      "Re epoch: 2\n"
     ]
    },
    {
     "name": "stderr",
     "output_type": "stream",
     "text": [
      "100%|██████████| 223/223 [00:07<00:00, 29.97it/s]\n",
      "  0%|          | 0/223 [00:00<?, ?it/s]"
     ]
    },
    {
     "name": "stdout",
     "output_type": "stream",
     "text": [
      "\n",
      "Test set: Average loss: 1.1305, Accuracy: 6725/10000 (67%)\n",
      "\n",
      "Re epoch: 3\n"
     ]
    },
    {
     "name": "stderr",
     "output_type": "stream",
     "text": [
      "100%|██████████| 223/223 [00:07<00:00, 29.82it/s]\n",
      "  0%|          | 0/223 [00:00<?, ?it/s]"
     ]
    },
    {
     "name": "stdout",
     "output_type": "stream",
     "text": [
      "\n",
      "Test set: Average loss: 1.2641, Accuracy: 6790/10000 (68%)\n",
      "\n",
      "Re epoch: 4\n"
     ]
    },
    {
     "name": "stderr",
     "output_type": "stream",
     "text": [
      "100%|██████████| 223/223 [00:07<00:00, 30.01it/s]\n",
      "  0%|          | 0/223 [00:00<?, ?it/s]"
     ]
    },
    {
     "name": "stdout",
     "output_type": "stream",
     "text": [
      "\n",
      "Test set: Average loss: 1.4576, Accuracy: 6741/10000 (67%)\n",
      "\n",
      "Re epoch: 5\n"
     ]
    },
    {
     "name": "stderr",
     "output_type": "stream",
     "text": [
      "100%|██████████| 223/223 [00:07<00:00, 30.11it/s]\n"
     ]
    },
    {
     "name": "stdout",
     "output_type": "stream",
     "text": [
      "\n",
      "Test set: Average loss: 1.6639, Accuracy: 6680/10000 (67%)\n",
      "\n"
     ]
    }
   ],
   "source": [
    "### Apply pruning\n",
    "for usr in range(args.num_users):\n",
    "    mask = apply_l1_prune(mdlz[usr][0], device, args) if args.l1 else apply_prune(mdlz[usr][0], device, args)\n",
    "    print_prune(model)\n",
    "    test(args, mdlz[usr][0], device, test_loader)\n",
    "    retrain(args, model, mask, device, train_loader, test_loader, optimizer)"
   ]
  },
  {
   "cell_type": "markdown",
   "metadata": {},
   "source": [
    "# Testing ground"
   ]
  },
  {
   "cell_type": "code",
   "execution_count": 8,
   "metadata": {},
   "outputs": [],
   "source": [
    "from torch.utils.data import DataLoader\n",
    "import torch.nn.functional as F\n",
    "\n",
    "confusion_matrix = torch.zeros(10, 10)\n",
    "mdlz[0][0].eval()\n",
    "# testing\n",
    "test_loss = 0\n",
    "correct = 0\n",
    "\n",
    "l = len(test_loader)\n",
    "for idx, (data, target) in enumerate(test_loader):\n",
    "    if use_cuda:\n",
    "        data, target = data.to(device), target.to(device)\n",
    "    log_probs = mdlz[0][0](data)\n",
    "    # sum up batch loss\n",
    "    test_loss += F.cross_entropy(log_probs, target, reduction='sum').item()\n",
    "    # get the index of the max log-probability\n",
    "    y_pred = log_probs.data.max(1, keepdim=True)[1]\n",
    "    correct += y_pred.eq(target.data.view_as(y_pred)).long().cpu().sum()\n",
    "\n",
    "    for t, p in zip(target.data, y_pred.view(-1)):\n",
    "                confusion_matrix[t.long(), p.long()] += 1"
   ]
  },
  {
   "cell_type": "code",
   "execution_count": 9,
   "metadata": {},
   "outputs": [
    {
     "name": "stdout",
     "output_type": "stream",
     "text": [
      "tensor([[726.,  11.,  76.,  31.,  22.,   4.,   4.,   9.,  91.,  26.],\n",
      "        [ 18., 841.,   7.,  10.,   2.,   4.,  13.,   1.,  41.,  63.],\n",
      "        [ 59.,   5., 608.,  70., 104.,  45.,  52.,  21.,  23.,  13.],\n",
      "        [ 26.,   8.,  94., 514.,  83., 142.,  52.,  39.,  24.,  18.],\n",
      "        [ 18.,   2.,  81.,  64., 697.,  33.,  40.,  47.,  15.,   3.],\n",
      "        [ 12.,   4.,  60., 195.,  63., 568.,  21.,  48.,  18.,  11.],\n",
      "        [  8.,   5.,  53.,  84.,  50.,  14., 769.,   6.,   9.,   2.],\n",
      "        [ 23.,   3.,  46.,  42.,  88.,  56.,   8., 707.,   7.,  20.],\n",
      "        [ 38.,  23.,  11.,  16.,   2.,   9.,   3.,   2., 883.,  13.],\n",
      "        [ 40., 111.,   7.,  21.,   4.,   0.,   4.,  12.,  45., 756.]])\n"
     ]
    }
   ],
   "source": [
    "print(confusion_matrix)"
   ]
  },
  {
   "cell_type": "code",
   "execution_count": 8,
   "metadata": {},
   "outputs": [],
   "source": [
    "from torch.utils.data import DataLoader\n",
    "import torch.nn.functional as F\n",
    "\n",
    "confusion_matrix = torch.zeros(10, 10)\n",
    "mdlz[0][0].eval()\n",
    "# testing\n",
    "test_loss = 0\n",
    "correct = 0\n",
    "\n",
    "l = len(test_loader)\n",
    "for idx, (data, target) in enumerate(test_loader):\n",
    "    if use_cuda:\n",
    "        data, target = data.to(device), target.to(device)\n",
    "    log_probs = mdlz[0][0](data)\n",
    "    # sum up batch loss\n",
    "    test_loss += F.cross_entropy(log_probs, target, reduction='sum').item()\n",
    "    # get the index of the max log-probability\n",
    "    y_pred = log_probs.data.max(1, keepdim=True)[1]\n",
    "    correct += y_pred.eq(target.data.view_as(y_pred)).long().cpu().sum()\n",
    "\n",
    "    for t, p in zip(target.data, y_pred.view(-1)):\n",
    "                confusion_matrix[t.long(), p.long()] += 1"
   ]
  },
  {
   "cell_type": "code",
   "execution_count": 9,
   "metadata": {},
   "outputs": [
    {
     "name": "stdout",
     "output_type": "stream",
     "text": [
      "tensor([[784.,  14.,  44.,  29.,  11.,   8.,   4.,  10.,  71.,  25.],\n",
      "        [ 10., 831.,   4.,  14.,   1.,   1.,   9.,   2.,  43.,  85.],\n",
      "        [ 80.,   6., 630.,  88.,  59.,  45.,  50.,  24.,  11.,   7.],\n",
      "        [ 31.,  17.,  65., 535.,  46., 172.,  54.,  37.,  28.,  15.],\n",
      "        [ 35.,   2.,  87.,  93., 625.,  44.,  38.,  65.,   9.,   2.],\n",
      "        [ 14.,   7.,  51., 205.,  40., 590.,  17.,  49.,  14.,  13.],\n",
      "        [  8.,   5.,  47.,  97.,  33.,  34., 764.,   3.,   6.,   3.],\n",
      "        [ 18.,   4.,  27.,  60.,  47.,  70.,   6., 749.,   5.,  14.],\n",
      "        [ 75.,  20.,   2.,  21.,   5.,   6.,   5.,   4., 844.,  18.],\n",
      "        [ 32.,  80.,   9.,  28.,   2.,   8.,   3.,  18.,  25., 795.]])\n"
     ]
    }
   ],
   "source": [
    "print(confusion_matrix)"
   ]
  },
  {
   "cell_type": "code",
   "execution_count": null,
   "metadata": {},
   "outputs": [],
   "source": []
  }
 ],
 "metadata": {
  "kernelspec": {
   "display_name": "Python 3",
   "language": "python",
   "name": "python3"
  },
  "language_info": {
   "codemirror_mode": {
    "name": "ipython",
    "version": 3
   },
   "file_extension": ".py",
   "mimetype": "text/x-python",
   "name": "python",
   "nbconvert_exporter": "python",
   "pygments_lexer": "ipython3",
   "version": "3.6.8"
  }
 },
 "nbformat": 4,
 "nbformat_minor": 2
}
